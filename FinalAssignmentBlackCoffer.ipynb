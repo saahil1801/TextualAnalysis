{
 "cells": [
  {
   "cell_type": "code",
   "execution_count": 4,
   "id": "f66d3bdb",
   "metadata": {},
   "outputs": [
    {
     "name": "stderr",
     "output_type": "stream",
     "text": [
      "[nltk_data] Downloading package punkt to\n",
      "[nltk_data]     C:\\Users\\saahi\\AppData\\Roaming\\nltk_data...\n",
      "[nltk_data]   Package punkt is already up-to-date!\n",
      "[nltk_data] Downloading package cmudict to\n",
      "[nltk_data]     C:\\Users\\saahi\\AppData\\Roaming\\nltk_data...\n",
      "[nltk_data]   Package cmudict is already up-to-date!\n"
     ]
    }
   ],
   "source": [
    "import nltk\n",
    "from nltk.tokenize import word_tokenize\n",
    "from string import punctuation\n",
    "from collections import Counter\n",
    "from nltk.tokenize import sent_tokenize\n",
    "nltk.download('punkt')\n",
    "nltk.download('cmudict')\n",
    "from nltk.tokenize import word_tokenize\n",
    "from nltk.corpus import cmudict"
   ]
  },
  {
   "cell_type": "code",
   "execution_count": 5,
   "id": "ad9a1bb5",
   "metadata": {},
   "outputs": [],
   "source": [
    "import pandas as pd\n",
    "import numpy as np\n",
    "from selenium.webdriver.chrome.options import Options\n",
    "chrome_options = Options()\n",
    "chrome_options.add_argument('--headless')\n",
    "from selenium.webdriver.support.ui import  \n",
    "from selenium.webdriver.support import expected_conditions as EC\n",
    "from selenium.webdriver.common.by import By\n",
    "from selenium.common.exceptions import TimeoutException"
   ]
  },
  {
   "cell_type": "code",
   "execution_count": 7,
   "id": "14f84079",
   "metadata": {},
   "outputs": [],
   "source": [
    "pronouncing_dict = cmudict.dict()"
   ]
  },
  {
   "cell_type": "code",
   "execution_count": 8,
   "id": "92fba0bb",
   "metadata": {},
   "outputs": [],
   "source": [
    "stowords1 = open(\"StopWords_Auditor.txt\", \"r\")\n",
    "stopw1 = stowords1.read()\n",
    "stopw1 = stopw1.split(\"\\n\")\n",
    "stowords2 = open(\"StopWords_Currencies.txt\", \"r\")\n",
    "stopw2 = stowords2.read()\n",
    "stopw2 = stopw2.split(\"\\n\")\n",
    "stowords3 = open(\"StopWords_DatesandNumbers.txt\", \"r\")\n",
    "stopw3 = stowords3.read()\n",
    "stopw3 = stopw3.split(\"\\n\")\n",
    "stowords4 = open(\"StopWords_Generic.txt\", \"r\")\n",
    "stopw4 = stowords4.read()\n",
    "stopw4 = stopw4.split(\"\\n\")\n",
    "stowords5 = open(\"StopWords_GenericLong.txt\", \"r\")\n",
    "stopw5 = stowords5.read()\n",
    "stopw5 = stopw5.split(\"\\n\")\n",
    "stowords6 = open(\"StopWords_Geographic.txt\", \"r\")\n",
    "stopw6 = stowords6.read()\n",
    "stopw6 = stopw6.split(\"\\n\")\n",
    "stowords7 = open(\"StopWords_Names.txt\", \"r\")\n",
    "stopw7 = stowords7.read()\n",
    "stopw7 = stopw7.split(\"\\n\")"
   ]
  },
  {
   "cell_type": "code",
   "execution_count": 9,
   "id": "324ed7f3",
   "metadata": {},
   "outputs": [],
   "source": [
    "stowords=[]"
   ]
  },
  {
   "cell_type": "code",
   "execution_count": 10,
   "id": "61dc6f64",
   "metadata": {},
   "outputs": [
    {
     "name": "stdout",
     "output_type": "stream",
     "text": [
      "['ERNST', 'YOUNG', 'DELOITTE', 'TOUCHE', 'KPMG', 'PRICEWATERHOUSECOOPERS', 'PRICEWATERHOUSE', 'COOPERS', '', 'AFGHANI  | Afghanistan ', 'ARIARY | Madagascar ', 'BAHT | Thailand ', 'BALBOA | Panama ', 'BIRR | Ethiopia ', 'BOLIVAR | Venezuela ', 'BOLIVIANO  | Bolivia ', 'CEDI | Ghana ', 'COLON  | Costa Rica ', 'CÓRDOBA  | Nicaragua ', 'DALASI | Gambia ', 'DENAR | Macedonia (Former Yug. Rep.) ', 'DINAR | Algeria ', 'DIRHAM  | Morocco ', 'DOBRA | São Tom and Príncipe ', 'DONG | Vietnam ', 'DRAM | Armenia ', 'ESCUDO  | Cape Verde ', 'EURO  | Belgium ', 'FLORIN | Aruba ', 'FORINT | Hungary ', 'GOURDE | Haiti ', 'GUARANI | Paraguay ', 'GULDEN | Netherlands Antilles ', 'HRYVNIA  | Ukraine ', 'KINA | Papua New Guinea ', 'KIP | Laos ', 'KONVERTIBILNA MARKA  | Bosnia-Herzegovina ', 'KORUNA  | Czech Republic ', 'KRONA | Sweden ', 'KRONE | Denmark ', 'KROON | Estonia ', 'KUNA | Croatia ', 'KWACHA | Zambia ', 'KWANZA | Angola ', 'KYAT | Myanmar ', 'LARI | Georgia ', 'LATS | Latvia ', 'LEK | Albania ', 'LEMPIRA | Honduras ', 'LEONE | Sierra Leone ', 'LEU | Romania ', 'LEV | Bulgaria ', 'LILANGENI  | Swaziland ', 'LIRA | Lebanon ', 'LITAS | Lithuania ', 'LOTI | Lesotho ', 'MANAT | Azerbaijan ', 'METICAL | Mozambique ', 'NAIRA | Nigeria ', 'NAKFA | Eritrea ', 'NEW LIRA | Turkey ', 'NEW SHEQEL  | Israel ', 'NGULTRUM  | Bhutan ', 'NUEVO SOL | Peru ', 'OUGUIYA  | Mauritania ', 'PATACA | Macau ', 'PESO  | Mexico ', 'POUND  | Egypt ', 'PULA  | Botswana ', 'QUETZAL | Guatemala ', 'RAND | South Africa ', 'REAL  | Brazil ', 'RENMINBI  | China ', 'RIAL | Iran ', 'RIEL | Cambodia ', 'RINGGIT | Malaysia ', 'RIYAL | Saudi Arabia ', 'RUBLE | Russia ', 'RUFIYAA | Maldives ', 'RUPEE  | India ', 'RUPEE  | Pakistan ', 'RUPIAH  | Indonesia ', 'SHILLING  | Uganda ', 'SOM | Uzbekistan ', 'SOMONI  | Tajikistan ', 'SPECIAL DRAWING RIGHTS  | International Monetary Fund ', 'TAKA | Bangladesh ', 'TALA | Western Samoa ', 'TENGE | Kazakhstan ', 'TUGRIK  | Mongolia ', 'VATU | Vanuatu ', 'WON  | Korea, South ', 'YEN | Japan ', 'ZLOTY | Poland ', '', 'HUNDRED  | Denominations', 'THOUSAND', 'MILLION', 'BILLION', 'TRILLION', 'DATE  | Time related', 'ANNUAL', 'ANNUALLY', 'ANNUM', 'YEAR', 'YEARLY', 'QUARTER', 'QUARTERLY', 'QTR', 'MONTH', 'MONTHLY', 'WEEK', 'WEEKLY', 'DAY', 'DAILY', 'JANUARY  | Calendar', 'FEBRUARY', 'MARCH', 'APRIL', 'MAY', 'JUNE', 'JULY', 'AUGUST', 'SEPTEMBER', 'OCTOBER', 'NOVEMBER', 'DECEMBER', 'JAN', 'FEB', 'MAR', 'APR', 'MAY', 'JUN', 'JUL', 'AUG', 'SEP', 'SEPT', 'OCT', 'NOV', 'DEC', 'MONDAY', 'TUESDAY', 'WEDNESDAY', 'THURSDAY', 'FRIDAY', 'SATURDAY', 'SUNDAY', 'ONE  | Numbers', 'TWO', 'THREE', 'FOUR', 'FIVE', 'SIX', 'SEVEN', 'EIGHT', 'NINE', 'TEN', 'ELEVEN', 'TWELVE', 'THIRTEEN', 'FOURTEEN', 'FIFTEEN', 'SIXTEEN', 'SEVENTEEN', 'EIGHTEEN', 'NINETEEN', 'TWENTY', 'THIRTY', 'FORTY', 'FIFTY', 'SIXTY', 'SEVENTY', 'EIGHTY', 'NINETY', 'FIRST', 'SECOND', 'THIRD', 'FOURTH', 'FIFTH', 'SIXTH', 'SEVENTH', 'EIGHTH', 'NINTH', 'TENTH', 'I  | Roman numerals', 'II', 'III', 'IV', 'V', 'VI', 'VII', 'VIII', 'IX', 'X', 'XI', 'XII', 'XIII', 'XIV', 'XV', 'XVI', 'XVII', 'XVIII', 'XIX', 'XX', 'ABOUT', 'ABOVE', 'AFTER', 'AGAIN', 'ALL', 'AM', 'AMONG', 'AN', 'AND', 'ANY', 'ARE', 'AS', 'AT', 'BE', 'BECAUSE', 'BEEN', 'BEFORE', 'BEING', 'BELOW', 'BETWEEN', 'BOTH', 'BUT', 'BY', 'CAN', 'DID', 'DO', 'DOES', 'DOING', 'DOWN', 'DURING', 'EACH', 'FEW', 'FOR', 'FROM', 'FURTHER', 'HAD', 'HAS', 'HAVE', 'HAVING', 'HE', 'HER', 'HERE', 'HERS', 'HERSELF', 'HIM', 'HIMSELF', 'HIS', 'HOW', 'IF', 'IN', 'INTO', 'IS', 'IT', 'ITS', 'ITSELF', 'JUST', 'ME', 'MORE', 'MOST', 'MY', 'MYSELF', 'NO', 'NOR', 'NOT', 'NOW', 'OF', 'OFF', 'ON', 'ONCE', 'ONLY', 'OR', 'OTHER', 'OUR', 'OURS', 'OURSELVES', 'OUT', 'OVER', 'OWN', 'SAME', 'SHE', 'SHOULD', 'SO', 'SOME', 'SUCH', 'THAN', 'THAT', 'THE', 'THEIR', 'THEIRS', 'THEM', 'THEMSELVES', 'THEN', 'THERE', 'THESE', 'THEY', 'THIS', 'THOSE', 'THROUGH', 'TO', 'TOO', 'UNDER', 'UNTIL', 'UP', 'VERY', 'WAS', 'WE', 'WERE', 'WHAT', 'WHEN', 'WHERE', 'WHICH', 'WHILE', 'WHO', 'WHOM', 'WHY', 'WITH', 'YOU', 'YOUR', 'YOURS', 'YOURSELF', 'YOURSELVES', 'a', \"a's\", 'able', 'about', 'above', 'according', 'accordingly', 'across', 'actually', 'after', 'afterwards', 'again', 'against', \"ain't\", 'all', 'allow', 'allows', 'almost', 'alone', 'along', 'already', 'also', 'although', 'always', 'am', 'among', 'amongst', 'an', 'and', 'another', 'any', 'anybody', 'anyhow', 'anyone', 'anything', 'anyway', 'anyways', 'anywhere', 'apart', 'appear', 'appreciate', 'appropriate', 'are', \"aren't\", 'around', 'as', 'aside', 'ask', 'asking', 'associated', 'at', 'available', 'away', 'awfully', 'b', 'be', 'became', 'because', 'become', 'becomes', 'becoming', 'been', 'before', 'beforehand', 'behind', 'being', 'believe', 'below', 'beside', 'besides', 'best', 'better', 'between', 'beyond', 'both', 'brief', 'but', 'by', 'c', \"c'mon\", \"c's\", 'came', 'can', \"can't\", 'cannot', 'cant', 'cause', 'causes', 'certain', 'certainly', 'changes', 'clearly', 'co', 'com', 'come', 'comes', 'concerning', 'consequently', 'consider', 'considering', 'contain', 'containing', 'contains', 'corresponding', 'could', \"couldn't\", 'course', 'currently', 'd', 'definitely', 'described', 'despite', 'did', \"didn't\", 'different', 'do', 'does', \"doesn't\", 'doing', \"don't\", 'done', 'down', 'downwards', 'during', 'e', 'each', 'edu', 'eg', 'eight', 'either', 'else', 'elsewhere', 'enough', 'entirely', 'especially', 'et', 'etc', 'even', 'ever', 'every', 'everybody', 'everyone', 'everything', 'everywhere', 'ex', 'exactly', 'example', 'except', 'f', 'far', 'few', 'fifth', 'first', 'five', 'followed', 'following', 'follows', 'for', 'former', 'formerly', 'forth', 'four', 'from', 'further', 'furthermore', 'g', 'get', 'gets', 'getting', 'given', 'gives', 'go', 'goes', 'going', 'gone', 'got', 'gotten', 'greetings', 'h', 'had', \"hadn't\", 'happens', 'hardly', 'has', \"hasn't\", 'have', \"haven't\", 'having', 'he', \"he's\", 'hello', 'help', 'hence', 'her', 'here', \"here's\", 'hereafter', 'hereby', 'herein', 'hereupon', 'hers', 'herself', 'hi', 'him', 'himself', 'his', 'hither', 'hopefully', 'how', 'howbeit', 'however', 'i', \"i'd\", \"i'll\", \"i'm\", \"i've\", 'ie', 'if', 'ignored', 'immediate', 'in', 'inasmuch', 'inc', 'indeed', 'indicate', 'indicated', 'indicates', 'inner', 'insofar', 'instead', 'into', 'inward', 'is', \"isn't\", 'it', \"it'd\", \"it'll\", \"it's\", 'its', 'itself', 'j', 'just', 'k', 'keep', 'keeps', 'kept', 'know', 'knows', 'known', 'l', 'last', 'lately', 'later', 'latter', 'latterly', 'least', 'less', 'lest', 'let', \"let's\", 'like', 'liked', 'likely', 'little', 'look', 'looking', 'looks', 'ltd', 'm', 'mainly', 'many', 'may', 'maybe', 'me', 'mean', 'meanwhile', 'merely', 'might', 'more', 'moreover', 'most', 'mostly', 'much', 'must', 'my', 'myself', 'n', 'name', 'namely', 'nd', 'near', 'nearly', 'necessary', 'need', 'needs', 'neither', 'never', 'nevertheless', 'new', 'next', 'nine', 'no', 'nobody', 'non', 'none', 'noone', 'nor', 'normally', 'not', 'nothing', 'novel', 'now', 'nowhere', 'o', 'obviously', 'of', 'off', 'often', 'oh', 'ok', 'okay', 'old', 'on', 'once', 'one', 'ones', 'only', 'onto', 'or', 'other', 'others', 'otherwise', 'ought', 'our', 'ours', 'ourselves', 'out', 'outside', 'over', 'overall', 'own', 'p', 'particular', 'particularly', 'per', 'perhaps', 'placed', 'please', 'plus', 'possible', 'presumably', 'probably', 'provides', 'q', 'que', 'quite', 'qv', 'r', 'rather', 'rd', 're', 'really', 'reasonably', 'regarding', 'regardless', 'regards', 'relatively', 'respectively', 'right', 's', 'said', 'same', 'saw', 'say', 'saying', 'says', 'second', 'secondly', 'see', 'seeing', 'seem', 'seemed', 'seeming', 'seems', 'seen', 'self', 'selves', 'sensible', 'sent', 'serious', 'seriously', 'seven', 'several', 'shall', 'she', 'should', \"shouldn't\", 'since', 'six', 'so', 'some', 'somebody', 'somehow', 'someone', 'something', 'sometime', 'sometimes', 'somewhat', 'somewhere', 'soon', 'sorry', 'specified', 'specify', 'specifying', 'still', 'sub', 'such', 'sup', 'sure', 't', \"t's\", 'take', 'taken', 'tell', 'tends', 'th', 'than', 'thank', 'thanks', 'thanx', 'that', \"that's\", 'thats', 'the', 'their', 'theirs', 'them', 'themselves', 'then', 'thence', 'there', \"there's\", 'thereafter', 'thereby', 'therefore', 'therein', 'theres', 'thereupon', 'these', 'they', \"they'd\", \"they'll\", \"they're\", \"they've\", 'think', 'third', 'this', 'thorough', 'thoroughly', 'those', 'though', 'three', 'through', 'throughout', 'thru', 'thus', 'to', 'together', 'too', 'took', 'toward', 'towards', 'tried', 'tries', 'truly', 'try', 'trying', 'twice', 'two', 'u', 'un', 'under', 'unfortunately', 'unless', 'unlikely', 'until', 'unto', 'up', 'upon', 'us', 'use', 'used', 'useful', 'uses', 'using', 'usually', 'uucp', 'v', 'value', 'various', 'very', 'via', 'viz', 'vs', 'w', 'want', 'wants', 'was', \"wasn't\", 'way', 'we', \"we'd\", \"we'll\", \"we're\", \"we've\", 'welcome', 'well', 'went', 'were', \"weren't\", 'what', \"what's\", 'whatever', 'when', 'whence', 'whenever', 'where', \"where's\", 'whereafter', 'whereas', 'whereby', 'wherein', 'whereupon', 'wherever', 'whether', 'which', 'while', 'whither', 'who', \"who's\", 'whoever', 'whole', 'whom', 'whose', 'why', 'will', 'willing', 'wish', 'with', 'within', 'without', \"won't\", 'wonder', 'would', 'would', \"wouldn't\", 'x', 'y', 'yes', 'yet', 'you', \"you'd\", \"you'll\", \"you're\", \"you've\", 'your', 'yours', 'yourself', 'yourselves', 'z', 'zero', 'UNITED  | Geographic', 'STATE', 'NORTH', 'SOUTH', 'EAST', 'NORTHEAST', 'NORTHWEST', 'SOUTHEAST', 'SOUTHWEST', 'WEST', 'OCEAN', 'SEA', 'LAKE', 'RIVER', 'CREEK', 'GULF', 'MOUNTAIN', 'STREET', 'BOULEVARD', 'BLVD', 'PARKWAY', 'CITY', 'COUNTY', 'COUNTRY', 'PACIFIC', 'ATLANTIC', 'INDIAN', 'MEDITERRANEAN', 'COMMONWEALTH', 'AMERICA', 'AMERICAN', 'YORK  | Cities', 'CHICAGO', 'LAS', 'VEGAS', 'LOS', 'ANGELES', 'MILWAUKEE', 'SUNNYVALE', 'FREMONT', 'CINCINNATI', 'PHILADELPHIA', 'MIAMI', 'DALLAS', 'FORT', 'BOSTON', 'HOUSTON', 'WASHINGTON', 'ATLANTA', 'DETROIT', 'SAN', 'FRANSICO', 'PHOENIX', 'SEATTLE', 'DIEGO', 'MINNEAPOLIS', 'MEMPHIS', 'DENVER', 'ST', 'LOUIS', 'PITTSBURGH', 'MANHATTAN', 'HOLLYWOOD', 'COLUMBUS', 'INDIANAPOLIS', 'MUMBAI', 'KARACHI', 'ONTARIO', 'TORONTO', 'CAMBRIDGE', 'DELHI', 'SAO', 'PAULO', 'SHANGHAI', 'MOSCOW', 'SEOUL', 'ISTANBUL', 'TOKYO', 'JAKARTA', 'BEIJING', 'LONDON', 'LUXEMBOURG', 'SINGAPORE', 'REPUBLIC  | Countries', 'CHINA', 'INDIA', 'INDONESIA', 'BRAZIL', 'BRAZILIAN', 'PAKISTAN', 'BANGLADESH', 'RUSSIA', 'NIGERIA', 'NOVA', 'SCOTIA', 'JAPAN', 'MALAYSIA', 'MEXICO', 'MEXICAN', 'PHILIPPINES', 'VIETNAM', 'GERMANY', 'FRANCE', 'KOREA', 'SPAIN', 'ARGENTINA', 'BERMUDA', 'COLUMBIA', 'PUERTO', 'CANADA', 'CANADIAN', 'AFRICA', 'AFRICAN', 'CHILE', 'CHILEAN', 'EUROPE', 'EUROPEAN', 'USA', 'ITALY', 'ITALIAN', 'AUSTRALIA', 'NETHERLANDS', 'NORWAY', 'PORTUGAL', 'TAIWAN', 'ARGENTINA', 'SWITZERLAND', 'SWISS', 'SUISSE', 'DENMARK', 'CZECK', 'HUNGARY', 'FINLAND', 'SCOTLAND', 'COSTA', 'RICA', 'SWEDEN', 'BELGIUM', 'AUSTRIA', 'TURKEY', 'POLAND', 'INDONESIA', 'THAILAND', 'VENEZUELA', 'ASIA', 'ZEALAND', 'JAPANESE', 'LATIN', 'BRITISH', 'CHINESE', 'ALABAMA   | States', 'ALASKA', 'ARIZONA', 'ARKANSAS', 'CALIFORNIA', 'COLORADO', 'CONNECTICUT', 'DELAWARE', 'FLORIDA', 'GEORGIA', 'HAWAII', 'IDAHO', 'ILLINOIS', 'INDIANA', 'IOWA', 'KANSAS', 'KENTUCKY', 'LOUISIANA', 'MAINE', 'MARYLAND', 'MASSACHUSETTS', 'MICHIGAN', 'MINNESOTA', 'MISSISSIPPI', 'MISSOURI', 'MONTANA', 'NEBRASKA', 'NEVADA', 'HAMPSHIRE', 'JERSEY', 'MEXICO', 'NEW', 'YORK', 'OHIO', 'OKLAHOMA', 'OREGON', 'PENNSYLVANIA', 'RHODE', 'ISLAND', 'CAROLINA', 'DAKOTA', 'TENNESSEE', 'TEXAS', 'UTAH', 'VERMONT', 'VIRGINIA', 'WASHINGTON', 'WISCONSIN', 'WYOMING', '', 'SMITH  | Surnames from 1990 census > .002%.  www.census.gov.genealogy/names/dist.all.last', 'JOHNSON', 'WILLIAMS', 'JONES', 'BROWN', 'DAVIS', 'MILLER', 'WILSON', 'MOORE', 'TAYLOR', 'ANDERSON', 'THOMAS', 'JACKSON', 'WHITE', 'HARRIS', 'MARTIN', 'THOMPSON', 'GARCIA', 'MARTINEZ', 'ROBINSON', 'CLARK', 'RODRIGUEZ', 'LEWIS', 'LEE', 'WALKER', 'HALL', 'ALLEN', 'YOUNG', 'HERNANDEZ', 'KING', 'WRIGHT', 'LOPEZ', 'HILL', 'SCOTT', 'GREEN', 'ADAMS', 'BAKER', 'GONZALEZ', 'NELSON', 'CARTER', 'MITCHELL', 'PEREZ', 'ROBERTS', 'TURNER', 'PHILLIPS', 'CAMPBELL', 'PARKER', 'EVANS', 'EDWARDS', 'COLLINS', 'STEWART', 'SANCHEZ', 'MORRIS', 'ROGERS', 'REED', 'COOK', 'MORGAN', 'BELL', 'MURPHY', 'BAILEY', 'RIVERA', 'COOPER', 'RICHARDSON', 'COX', 'HOWARD', 'WARD', 'TORRES', 'PETERSON', 'GRAY', 'RAMIREZ', 'JAMES', 'WATSON', 'BROOKS', 'KELLY', 'SANDERS', 'PRICE', 'BENNETT', 'WOOD', 'BARNES', 'ROSS', 'HENDERSON', 'COLEMAN', 'JENKINS', 'PERRY', 'POWELL', 'LONG', 'PATTERSON', 'HUGHES', 'FLORES', 'WASHINGTON', 'BUTLER', 'SIMMONS', 'FOSTER', 'GONZALES', 'BRYANT', 'ALEXANDER', 'RUSSELL', 'GRIFFIN', 'DIAZ', 'HAYES', 'MYERS', 'FORD', 'HAMILTON', 'GRAHAM', 'SULLIVAN', 'WALLACE', 'WOODS', 'COLE', 'WEST', 'JORDAN', 'OWENS', 'REYNOLDS', 'FISHER', 'ELLIS', 'HARRISON', 'GIBSON', 'MCDONALD', 'CRUZ', 'MARSHALL', 'ORTIZ', 'GOMEZ', 'MURRAY', 'FREEMAN', 'WELLS', 'WEBB', 'SIMPSON', 'STEVENS', 'TUCKER', 'PORTER', 'HUNTER', 'HICKS', 'CRAWFORD', 'HENRY', 'BOYD', 'MASON', 'MORALES', 'KENNEDY', 'WARREN', 'DIXON', 'RAMOS', 'REYES', 'BURNS', 'GORDON', 'SHAW', 'HOLMES', 'RICE', 'ROBERTSON', 'HUNT', 'BLACK', 'DANIELS', 'PALMER', 'MILLS', 'NICHOLS', 'GRANT', 'KNIGHT', 'FERGUSON', 'ROSE', 'STONE', 'HAWKINS', 'DUNN', 'PERKINS', 'HUDSON', 'SPENCER', 'GARDNER', 'STEPHENS', 'PAYNE', 'PIERCE', 'BERRY', 'MATTHEWS', 'ARNOLD', 'WAGNER', 'WILLIS', 'RAY', 'WATKINS', 'OLSON', 'CARROLL', 'DUNCAN', 'SNYDER', 'HART', 'CUNNINGHAM', 'BRADLEY', 'LANE', 'ANDREWS', 'RUIZ', 'HARPER', 'FOX', 'RILEY', 'ARMSTRONG', 'CARPENTER', 'WEAVER', 'GREENE', 'LAWRENCE', 'ELLIOTT', 'CHAVEZ', 'SIMS', 'AUSTIN', 'PETERS', 'KELLEY', 'FRANKLIN', 'LAWSON', 'FIELDS', 'GUTIERREZ', 'RYAN', 'SCHMIDT', 'CARR', 'VASQUEZ', 'CASTILLO', 'WHEELER', 'CHAPMAN', 'OLIVER', 'MONTGOMERY', 'RICHARDS', 'WILLIAMSON', 'JOHNSTON', 'BANKS', 'MEYER', 'BISHOP', 'MCCOY', 'HOWELL', 'ALVAREZ', 'MORRISON', 'HANSEN', 'FERNANDEZ', 'GARZA', 'HARVEY', 'LITTLE', 'BURTON', 'STANLEY', 'NGUYEN', 'GEORGE', 'JACOBS', 'REID', 'KIM', 'FULLER', 'LYNCH', 'DEAN', 'GILBERT', 'GARRETT', 'ROMERO', 'WELCH', 'LARSON', 'FRAZIER', 'BURKE', 'HANSON', 'DAY', 'MENDOZA', 'MORENO', 'BOWMAN', 'MEDINA', 'FOWLER', 'BREWER', 'HOFFMAN', 'CARLSON', 'SILVA', 'PEARSON', 'HOLLAND', 'DOUGLAS', 'FLEMING', 'JENSEN', 'VARGAS', 'BYRD', 'DAVIDSON', 'HOPKINS', 'MAY', 'TERRY', 'HERRERA', 'WADE', 'SOTO', 'WALTERS', 'CURTIS', 'NEAL', 'CALDWELL', 'LOWE', 'JENNINGS', 'BARNETT', 'GRAVES', 'JIMENEZ', 'HORTON', 'SHELTON', 'BARRETT', 'OBRIEN', 'CASTRO', 'SUTTON', 'GREGORY', 'MCKINNEY', 'LUCAS', 'MILES', 'CRAIG', 'RODRIQUEZ', 'CHAMBERS', 'HOLT', 'LAMBERT', 'FLETCHER', 'WATTS', 'BATES', 'HALE', 'RHODES', 'PENA', 'BECK', 'NEWMAN', 'HAYNES', 'MCDANIEL', 'MENDEZ', 'BUSH', 'VAUGHN', 'PARKS', 'DAWSON', 'SANTIAGO', 'NORRIS', 'HARDY', 'LOVE', 'STEELE', 'CURRY', 'POWERS', 'SCHULTZ', 'BARKER', 'GUZMAN', 'PAGE', 'MUNOZ', 'BALL', 'KELLER', 'CHANDLER', 'WEBER', 'LEONARD', 'WALSH', 'LYONS', 'RAMSEY', 'WOLFE', 'SCHNEIDER', 'MULLINS', 'BENSON', 'SHARP', 'BOWEN', 'DANIEL', 'BARBER', 'CUMMINGS', 'HINES', 'BALDWIN', 'GRIFFITH', 'VALDEZ', 'HUBBARD', 'SALAZAR', 'REEVES', 'WARNER', 'STEVENSON', 'BURGESS', 'SANTOS', 'TATE', 'CROSS', 'GARNER', 'MANN', 'MACK', 'MOSS', 'THORNTON', 'DENNIS', 'MCGEE', 'FARMER', 'DELGADO', 'AGUILAR', 'VEGA', 'GLOVER', 'MANNING', 'COHEN', 'HARMON', 'RODGERS', 'ROBBINS', 'NEWTON', 'TODD', 'BLAIR', 'HIGGINS', 'INGRAM', 'REESE', 'CANNON', 'STRICKLAND', 'TOWNSEND', 'POTTER', 'GOODWIN', 'WALTON', 'ROWE', 'HAMPTON', 'ORTEGA', 'PATTON', 'SWANSON', 'JOSEPH', 'FRANCIS', 'GOODMAN', 'MALDONADO', 'YATES', 'BECKER', 'ERICKSON', 'HODGES', 'RIOS', 'CONNER', 'ADKINS', 'WEBSTER', 'NORMAN', 'MALONE', 'HAMMOND', 'FLOWERS', 'COBB', 'MOODY', 'QUINN', 'BLAKE', 'MAXWELL', 'POPE', 'FLOYD', 'OSBORNE', 'PAUL', 'MCCARTHY', 'GUERRERO', 'LINDSEY', 'ESTRADA', 'SANDOVAL', 'GIBBS', 'TYLER', 'GROSS', 'FITZGERALD', 'STOKES', 'DOYLE', 'SHERMAN', 'SAUNDERS', 'WISE', 'COLON', 'GILL', 'ALVARADO', 'GREER', 'PADILLA', 'SIMON', 'WATERS', 'NUNEZ', 'BALLARD', 'SCHWARTZ', 'MCBRIDE', 'HOUSTON', 'CHRISTENSEN', 'KLEIN', 'PRATT', 'BRIGGS', 'PARSONS', 'MCLAUGHLIN', 'ZIMMERMAN', 'FRENCH', 'BUCHANAN', 'MORAN', 'COPELAND', 'ROY', 'PITTMAN', 'BRADY', 'MCCORMICK', 'HOLLOWAY', 'BROCK', 'POOLE', 'FRANK', 'LOGAN', 'OWEN', 'BASS', 'MARSH', 'DRAKE', 'WONG', 'JEFFERSON', 'PARK', 'MORTON', 'ABBOTT', 'SPARKS', 'PATRICK', 'NORTON', 'HUFF', 'CLAYTON', 'MASSEY', 'LLOYD', 'FIGUEROA', 'CARSON', 'BOWERS', 'ROBERSON', 'BARTON', 'TRAN', 'LAMB', 'HARRINGTON', 'CASEY', 'BOONE', 'CORTEZ', 'CLARKE', 'MATHIS', 'SINGLETON', 'WILKINS', 'CAIN', 'BRYAN', 'UNDERWOOD', 'HOGAN', 'MCKENZIE', 'COLLIER', 'LUNA', 'PHELPS', 'MCGUIRE', 'ALLISON', 'BRIDGES', 'WILKERSON', 'NASH', 'SUMMERS', 'ATKINS', 'WILCOX', 'PITTS', 'CONLEY', 'MARQUEZ', 'BURNETT', 'RICHARD', 'COCHRAN', 'CHASE', 'DAVENPORT', 'HOOD', 'GATES', 'CLAY', 'AYALA', 'SAWYER', 'ROMAN', 'VAZQUEZ', 'DICKERSON', 'HODGE', 'ACOSTA', 'FLYNN', 'ESPINOZA', 'NICHOLSON', 'MONROE', 'WOLF', 'MORROW', 'KIRK', 'RANDALL', 'ANTHONY', 'WHITAKER', 'OCONNOR', 'SKINNER', 'WARE', 'MOLINA', 'KIRBY', 'HUFFMAN', 'BRADFORD', 'CHARLES', 'GILMORE', 'DOMINGUEZ', 'ONEAL', 'BRUCE', 'LANG', 'COMBS', 'KRAMER', 'HEATH', 'HANCOCK', 'GALLAGHER', 'GAINES', 'SHAFFER', 'SHORT', 'WIGGINS', 'MATHEWS', 'MCCLAIN', 'FISCHER', 'WALL', 'SMALL', 'MELTON', 'HENSLEY', 'BOND', 'DYER', 'CAMERON', 'GRIMES', 'CONTRERAS', 'CHRISTIAN', 'WYATT', 'BAXTER', 'SNOW', 'MOSLEY', 'SHEPHERD', 'LARSEN', 'HOOVER', 'BEASLEY', 'GLENN', 'PETERSEN', 'WHITEHEAD', 'MEYERS', 'KEITH', 'GARRISON', 'VINCENT', 'SHIELDS', 'HORN', 'SAVAGE', 'OLSEN', 'SCHROEDER', 'HARTMAN', 'WOODARD', 'MUELLER', 'KEMP', 'DELEON', 'BOOTH', 'PATEL', 'CALHOUN', 'WILEY', 'EATON', 'CLINE', 'NAVARRO', 'HARRELL', 'LESTER', 'HUMPHREY', 'PARRISH', 'DURAN', 'HUTCHINSON', 'HESS', 'DORSEY', 'BULLOCK', 'ROBLES', 'BEARD', 'DALTON', 'AVILA', 'VANCE', 'RICH', 'BLACKWELL', 'YORK', 'JOHNS', 'BLANKENSHIP', 'TREVINO', 'SALINAS', 'CAMPOS', 'PRUITT', 'MOSES', 'CALLAHAN', 'GOLDEN', 'MONTOYA', 'HARDIN', 'GUERRA', 'MCDOWELL', 'CAREY', 'STAFFORD', 'GALLEGOS', 'HENSON', 'WILKINSON', 'BOOKER', 'MERRITT', 'MIRANDA', 'ATKINSON', 'ORR', 'DECKER', 'HOBBS', 'PRESTON', 'TANNER', 'KNOX', 'PACHECO', 'STEPHENSON', 'GLASS', 'ROJAS', 'SERRANO', 'MARKS', 'HICKMAN', 'ENGLISH', 'SWEENEY', 'STRONG', 'PRINCE', 'MCCLURE', 'CONWAY', 'WALTER', 'ROTH', 'MAYNARD', 'FARRELL', 'LOWERY', 'HURST', 'NIXON', 'WEISS', 'TRUJILLO', 'ELLISON', 'SLOAN', 'JUAREZ', 'WINTERS', 'MCLEAN', 'RANDOLPH', 'LEON', 'BOYER', 'VILLARREAL', 'MCCALL', 'GENTRY', 'CARRILLO', 'KENT', 'AYERS', 'LARA', 'SHANNON', 'SEXTON', 'PACE', 'HULL', 'LEBLANC', 'BROWNING', 'VELASQUEZ', 'LEACH', 'CHANG', 'HOUSE', 'SELLERS', 'HERRING', 'NOBLE', 'FOLEY', 'BARTLETT', 'MERCADO', 'LANDRY', 'DURHAM', 'WALLS', 'BARR', 'MCKEE', 'BAUER', 'RIVERS', 'EVERETT', 'BRADSHAW', 'PUGH', 'VELEZ', 'RUSH', 'ESTES', 'DODSON', 'MORSE', 'SHEPPARD', 'WEEKS', 'CAMACHO', 'BEAN', 'BARRON', 'LIVINGSTON', 'MIDDLETON', 'SPEARS', 'BRANCH', 'BLEVINS', 'CHEN', 'KERR', 'MCCONNELL', 'HATFIELD', 'HARDING', 'ASHLEY', 'SOLIS', 'HERMAN', 'FROST', 'GILES', 'BLACKBURN', 'WILLIAM', 'PENNINGTON', 'WOODWARD', 'FINLEY', 'MCINTOSH', 'KOCH', 'BEST', 'SOLOMON', 'MCCULLOUGH', 'DUDLEY', 'NOLAN', 'BLANCHARD', 'RIVAS', 'BRENNAN', 'MEJIA', 'KANE', 'BENTON', 'JOYCE', 'BUCKLEY', 'HALEY', 'VALENTINE', 'MADDOX', 'RUSSO', 'MCKNIGHT', 'BUCK', 'MOON', 'MCMILLAN', 'CROSBY', 'BERG', 'DOTSON', 'MAYS', 'ROACH', 'CHURCH', 'CHAN', 'RICHMOND', 'MEADOWS', 'FAULKNER', 'ONEILL', 'KNAPP', 'KLINE', 'BARRY', 'OCHOA', 'JACOBSON', 'GAY', 'AVERY', 'HENDRICKS', 'HORNE', 'SHEPARD', 'HEBERT', 'CHERRY', 'CARDENAS', 'MCINTYRE', 'WHITNEY', 'WALLER', 'HOLMAN', 'DONALDSON', 'CANTU', 'TERRELL', 'MORIN', 'GILLESPIE', 'FUENTES', 'TILLMAN', 'SANFORD', 'BENTLEY', 'PECK', 'KEY', 'SALAS', 'ROLLINS', 'GAMBLE', 'DICKSON', 'BATTLE', 'SANTANA', 'CABRERA', 'CERVANTES', 'HOWE', 'HINTON', 'HURLEY', 'SPENCE', 'ZAMORA', 'YANG', 'MCNEIL', 'SUAREZ', 'CASE', 'PETTY', 'GOULD', 'MCFARLAND', 'SAMPSON', 'CARVER', 'BRAY', 'ROSARIO', 'MACDONALD', 'STOUT', 'HESTER', 'MELENDEZ', 'DILLON', 'FARLEY', 'HOPPER', 'GALLOWAY', 'POTTS', 'BERNARD', 'JOYNER', 'STEIN', 'AGUIRRE', 'OSBORN', 'MERCER', 'BENDER', 'FRANCO', 'ROWLAND', 'SYKES', 'BENJAMIN', 'TRAVIS', 'PICKETT', 'CRANE', 'SEARS', 'MAYO', 'DUNLAP', 'HAYDEN', 'WILDER', 'MCKAY', 'COFFEY', 'MCCARTY', 'EWING', 'COOLEY', 'VAUGHAN', 'BONNER', 'COTTON', 'HOLDER', 'STARK', 'FERRELL', 'CANTRELL', 'FULTON', 'LYNN', 'LOTT', 'CALDERON', 'ROSA', 'POLLARD', 'HOOPER', 'BURCH', 'MULLEN', 'FRY', 'RIDDLE', 'LEVY', 'DAVID', 'DUKE', 'ODONNELL', 'GUY', 'MICHAEL', 'BRITT', 'FREDERICK', 'DAUGHERTY', 'BERGER', 'DILLARD', 'ALSTON', 'JARVIS', 'FRYE', 'RIGGS', 'CHANEY', 'ODOM', 'DUFFY', 'FITZPATRICK', 'VALENZUELA', 'MERRILL', 'MAYER', 'ALFORD', 'MCPHERSON', 'ACEVEDO', 'DONOVAN', 'BARRERA', 'ALBERT', 'COTE', 'REILLY', 'COMPTON', 'RAYMOND', 'MOONEY', 'MCGOWAN', 'CRAFT', 'CLEVELAND', 'CLEMONS', 'WYNN', 'NIELSEN', 'BAIRD', 'STANTON', 'SNIDER', 'ROSALES', 'BRIGHT', 'WITT', 'STUART', 'HAYS', 'HOLDEN', 'RUTLEDGE', 'KINNEY', 'CLEMENTS', 'CASTANEDA', 'SLATER', 'HAHN', 'EMERSON', 'CONRAD', 'BURKS', 'DELANEY', 'PATE', 'LANCASTER', 'SWEET', 'JUSTICE', 'TYSON', 'SHARPE', 'WHITFIELD', 'TALLEY', 'MACIAS', 'IRWIN', 'BURRIS', 'RATLIFF', 'MCCRAY', 'MADDEN', 'KAUFMAN', 'BEACH', 'GOFF', 'CASH', 'BOLTON', 'MCFADDEN', 'LEVINE', 'GOOD', 'BYERS', 'KIRKLAND', 'KIDD', 'WORKMAN', 'CARNEY', 'DALE', 'MCLEOD', 'HOLCOMB', 'ENGLAND', 'FINCH', 'HEAD', 'BURT', 'HENDRIX', 'SOSA', 'HANEY', 'FRANKS', 'SARGENT', 'NIEVES', 'DOWNS', 'RASMUSSEN', 'BIRD', 'HEWITT', 'LINDSAY', 'LE', 'FOREMAN', 'VALENCIA', 'ONEIL', 'DELACRUZ', 'VINSON', 'DEJESUS', 'HYDE', 'FORBES', 'GILLIAM', 'GUTHRIE', 'WOOTEN', 'HUBER', 'BARLOW', 'BOYLE', 'MCMAHON', 'BUCKNER', 'ROCHA', 'PUCKETT', 'LANGLEY', 'KNOWLES', 'COOKE', 'VELAZQUEZ', 'WHITLEY', 'NOEL', 'VANG', 'SHEA', 'ROUSE', 'HARTLEY', 'MAYFIELD', 'ELDER', 'RANKIN', 'HANNA', 'COWAN', 'LUCERO', 'ARROYO', 'SLAUGHTER', 'HAAS', 'OCONNELL', 'MINOR', 'KENDRICK', 'SHIRLEY', 'KENDALL', 'BOUCHER', 'ARCHER', 'BOGGS', 'ODELL', 'DOUGHERTY', 'ANDERSEN', 'NEWELL', 'CROWE', 'WANG', 'FRIEDMAN', 'BLAND', 'SWAIN', 'HOLLEY', 'FELIX', 'PEARCE', 'CHILDS', 'YARBROUGH', 'GALVAN', 'PROCTOR', 'MEEKS', 'LOZANO', 'MORA', 'RANGEL', 'BACON', 'VILLANUEVA', 'SCHAEFER', 'ROSADO', 'HELMS', 'BOYCE', 'GOSS', 'STINSON', 'SMART', 'LAKE', 'IBARRA', 'HUTCHINS', 'COVINGTON', 'REYNA', 'GREGG', 'WERNER', 'CROWLEY', 'HATCHER', 'MACKEY', 'BUNCH', 'WOMACK', 'POLK', 'JAMISON', 'DODD', 'CHILDRESS', 'CHILDERS', 'CAMP', 'VILLA', 'DYE', 'SPRINGER', 'MAHONEY', 'DAILEY', 'BELCHER', 'LOCKHART', 'GRIGGS', 'COSTA', 'CONNOR', 'BRANDT', 'WINTER', 'WALDEN', 'MOSER', 'TRACY', 'TATUM', 'MCCANN', 'AKERS', 'LUTZ', 'PRYOR', 'LAW', 'OROZCO', 'MCALLISTER', 'LUGO', 'DAVIES', 'SHOEMAKER', 'MADISON', 'RUTHERFORD', 'NEWSOME', 'MAGEE', 'CHAMBERLAIN', 'BLANTON', 'SIMMS', 'GODFREY', 'FLANAGAN', 'CRUM', 'CORDOVA', 'ESCOBAR', 'DOWNING', 'SINCLAIR', 'DONAHUE', 'KRUEGER', 'MCGINNIS', 'GORE', 'FARRIS', 'WEBBER', 'CORBETT', 'ANDRADE', 'STARR', 'LYON', 'YODER', 'HASTINGS', 'MCGRATH', 'SPIVEY', 'KRAUSE', 'HARDEN', 'CRABTREE', 'KIRKPATRICK', 'HOLLIS', 'BRANDON', 'ARRINGTON', 'ERVIN', 'CLIFTON', 'RITTER', 'MCGHEE', 'BOLDEN', 'MALONEY', 'GAGNON', 'DUNBAR', 'PONCE', 'PIKE', 'MAYES', 'HEARD', 'BEATTY', 'MOBLEY', 'KIMBALL', 'BUTTS', 'MONTES', 'HERBERT', 'GRADY', 'ELDRIDGE', 'BRAUN', 'HAMM', 'GIBBONS', 'SEYMOUR', 'MOYER', 'MANLEY', 'HERRON', 'PLUMMER', 'ELMORE', 'CRAMER', 'GARY', 'RUCKER', 'HILTON', 'BLUE', 'PIERSON', 'FONTENOT', 'FIELD', 'RUBIO', 'GRACE', 'GOLDSTEIN', 'ELKINS', 'WILLS', 'NOVAK', 'JOHN', 'HICKEY', 'WORLEY', 'GORMAN', 'KATZ', 'DICKINSON', 'BROUSSARD', 'FRITZ', 'WOODRUFF', 'CROW', 'CHRISTOPHER', 'BRITTON', 'FORREST', 'NANCE', 'LEHMAN', 'BINGHAM', 'ZUNIGA', 'WHALEY', 'SHAFER', 'COFFMAN', 'STEWARD', 'DELAROSA', 'NIX', 'NEELY', 'NUMBERS', 'MATA', 'MANUEL', 'DAVILA', 'MCCABE', 'KESSLER', 'EMERY', 'BOWLING', 'HINKLE', 'WELSH', 'PAGAN', 'GOLDBERG', 'GOINS', 'CROUCH', 'CUEVAS', 'QUINONES', 'MCDERMOTT', 'HENDRICKSON', 'SAMUELS', 'DENTON', 'BERGERON', 'LAM', 'IVEY', 'LOCKE', 'HAINES', 'THURMAN', 'SNELL', 'HOSKINS', 'BYRNE', 'MILTON', 'WINSTON', 'ARTHUR', 'ARIAS', 'STANFORD', 'ROE', 'CORBIN', 'BELTRAN', 'CHAPPELL', 'HURT', 'DOWNEY', 'DOOLEY', 'TUTTLE', 'COUCH', 'PAYTON', 'MCELROY', 'CROCKETT', 'GROVES', 'CLEMENT', 'LESLIE', 'CARTWRIGHT', 'DICKEY', 'MCGILL', 'DUBOIS', 'MUNIZ', 'ERWIN', 'SELF', 'TOLBERT', 'DEMPSEY', 'CISNEROS', 'SEWELL', 'LATHAM', 'GARLAND', 'VIGIL', 'TAPIA', 'STERLING', 'RAINEY', 'NORWOOD', 'LACY', 'STROUD', 'MEADE', 'AMOS', 'TIPTON', 'LORD', 'KUHN', 'HILLIARD', 'BONILLA', 'TEAGUE', 'COURTNEY', 'GUNN', 'HO', 'GREENWOOD', 'CORREA', 'REECE', 'WESTON', 'POE', 'TRENT', 'PINEDA', 'PHIPPS', 'FREY', 'KAISER', 'AMES', 'PAIGE', 'GUNTER', 'SCHMITT', 'MILLIGAN', 'ESPINOSA', 'CARLTON', 'BOWDEN', 'VICKERS', 'LOWRY', 'PRITCHARD', 'COSTELLO', 'PIPER', 'MCCLELLAN', 'LOVELL', 'DREW', 'SHEEHAN', 'QUICK', 'HATCH', 'DOBSON', 'SINGH', 'JEFFRIES', 'HOLLINGSWORTH', 'SORENSEN', 'MEZA', 'FINK', 'DONNELLY', 'BURRELL', 'BRUNO', 'TOMLINSON', 'COLBERT', 'BILLINGS', 'RITCHIE', 'HELTON', 'SUTHERLAND', 'PEOPLES', 'MCQUEEN', 'GASTON', 'THOMASON', 'MCKINLEY', 'GIVENS', 'CROCKER', 'VOGEL', 'ROBISON', 'DUNHAM', 'COKER', 'SWARTZ', 'KEYS', 'LILLY', 'LADNER', 'HANNAH', 'WILLARD', 'RICHTER', 'HARGROVE', 'EDMONDS', 'BRANTLEY', 'ALBRIGHT', 'MURDOCK', 'BOSWELL', 'MULLER', 'QUINTERO', 'PADGETT', 'KENNEY', 'DALY', 'CONNOLLY', 'PIERRE', 'INMAN', 'QUINTANA', 'LUND', 'BARNARD', 'VILLEGAS', 'SIMONS', 'LAND', 'HUGGINS', 'TIDWELL', 'SANDERSON', 'BULLARD', 'MCCLENDON', 'DUARTE', 'DRAPER', 'MEREDITH', 'MARRERO', 'DWYER', 'ABRAMS', 'STOVER', 'GOODE', 'FRASER', 'CREWS', 'BERNAL', 'SMILEY', 'GODWIN', 'FISH', 'CONKLIN', 'MCNEAL', 'BACA', 'ESPARZA', 'CROWDER', 'BOWER', 'NICHOLAS', 'CHUNG', 'BREWSTER', 'MCNEILL', 'DICK', 'RODRIGUES', 'LEAL', 'COATES', 'RAINES', 'MCCAIN', 'MCCORD', 'MINER', 'HOLBROOK', 'SWIFT', 'DUKES', 'CARLISLE', 'ALDRIDGE', 'ACKERMAN', 'STARKS', 'RICKS', 'HOLLIDAY', 'FERRIS', 'HAIRSTON', 'SHEFFIELD', 'LANGE', 'FOUNTAIN', 'MARINO', 'DOSS', 'BETTS', 'KAPLAN', 'CARMICHAEL', 'BLOOM', 'RUFFIN', 'PENN', 'KERN', 'BOWLES', 'SIZEMORE', 'LARKIN', 'DUPREE', 'JEWELL', 'SILVER', 'SEALS', 'METCALF', 'HUTCHISON', 'HENLEY', 'FARR', 'CASTLE', 'MCCAULEY', 'HANKINS', 'GUSTAFSON', 'DEAL', 'CURRAN', 'ASH', 'WADDELL', 'RAMEY', 'CATES', 'POLLOCK', 'MAJOR', 'IRVIN', 'CUMMINS', 'MESSER', 'HELLER', 'DEWITT', 'LIN', 'FUNK', 'CORNETT', 'PALACIOS', 'GALINDO', 'CANO', 'HATHAWAY', 'SINGER', 'PHAM', 'ENRIQUEZ', 'AARON', 'SALGADO', 'PELLETIER', 'PAINTER', 'WISEMAN', 'BLOUNT', 'HAND', 'FELICIANO', 'TEMPLE', 'HOUSER', 'DOHERTY', 'MEAD', 'MCGRAW', 'TONEY', 'SWAN', 'MELVIN', 'CAPPS', 'BLANCO', 'BLACKMON', 'WESLEY', 'THOMSON', 'MCMANUS', 'FAIR', 'BURKETT', 'POST', 'GLEASON', 'RUDOLPH', 'OTT', 'DICKENS', 'CORMIER', 'VOSS', 'RUSHING', 'ROSENBERG', 'HURD', 'DUMAS', 'BENITEZ', 'ARELLANO', 'STORY', 'MARIN', 'CAUDILL', 'BRAGG', 'JARAMILLO', 'HUERTA', 'GIPSON', 'COLVIN', 'BIGGS', 'VELA', 'PLATT', 'CASSIDY', 'TOMPKINS', 'MCCOLLUM', 'KAY', 'GABRIEL', 'DOLAN', 'DALEY', 'CRUMP', 'STREET', 'SNEED', 'KILGORE', 'GROVE', 'GRIMM', 'DAVISON', 'BRUNSON', 'PRATER', 'MARCUM', 'DEVINE', 'KYLE', 'DODGE', 'STRATTON', 'ROSAS', 'CHOI', 'TRIPP', 'LEDBETTER', 'LAY', 'HIGHTOWER', 'HAYWOOD', 'FELDMAN', 'EPPS', 'YEAGER', 'POSEY', 'SYLVESTER', 'SCRUGGS', 'COPE', 'STUBBS', 'RICHEY', 'OVERTON', 'TROTTER', 'SPRAGUE', 'CORDERO', 'BUTCHER', 'BURGER', 'STILES', 'BURGOS', 'WOODSON', 'HORNER', 'BASSETT', 'PURCELL', 'HASKINS', 'GEE', 'AKINS', 'ABRAHAM', 'HOYT', 'ZIEGLER', 'SPAULDING', 'HADLEY', 'GRUBBS', 'SUMNER', 'MURILLO', 'ZAVALA', 'SHOOK', 'LOCKWOOD', 'JARRETT', 'DRISCOLL', 'DAHL', 'THORPE', 'SHERIDAN', 'REDMOND', 'PUTNAM', 'MCWILLIAMS', 'MCRAE', 'CORNELL', 'FELTON', 'ROMANO', 'JOINER', 'SADLER', 'HEDRICK', 'HAGER', 'HAGEN', 'FITCH', 'COULTER', 'THACKER', 'MANSFIELD', 'LANGSTON', 'GUIDRY', 'FERREIRA', 'CORLEY', 'CONN', 'ROSSI', 'LACKEY', 'CODY', 'BAEZ', 'SAENZ', 'MCNAMARA', 'DARNELL', 'MICHEL', 'MCMULLEN', 'MCKENNA', 'MCDONOUGH', 'LINK', 'ENGEL', 'BROWNE', 'ROPER', 'PEACOCK', 'EUBANKS', 'DRUMMOND', 'STRINGER', 'PRITCHETT', 'PARHAM', 'MIMS', 'LANDERS', 'HAM', 'GRAYSON', 'STACY', 'SCHAFER', 'EGAN', 'TIMMONS', 'OHARA', 'KEEN', 'HAMLIN', 'FINN', 'CORTES', 'MCNAIR', 'LOUIS', 'CLIFFORD', 'NADEAU', 'MOSELEY', 'MICHAUD', 'ROSEN', 'OAKES', 'KURTZ', 'JEFFERS', 'CALLOWAY', 'BEAL', 'BAUTISTA', 'WINN', 'SUGGS', 'STERN', 'STAPLETON', 'LYLES', 'LAIRD', 'MONTANO', 'DIAMOND', 'DAWKINS', 'ROLAND', 'HAGAN', 'GOLDMAN', 'BRYSON', 'BARAJAS', 'LOVETT', 'SEGURA', 'METZ', 'LOCKETT', 'LANGFORD', 'HINSON', 'EASTMAN', 'ROCK', 'HOOKS', 'WOODY', 'SMALLWOOD', 'SHAPIRO', 'CROWELL', 'WHALEN', 'TRIPLETT', 'HOOKER', 'CHATMAN', 'ALDRICH', 'CAHILL', 'YOUNGBLOOD', 'YBARRA', 'STALLINGS', 'SHEETS', 'SAMUEL', 'REEDER', 'PERSON', 'PACK', 'LACEY', 'CONNELLY', 'BATEMAN', 'ABERNATHY', 'WINKLER', 'WILKES', 'MASTERS', 'HACKETT', 'GRANGER', 'GILLIS', 'SCHMITZ', 'SAPP', 'NAPIER', 'SOUZA', 'LANIER', 'GOMES', 'WEIR', 'OTERO', 'LEDFORD', 'BURROUGHS', 'BABCOCK', 'VENTURA', 'SIEGEL', 'DUGAN', 'CLINTON', 'CHRISTIE', 'BLEDSOE', 'ATWOOD', 'WRAY', 'VARNER', 'SPANGLER', 'OTTO', 'ANAYA', 'STALEY', 'KRAFT', 'FOURNIER', 'EDDY', 'BELANGER', 'WOLFF', 'THORNE', 'BYNUM', 'BURNETTE', 'BOYKIN', 'SWENSON', 'PURVIS', 'PINA', 'KHAN', 'DUVALL', 'DARBY', 'XIONG', 'KAUFFMAN', 'ALI', 'YU', 'HEALY', 'ENGLE', 'CORONA', 'BENOIT', 'VALLE', 'STEINER', 'SPICER', 'SHAVER', 'RANDLE', 'LUNDY', 'DOW', 'CHIN', 'CALVERT', 'STATON', 'NEFF', 'KEARNEY', 'DARDEN', 'OAKLEY', 'MEDEIROS', 'MCCRACKEN', 'CRENSHAW', 'BLOCK', 'BEAVER', 'PERDUE', 'DILL', 'WHITTAKER', 'TOBIN', 'CORNELIUS', 'WASHBURN', 'HOGUE', 'GOODRICH', 'EASLEY', 'BRAVO', 'DENNISON', 'VERA', 'SHIPLEY', 'KERNS', 'JORGENSEN', 'CRAIN', 'ABEL', 'VILLALOBOS', 'MAURER', 'LONGORIA', 'KEENE', 'COON', 'SIERRA', 'WITHERSPOON', 'STAPLES', 'PETTIT', 'KINCAID', 'EASON', 'MADRID', 'ECHOLS', 'LUSK', 'WU', 'STAHL', 'CURRIE', 'THAYER', 'SHULTZ', 'SHERWOOD', 'MCNALLY', 'SEAY', 'NORTH', 'MAHER', 'KENNY', 'HOPE', 'GAGNE', 'BARROW', 'NAVA', 'MYLES', 'MORELAND', 'HONEYCUTT', 'HEARN', 'DIGGS', 'CARON', 'WHITTEN', 'WESTBROOK', 'STOVALL', 'RAGLAND', 'QUEEN', 'MUNSON', 'MEIER', 'LOONEY', 'KIMBLE', 'JOLLY', 'HOBSON', 'LONDON', 'GODDARD', 'CULVER', 'BURR', 'PRESLEY', 'NEGRON', 'CONNELL', 'TOVAR', 'MARCUS', 'HUDDLESTON', 'HAMMER', 'ASHBY', 'SALTER', 'ROOT', 'PENDLETON', 'OLEARY', 'NICKERSON', 'MYRICK', 'JUDD', 'JACOBSEN', 'ELLIOT', 'BAIN', 'ADAIR', 'STARNES', 'SHELDON', 'MATOS', 'LIGHT', 'BUSBY', 'HERNDON', 'HANLEY', 'BELLAMY', 'JACK', 'DOTY', 'BARTLEY', 'YAZZIE', 'ROWELL', 'PARSON', 'GIFFORD', 'CULLEN', 'CHRISTIANSEN', 'BENAVIDES', 'BARNHART', 'TALBOT', 'MOCK', 'CRANDALL', 'CONNORS', 'BONDS', 'WHITT', 'GAGE', 'BERGMAN', 'ARREDONDO', 'ADDISON', 'MARION', 'LUJAN', 'DOWDY', 'JERNIGAN', 'HUYNH', 'BOUCHARD', 'DUTTON', 'RHOADES', 'OUELLETTE', 'KISER', 'RUBIN', 'HERRINGTON', 'HARE', 'DENNY', 'BLACKMAN', 'BABB', 'ALLRED', 'RUDD', 'PAULSON', 'OGDEN', 'KOENIG', 'JACOB', 'IRVING', 'GEIGER', 'BEGAY', 'PARRA', 'CHAMPION', 'LASSITER', 'HAWK', 'ESPOSITO', 'CHO', 'WALDRON', 'VERNON', 'RANSOM', 'PRATHER', 'KEENAN', 'JEAN', 'GROVER', 'CHACON', 'VICK', 'SANDS', 'ROARK', 'PARR', 'MAYBERRY', 'GREENBERG', 'COLEY', 'BRUNER', 'WHITMAN', 'SKAGGS', 'SHIPMAN', 'MEANS', 'LEARY', 'HUTTON', 'ROMO', 'MEDRANO', 'LADD', 'KRUSE', 'FRIEND', 'DARLING', 'ASKEW', 'VALENTIN', 'SCHULZ', 'ALFARO', 'TABOR', 'MOHR', 'GALLO', 'BERMUDEZ', 'PEREIRA', 'ISAAC', 'BLISS', 'REAVES', 'FLINT', 'COMER', 'BOSTON', 'WOODALL', 'NAQUIN', 'GUEVARA', 'EARL', 'DELONG', 'CARRIER', 'PICKENS', 'BRAND', 'TILLEY', 'SCHAFFER', 'READ', 'LIM', 'KNUTSON', 'FENTON', 'DORAN', 'CHU', 'VOGT', 'VANN', 'PRESCOTT', 'MCLAIN', 'LANDIS', 'CORCORAN', 'AMBROSE', 'ZAPATA', 'HYATT', 'HEMPHILL', 'FAULK', 'CALL', 'DOVE', 'BOUDREAUX', 'ARAGON', 'WHITLOCK', 'TREJO', 'TACKETT', 'SHEARER', 'SALDANA', 'HANKS', 'GOLD', 'DRIVER', 'MCKINNON', 'KOEHLER', 'CHAMPAGNE', 'BOURGEOIS', 'POOL', 'KEYES', 'GOODSON', 'FOOTE', 'EARLY', 'LUNSFORD', 'GOLDSMITH', 'FLOOD', 'WINSLOW', 'SAMS', 'REAGAN', 'MCCLOUD', 'HOUGH', 'ESQUIVEL', 'NAYLOR', 'LOOMIS', 'CORONADO', 'LUDWIG', 'BRASWELL', 'BEARDEN', 'SHERRILL', 'HUANG', 'FAGAN', 'EZELL', 'EDMONDSON', 'CYR', 'CRONIN', 'NUNN', 'LEMON', 'GUILLORY', 'GRIER', 'DUBOSE', 'TRAYLOR', 'RYDER', 'DOBBINS', 'COYLE', 'APONTE', 'WHITMORE', 'SMALLS', 'ROWAN', 'MALLOY', 'CARDONA', 'BRAXTON', 'BORDEN', 'HUMPHRIES', 'CARRASCO', 'RUFF', 'METZGER', 'HUNTLEY', 'HINOJOSA', 'FINNEY', 'MADSEN', 'HONG', 'HILLS', 'ERNST', 'DOZIER', 'BURKHART', 'BOWSER', 'PERALTA', 'DAIGLE', 'WHITTINGTON', 'SORENSON', 'SAUCEDO', 'ROCHE', 'REDDING', 'LOYD', 'FUGATE', 'AVALOS', 'WAITE', 'LIND', 'HUSTON', 'HAY', 'BENEDICT', 'HAWTHORNE', 'HAMBY', 'BOYLES', 'BOLES', 'REGAN', 'FAUST', 'CROOK', 'BEAM', 'BARGER', 'HINDS', 'GALLARDO', 'ELIAS', 'WILLOUGHBY', 'WILLINGHAM', 'WILBURN', 'ECKERT', 'BUSCH', 'ZEPEDA', 'WORTHINGTON', 'TINSLEY', 'RUSS', 'LI', 'HOFF', 'HAWLEY', 'CARMONA', 'VARELA', 'RECTOR', 'NEWCOMB', 'MALLORY', 'KINSEY', 'DUBE', 'WHATLEY', 'STRANGE', 'RAGSDALE', 'IVY', 'BERNSTEIN', 'BECERRA', 'YOST', 'MATTSON', 'LY', 'FELDER', 'CHEEK', 'LUKE', 'HANDY', 'GROSSMAN', 'GAUTHIER', 'ESCOBEDO', 'BRADEN', 'BECKMAN', 'MOTT', 'HILLMAN', 'GIL', 'FLAHERTY', 'DYKES', 'DOE', 'STOCKTON', 'STEARNS', 'LOFTON', 'KITCHEN', 'COATS', 'CAVAZOS', 'BEAVERS', 'BARRIOS', 'TANG', 'PARISH', 'MOSHER', 'LINCOLN', 'CARDWELL', 'COLES', 'BURNHAM', 'WELLER', 'LEMONS', 'BEEBE', 'AGUILERA', 'RING', 'PARNELL', 'HARMAN', 'COUTURE', 'ALLEY', 'SCHUMACHER', 'REDD', 'DOBBS', 'BLUM', 'BLALOCK', 'MERCHANT', 'ENNIS', 'DENSON', 'COTTRELL', 'CHESTER', 'BRANNON', 'BAGLEY', 'AVILES', 'WATT', 'SOUSA', 'ROSENTHAL', 'ROONEY', 'DIETZ', 'BLANK', 'PAQUETTE', 'MCCLELLAND', 'DUFF', 'VELASCO', 'LENTZ', 'GRUBB', 'BURROWS', 'BARBOUR', 'ULRICH', 'SHOCKLEY', 'RADER', 'GERMAN', 'BEYER', 'MIXON', 'LAYTON', 'ALTMAN', 'ALONZO', 'WEATHERS', 'TITUS', 'STONER', 'SQUIRES', 'SHIPP', 'PRIEST', 'LIPSCOMB', 'CUTLER', 'CABALLERO', 'ZIMMER', 'WILLETT', 'THURSTON', 'STOREY', 'MEDLEY', 'LYLE', 'EPPERSON', 'SHAH', 'MCMILLIAN', 'BAGGETT', 'TORREZ', 'LAWS', 'HIRSCH', 'DENT', 'COREY', 'POIRIER', 'PEACHEY', 'JACQUES', 'FARRAR', 'CREECH', 'BARTH', 'TRIMBLE', 'FRANCE', 'DUPRE', 'ALBRECHT', 'SAMPLE', 'LAWLER', 'CRISP', 'CONROY', 'CHADWICK', 'WETZEL', 'NESBITT', 'MURRY', 'JAMESON', 'WILHELM', 'PATTEN', 'MINTON', 'MATSON', 'KIMBROUGH', 'IVERSON', 'GUINN', 'GALE', 'FORTUNE', 'CROFT', 'TOTH', 'PULLIAM', 'NUGENT', 'NEWBY', 'LITTLEJOHN', 'DIAS', 'CANALES', 'BERNIER', 'BARON', 'BARNEY', 'SINGLETARY', 'RENTERIA', 'PRUETT', 'MCHUGH', 'MABRY', 'LANDRUM', 'BROWER', 'WELDON', 'STODDARD', 'RUTH', 'CAGLE', 'STJOHN', 'SCALES', 'KOHLER', 'KELLOGG', 'HOPSON', 'GANT', 'THARP', 'GANN', 'ZEIGLER', 'PRINGLE', 'HAMMONS', 'FAIRCHILD', 'DEATON', 'CHAVIS', 'CARNES', 'ROWLEY', 'MATLOCK', 'LIBBY', 'KEARNS', 'IRIZARRY', 'CARRINGTON', 'STARKEY', 'PEPPER', 'LOPES', 'JARRELL', 'FAY', 'CRAVEN', 'BEVERLY', 'BAUM', 'SPAIN', 'LITTLEFIELD', 'LINN', 'HUMPHREYS', 'HOOK', 'HIGH', 'ETHERIDGE', 'CUELLAR', 'CHASTAIN', 'CHANCE', 'BUNDY', 'SPEER', 'SKELTON', 'QUIROZ', 'PYLE', 'PORTILLO', 'PONDER', 'MOULTON', 'MACHADO', 'LIU', 'KILLIAN', 'HUTSON', 'HITCHCOCK', 'ELLSWORTH', 'DOWLING', 'CLOUD', 'BURDICK', 'SPANN', 'PEDERSEN', 'LEVIN', 'LEGGETT', 'HAYWARD', 'HACKER', 'DIETRICH', 'BEAULIEU', 'BARKSDALE', 'WAKEFIELD', 'SNOWDEN', 'PARIS', 'BRISCOE', 'BOWIE', 'BERMAN', 'OGLE', 'MCGREGOR', 'LAUGHLIN', 'HELM', 'BURDEN', 'WHEATLEY', 'SCHREIBER', 'PRESSLEY', 'PARRIS', 'NG', 'ALANIZ', 'AGEE', 'URBAN', 'SWANN', 'SNODGRASS', 'SCHUSTER', 'RADFORD', 'MONK', 'MATTINGLY', 'MAIN', 'LAMAR', 'HARP', 'GIRARD', 'CHENEY', 'YANCEY', 'WAGONER', 'RIDLEY', 'LOMBARDO', 'LAU', 'HUDGINS', 'GASKINS', 'DUCKWORTH', 'COE', 'COBURN', 'WILLEY', 'PRADO', 'NEWBERRY', 'MAGANA', 'HAMMONDS', 'ELAM', 'WHIPPLE', 'SLADE', 'SERNA', 'OJEDA', 'LILES', 'DORMAN', 'DIEHL', 'ANGEL', 'UPTON', 'REARDON', 'MICHAELS', 'KELSEY', 'GOETZ', 'ELLER', 'BAUMAN', 'BAER', 'AUGUSTINE', 'LAYNE', 'HUMMEL', 'BRENNER', 'AMAYA', 'ADAMSON', 'ORNELAS', 'DOWELL', 'CLOUTIER', 'CHRISTY', 'CASTELLANOS', 'WING', 'WELLMAN', 'SAYLOR', 'OROURKE', 'MOYA', 'MONTALVO', 'KILPATRICK', 'HARLEY', 'DURBIN', 'SHELL', 'OLDHAM', 'KANG', 'GARVIN', 'FOSS', 'BRANHAM', 'BARTHOLOMEW', 'TEMPLETON', 'MAGUIRE', 'HOLTON', 'ALONSO', 'RIDER', 'MONAHAN', 'MCCORMACK', 'BEATY', 'ANDERS', 'STREETER', 'NIETO', 'NIELSON', 'MOFFETT', 'LANKFORD', 'KEATING', 'HECK', 'GATLIN', 'DELATORRE', 'CALLAWAY', 'ADCOCK', 'WORRELL', 'UNGER', 'ROBINETTE', 'NOWAK', 'JETER', 'BRUNNER', 'ASHTON', 'STEEN', 'PARROTT', 'OVERSTREET', 'NOBLES', 'MONTANEZ', 'LUTHER', 'CLEVENGER', 'BRINKLEY', 'TRAHAN', 'QUARLES', 'PICKERING', 'PEDERSON', 'JANSEN', 'GRANTHAM', 'GILCHRIST', 'CRESPO', 'AIKEN', 'SCHELL', 'SCHAEFFER', 'LORENZ', 'LEYVA', 'HARMS', 'DYSON', 'WALLIS', 'PEASE', 'LEAVITT', 'HYMAN', 'CHENG', 'CAVANAUGH', 'BATTS', 'WARDEN', 'SEAMAN', 'ROCKWELL', 'QUEZADA', 'PAXTON', 'LINDER', 'HOUCK', 'FONTAINE', 'DURANT', 'CARUSO', 'ADLER', 'PIMENTEL', 'MIZE', 'LYTLE', 'DONALD', 'CLEARY', 'CASON', 'ACKER', 'SWITZER', 'SALMON', 'ISAACS', 'HIGGINBOTHAM', 'HAN', 'WATERMAN', 'VANDYKE', 'STAMPER', 'SISK', 'SHULER', 'RIDDICK', 'REDMAN', 'MCMAHAN', 'LEVESQUE', 'HATTON', 'BRONSON', 'BOLLINGER', 'ARNETT', 'OKEEFE', 'GERBER', 'GANNON', 'FARNSWORTH', 'BAUGHMAN', 'SILVERMAN', 'SATTERFIELD', 'ROYAL', 'MCCRARY', 'KOWALSKI', 'JOY', 'GRIGSBY', 'GRECO', 'CABRAL', 'TROUT', 'RINEHART', 'MAHON', 'LINTON', 'GOODEN', 'CURLEY', 'BAUGH', 'WYMAN', 'WEINER', 'SCHWAB', 'SCHULER', 'MORRISSEY', 'MAHAN', 'COY', 'BUNN', 'ANDREW', 'THRASHER', 'SPEAR', 'WAGGONER', 'SHELLEY', 'ROBERT', 'QUALLS', 'PURDY', 'MCWHORTER', 'MAULDIN', 'MARK', 'JORDON', 'GILMAN', 'PERRYMAN', 'NEWSOM', 'MENARD', 'MARTINO', 'GRAF', 'BILLINGSLEY', 'ARTIS', 'SIMPKINS', 'SALISBURY', 'QUINTANILLA', 'GILLILAND', 'FRALEY', 'FOUST', 'CROUSE', 'SCARBOROUGH', 'NGO', 'GRISSOM', 'FULTZ', 'RICO', 'MARLOW', 'MARKHAM', 'MADRIGAL', 'LAWTON', 'BARFIELD', 'WHITING', 'VARNEY', 'SCHWARZ', 'HUEY', 'GOOCH', 'ARCE', 'WHEAT', 'TRUONG', 'POULIN', 'MACKENZIE', 'LEONE', 'HURTADO', 'SELBY', 'GAITHER', 'FORTNER', 'CULPEPPER', 'COUGHLIN', 'BRINSON', 'BOUDREAU', 'BARKLEY', 'BALES', 'STEPP', 'HOLM', 'TAN', 'SCHILLING', 'MORRELL', 'KAHN', 'HEATON', 'GAMEZ', 'DOUGLASS', 'CAUSEY', 'BROTHERS', 'TURPIN', 'SHANKS', 'SCHRADER', 'MEEK', 'ISOM', 'HARDISON', 'CARRANZA', 'YANEZ', 'WAY', 'SCROGGINS', 'SCHOFIELD', 'RUNYON', 'RATCLIFF', 'MURRELL', 'MOELLER', 'IRBY', 'CURRIER', 'BUTTERFIELD', 'YEE', 'RALSTON', 'PULLEN', 'PINSON', 'ESTEP', 'EAST', 'CARBONE', 'LANCE', 'HAWKS', 'ELLINGTON', 'CASILLAS', 'SPURLOCK', 'SIKES', 'MOTLEY', 'MCCARTNEY', 'KRUGER', 'ISBELL', 'HOULE', 'FRANCISCO', 'BURK', 'BONE', 'TOMLIN', 'SHELBY', 'QUIGLEY', 'NEUMANN', 'LOVELACE', 'FENNELL', 'COLBY', 'CHEATHAM', 'BUSTAMANTE', 'SKIDMORE', 'HIDALGO', 'FORMAN', 'CULP', 'BOWENS', 'BETANCOURT', 'AQUINO', 'ROBB', 'REA', 'MILNER', 'MARTEL', 'GRESHAM', 'WILES', 'RICKETTS', 'GAVIN', 'DOWD', 'COLLAZO', 'BOSTIC', 'BLAKELY', 'SHERROD', 'POWER', 'KENYON', 'GANDY', 'EBERT', 'DELOACH', 'CARY', 'BULL', 'ALLARD', 'SAUER', 'ROBINS', 'OLIVARES', 'GILLETTE', 'CHESTNUT', 'BOURQUE', 'PAINE', 'LYMAN', 'HITE', 'HAUSER', 'DEVORE', 'CRAWLEY', 'CHAPA', 'VU', 'TOBIAS', 'TALBERT', 'POINDEXTER', 'MILLARD', 'MEADOR', 'MCDUFFIE', 'MATTOX', 'KRAUS', 'HARKINS', 'CHOATE', 'BESS', 'WREN', 'SLEDGE', 'SANBORN', 'OUTLAW', 'KINDER', 'GEARY', 'CORNWELL', 'BARCLAY', 'ADAM', 'ABNEY', 'SEWARD', 'RHOADS', 'HOWLAND', 'FORTIER', 'EASTER', 'BENNER', 'VINES', 'TUBBS', 'TROUTMAN', 'RAPP', 'NOE', 'MCCURDY', 'HARDER', 'DELUCA', 'WESTMORELAND', 'SOUTH', 'HAVENS', 'GUAJARDO', 'ELY', 'CLARY', 'SEAL', 'MEEHAN', 'HERZOG', 'GUILLEN', 'ASHCRAFT', 'WAUGH', 'RENNER', 'MILAM', 'JUNG', 'ELROD', 'CHURCHILL', 'BUFORD', 'BREAUX', 'BOLIN', 'ASHER', 'WINDHAM', 'TIRADO', 'PEMBERTON', 'NOLEN', 'NOLAND', 'KNOTT', 'EMMONS', 'CORNISH', 'CHRISTENSON', 'BROWNLEE', 'BARBEE', 'WALDROP', 'PITT', 'OLVERA', 'LOMBARDI', 'GRUBER', 'GAFFNEY', 'EGGLESTON', 'BANDA', 'ARCHULETA', 'STILL', 'SLONE', 'PREWITT', 'PFEIFFER', 'NETTLES', 'MENA', 'MCADAMS', 'HENNING', 'GARDINER', 'CROMWELL', 'CHISHOLM', 'BURLESON', 'BOX', 'VEST', 'OGLESBY', 'MCCARTER', 'MALCOLM', 'LUMPKIN', 'LARUE', 'GREY', 'WOFFORD', 'VANHORN', 'THORN', 'TEEL', 'SWAFFORD', 'STCLAIR', 'STANFIELD', 'OCAMPO', 'HERRMANN', 'HANNON', 'ARSENAULT', 'ROUSH', 'MCALISTER', 'HIATT', 'GUNDERSON', 'FORSYTHE', 'DUGGAN', 'DELVALLE', 'CINTRON', 'WILKS', 'WEINSTEIN', 'URIBE', 'RIZZO', 'NOYES', 'MCLENDON', 'GURLEY', 'BETHEA', 'WINSTEAD', 'MAPLES', 'HARRY', 'GUYTON', 'GIORDANO', 'ALDERMAN', 'VALDES', 'POLANCO', 'PAPPAS', 'LIVELY', 'GROGAN', 'GRIFFITHS', 'BOBO', 'AREVALO', 'WHITSON', 'SOWELL', 'RENDON', 'MATTHEW', 'JULIAN', 'FERNANDES', 'FARROW', 'EDMOND', 'BENAVIDEZ', 'AYRES', 'ALICEA', 'STUMP', 'SMALLEY', 'SEITZ', 'SCHULTE', 'GILLEY', 'GALLANT', 'DEWEY', 'CASPER', 'CANFIELD', 'WOLFORD', 'OMALLEY', 'MCNUTT', 'MCNULTY', 'MCGOVERN', 'HARDMAN', 'HARBIN', 'COWART', 'CHAVARRIA', 'BRINK', 'BECKETT', 'BAGWELL', 'ARMSTEAD', 'ANGLIN', 'ABREU', 'REYNOSO', 'KREBS', 'JETT', 'HOFFMANN', 'GREENFIELD', 'FORTE', 'BURNEY', 'BROOME', 'SISSON', 'PARENT', 'JUDE', 'YOUNGER', 'TRAMMELL', 'PARTRIDGE', 'MARVIN', 'MACE', 'LOMAX', 'LEMIEUX', 'GOSSETT', 'FRANTZ', 'FOGLE', 'COONEY', 'BROUGHTON', 'PENCE', 'PAULSEN', 'NEIL', 'MUNCY', 'MCARTHUR', 'HOLLINS', 'EDWARD', 'BEAUCHAMP', 'WITHERS', 'OSORIO', 'MULLIGAN', 'HOYLE', 'FOY', 'DOCKERY', 'COCKRELL', 'BEGLEY', 'AMADOR', 'ROBY', 'RAINS', 'LINDQUIST', 'GENTILE', 'EVERHART', 'BOHANNON', 'WYLIE', 'THAO', 'SOMMERS', 'PURNELL', 'PALMA', 'FORTIN', 'DUNNING', 'BREEDEN', 'VAIL', 'PHELAN', 'PHAN', 'MARX', 'COSBY', 'COLBURN', 'CHONG', 'BOLING', 'BIDDLE', 'LEDESMA', 'GADDIS', 'DENNEY', 'CHOW', 'BUENO', 'BERRIOS', 'WICKER', 'TOLLIVER', 'THIBODEAUX', 'NAGLE', 'LAVOIE', 'FISK', 'DO', 'CRIST', 'BARBOSA', 'REEDY', 'MARCH', 'LOCKLEAR', 'KOLB', 'HIMES', 'BEHRENS', 'BECKWITH', 'BECKHAM', 'WEEMS', 'WAHL', 'SHORTER', 'SHACKELFORD', 'REES', 'MUSE', 'FREE', 'CERDA', 'VALADEZ', 'THIBODEAU', 'SAAVEDRA', 'RIDGEWAY', 'REITER', 'MCHENRY', 'MAJORS', 'LACHANCE', 'KEATON', 'ISRAEL', 'FERRARA', 'FALCON', 'CLEMENS', 'BLOCKER', 'APPLEGATE', 'PAZ', 'NEEDHAM', 'MOJICA', 'KUYKENDALL', 'HAMEL', 'ESCAMILLA', 'DOUGHTY', 'BURCHETT', 'AINSWORTH', 'WILBUR', 'VIDAL', 'UPCHURCH', 'THIGPEN', 'STRAUSS', 'SPRUILL', 'SOWERS', 'RIGGINS', 'RICKER', 'MCCOMBS', 'HARLOW', 'GARNETT', 'BUFFINGTON', 'YI', 'SOTELO', 'OLIVAS', 'NEGRETE', 'MOREY', 'MACON', 'LOGSDON', 'LAPOINTE', 'FLORENCE', 'CATHEY', 'BIGELOW', 'BELLO', 'WESTFALL', 'STUBBLEFIELD', 'PEAK', 'LINDLEY', 'JEFFREY', 'HEIN', 'HAWES', 'FARRINGTON', 'EDGE', 'BREEN', 'BIRCH', 'WILDE', 'STEED', 'SEPULVEDA', 'REINHARDT', 'PROFFITT', 'MINTER', 'MESSINA', 'MCNABB', 'MAIER', 'KEELER', 'GAMBOA', 'DONOHUE', 'DEXTER', 'BASHAM', 'SHINN', 'ORLANDO', 'CROOKS', 'COTA', 'BORDERS', 'BILLS', 'BACHMAN', 'TISDALE', 'TAVARES', 'SCHMID', 'PICKARD', 'JASPER', 'GULLEY', 'FONSECA', 'DELOSSANTOS', 'CONDON', 'CLANCY', 'BATISTA', 'WICKS', 'WADSWORTH', 'NEW', 'MARTELL', 'LO', 'LITTLETON', 'ISON', 'HAAG', 'FOLSOM', 'BRUMFIELD', 'BROYLES', 'BRITO', 'MIRELES', 'MCDONNELL', 'LECLAIR', 'HAMBLIN', 'GOUGH', 'FANNING', 'BINDER', 'WINFIELD', 'WHITWORTH', 'SORIANO', 'PALUMBO', 'NEWKIRK', 'MANGUM', 'HUTCHERSON', 'COMSTOCK', 'CECIL', 'CARLIN', 'BEALL', 'BAIR', 'WENDT', 'WATTERS', 'WALLING', 'PUTMAN', 'OTOOLE', 'OLIVA', 'MORLEY', 'MARES', 'LEMUS', 'KEENER', 'JEFFERY', 'HUNDLEY', 'DIAL', 'DAMICO', 'BILLUPS', 'STROTHER', 'MCFARLANE', 'LAMM', 'EAVES', 'CRUTCHER', 'CARABALLO', 'CANTY', 'ATWELL', 'TAFT', 'SILER', 'RUST', 'RAWLS', 'RAWLINGS', 'PRIETO', 'NILES', 'MCNEELY', 'MCAFEE', 'HULSEY', 'HARLAN', 'HACKNEY', 'GALVEZ', 'ESCALANTE', 'DELAGARZA', 'CRIDER', 'CHARLTON', 'BANDY', 'WILBANKS', 'STOWE', 'STEINBERG', 'SAMSON', 'RENFRO', 'MASTERSON', 'MASSIE', 'LANHAM', 'HASKELL', 'HAMRICK', 'FORT', 'DEHART', 'CARD', 'BURDETTE', 'BRANSON', 'BOURNE', 'BABIN', 'ALEMAN', 'WORTHY', 'TIBBS', 'SWEAT', 'SMOOT', 'SLACK', 'PARADIS', 'PACKARD', 'MULL', 'LUCE', 'HOUGHTON', 'GANTT', 'FURMAN', 'DANNER', 'CHRISTIANSON', 'BURGE', 'BRODERICK', 'ASHFORD', 'ARNDT', 'ALMEIDA', 'STALLWORTH', 'SHADE', 'SEARCY', 'SAGER', 'NOONAN', 'MCLEMORE', 'MCINTIRE', 'MAXEY', 'LAVIGNE', 'JOBE', 'IRELAND', 'FERRER', 'FALK', 'EDGAR', 'COFFIN', 'BYRNES', 'ARANDA', 'APODACA', 'STAMPS', 'ROUNDS', 'PEEK', 'OLMSTEAD', 'LEWANDOWSKI', 'KAMINSKI', 'HER', 'DUNAWAY', 'BRUNS', 'BRACKETT', 'AMATO', 'REICH', 'MCCLUNG', 'LACROIX', 'KOONTZ', 'HERRICK', 'HARDESTY', 'FLANDERS', 'COUSINS', 'CLOSE', 'CATO', 'CADE', 'VICKERY', 'SHANK', 'NAGEL', 'DUPUIS', 'CROTEAU', 'COTTER', 'CABLE', 'STUCKEY', 'STINE', 'PORTERFIELD', 'PAULEY', 'NYE', 'MOFFITT', 'LU', 'KNUDSEN', 'HARDWICK', 'GOFORTH', 'DUPONT', 'BLUNT', 'BARROWS', 'BARNHILL', 'SHULL', 'RASH', 'RALPH', 'PENNY', 'LORENZO', 'LOFTIS', 'LEMAY', 'KITCHENS', 'HORVATH', 'GRENIER', 'FUCHS', 'FAIRBANKS', 'CULBERTSON', 'CALKINS', 'BURNSIDE', 'BEATTIE', 'ASHWORTH', 'ALBERTSON', 'WERTZ', 'VO', 'VAUGHT', 'VALLEJO', 'TYREE', 'TURK', 'TUCK', 'TIJERINA', 'SAGE', 'PICARD', 'PETERMAN', 'OTIS', 'MARROQUIN', 'MARR', 'LANTZ', 'HOANG', 'DEMARCO', 'DAILY', 'CONE', 'BERUBE', 'BARNETTE', 'WHARTON', 'STINNETT', 'SLOCUM', 'SCANLON', 'SANDER', 'PINTO', 'MANCUSO', 'LIMA', 'JUDGE', 'HEADLEY', 'EPSTEIN', 'COUNTS', 'CLARKSON', 'CARNAHAN', 'BRICE', 'BOREN', 'ARTEAGA', 'ADAME', 'ZOOK', 'WHITTLE', 'WHITEHURST', 'WENZEL', 'SAXTON', 'RHEA', 'REDDICK', 'PUENTE', 'HAZEL', 'HANDLEY', 'HAGGERTY', 'EARLEY', 'DEVLIN', 'DALLAS', 'CHAFFIN', 'CADY', 'AHMED', 'ACUNA', 'SOLANO', 'SIGLER', 'POLLACK', 'PENDERGRASS', 'OSTRANDER', 'JANES', 'FRANCOIS', 'FINE', 'CRUTCHFIELD', 'CORDELL', 'CHAMBERLIN', 'BRUBAKER', 'BAPTISTE', 'WILLSON', 'REIS', 'NEELEY', 'MULLIN', 'MERCIER', 'LIRA', 'LAYMAN', 'KEELING', 'HIGDON', 'GUEST', 'FORRESTER', 'ESPINAL', 'DION', 'CHAPIN', 'CARL', 'WARFIELD', 'TOLEDO', 'PULIDO', 'PEEBLES', 'NAGY', 'MONTAGUE', 'MELLO', 'LEAR', 'JAEGER', 'HOGG', 'GRAFF', 'FURR', 'DERRICK', 'CAVE', 'CANADA', 'SOLIZ', 'POORE', 'MENDENHALL', 'MCLAURIN', 'MAESTAS', 'LOW', 'GABLE', 'BELT', 'BARRAZA', 'TILLERY', 'SNEAD', 'POND', 'NEILL', 'MCCULLOCH', 'MCCORKLE', 'LIGHTFOOT', 'HUTCHINGS', 'HOLLOMAN', 'HARNESS', 'DORN', 'COUNCIL', 'BOCK', 'ZIELINSKI', 'TURLEY', 'TREADWELL', 'STPIERRE', 'STARLING', 'SOMERS', 'OSWALD', 'MERRICK', 'MARQUIS', 'IVORY', 'EASTERLING', 'BIVENS', 'TRUITT', 'POSTON', 'PARRY', 'ONTIVEROS', 'OLIVAREZ', 'NEVILLE', 'MOREAU', 'MEDLIN', 'MA', 'LENZ', 'KNOWLTON', 'FAIRLEY', 'COBBS', 'CHISOLM', 'BANNISTER', 'WOODWORTH', 'TOLER', 'OCASIO', 'NORIEGA', 'NEUMAN', 'MOYE', 'MILBURN', 'MCCLANAHAN', 'LILLEY', 'HANES', 'FLANNERY', 'DELLINGER', 'DANIELSON', 'CONTI', 'BLODGETT', 'BEERS', 'WEATHERFORD', 'STRAIN', 'KARR', 'HITT', 'DENHAM', 'CUSTER', 'COBLE', 'CLOUGH', 'CASTEEL', 'BOLDUC', 'BATCHELOR', 'AMMONS', 'WHITLOW', 'TIERNEY', 'STATEN', 'SIBLEY', 'SEIFERT', 'SCHUBERT', 'SALCEDO', 'MATTISON', 'LANEY', 'HAGGARD', 'GROOMS', 'DIX', 'DEES', 'CROMER', 'COOKS', 'COLSON', 'CASWELL', 'ZARATE', 'SWISHER', 'STACEY', 'SHIN', 'RAGAN', 'PRIDGEN', 'MCVEY', 'MATHENY', 'LEIGH', 'LAFLEUR', 'FRANZ', 'FERRARO', 'DUGGER', 'WHITESIDE', 'RIGSBY', 'MCMURRAY', 'LEHMANN', 'LARGE', 'JACOBY', 'HILDEBRAND', 'HENDRICK', 'HEADRICK', 'GOAD', 'FINCHER', 'DRURY', 'BORGES', 'ARCHIBALD', 'ALBERS', 'WOODCOCK', 'TRAPP', 'SOARES', 'SEATON', 'RICHIE', 'MONSON', 'LUCKETT', 'LINDBERG', 'KOPP', 'KEETON', 'HSU', 'HEALEY', 'GARVEY', 'GADDY', 'FAIN', 'BURCHFIELD', 'BADGER', 'WENTWORTH', 'STRAND', 'STACK', 'SPOONER', 'SAUCIER', 'SALES', 'RUBY', 'RICCI', 'PLUNKETT', 'PANNELL', 'NESS', 'LEGER', 'HOY', 'FREITAS', 'FONG', 'ELIZONDO', 'DUVAL', 'CHUN', 'CALVIN', 'BEAUDOIN', 'URBINA', 'STOCK', 'RICKARD', 'PARTIN', 'MOE', 'MCGREW', 'MCCLINTOCK', 'LEDOUX', 'FORSYTH', 'FAISON', 'DEVRIES', 'BERTRAND', 'WASSON', 'TILTON', 'SCARBROUGH', 'PRIDE', 'OH', 'LEUNG', 'LARRY', 'IRVINE', 'GARBER', 'DENNING', 'CORRAL', 'COLLEY', 'CASTLEBERRY', 'BOWLIN', 'BOGAN', 'BEALE', 'BAINES', 'TRUE', 'TRICE', 'RAYBURN', 'PARKINSON', 'PAK', 'NUNES', 'MCMILLEN', 'LEAHY', 'LEA', 'KIMMEL', 'HIGGS', 'FULMER', 'CARDEN', 'BEDFORD', 'TAGGART', 'SPEARMAN', 'REGISTER', 'PRICHARD', 'MORRILL', 'KOONCE', 'HEINZ', 'HEDGES', 'GUENTHER', 'GRICE', 'FINDLEY', 'EARLE', 'DOVER', 'CREIGHTON', 'BOOTHE', 'BAYER', 'ARREOLA', 'VITALE', 'VALLES', 'SEE', 'RANEY', 'PETER', 'OSGOOD', 'LOWELL', 'HANLON', 'BURLEY', 'BOUNDS', 'WORDEN', 'WEATHERLY', 'VETTER', 'TANAKA', 'STILTNER', 'SELL', 'NEVAREZ', 'MOSBY', 'MONTERO', 'MELANCON', 'HARTER', 'HAMER', 'GOBLE', 'GLADDEN', 'GIST', 'GINN', 'AKIN', 'ZARAGOZA', 'TOWNS', 'TARVER', 'SAMMONS', 'ROYSTER', 'OREILLY', 'MUIR', 'MOREHEAD', 'LUSTER', 'KINGSLEY', 'KELSO', 'GRISHAM', 'GLYNN', 'BAUMANN', 'ALVES', 'YOUNT', 'TAMAYO', 'TAM', 'PATERSON', 'OATES', 'MENENDEZ', 'LONGO', 'HARGIS', 'GREENLEE', 'GILLEN', 'DESANTIS', 'CONOVER', 'BREEDLOVE', 'WAYNE', 'SUMPTER', 'SCHERER', 'RUPP', 'REICHERT', 'HEREDIA', 'FALLON', 'CREEL', 'COHN', 'CLEMMONS', 'CASAS', 'BICKFORD', 'BELTON', 'BACH', 'WILLIFORD', 'WHITCOMB', 'TENNANT', 'SUTTER', 'STULL', 'SESSIONS', 'MCCALLUM', 'MANSON', 'LANGLOIS', 'KEEL', 'KEEGAN', 'EMANUEL', 'DANGELO', 'DANCY', 'DAMRON', 'CLAPP', 'CLANTON', 'BANKSTON', 'TRINIDAD', 'OLIVEIRA', 'MINTZ', 'MCINNIS', 'MARTENS', 'MABE', 'LASTER', 'JOLLEY', 'IRISH', 'HILDRETH', 'HEFNER', 'GLASER', 'DUCKETT', 'DEMERS', 'BROCKMAN', 'BLAIS', 'BACK', 'ALCORN', 'AGNEW', 'TOLIVER', 'TICE', 'SONG', 'SEELEY', 'NAJERA', 'MUSSER', 'MCFALL', 'LAPLANTE', 'GALVIN', 'FAJARDO', 'DOAN', 'COYNE', 'COPLEY', 'CLAWSON', 'CHEUNG', 'BARONE', 'WYNNE', 'WOODLEY', 'TREMBLAY', 'STOLL', 'SPARROW', 'SPARKMAN', 'SCHWEITZER', 'SASSER', 'SAMPLES', 'RONEY', 'RAMON', 'LEGG', 'LAI', 'JOE', 'HEIM', 'FARIAS', 'CONCEPCION', 'COLWELL', 'CHRISTMAN', 'BRATCHER', 'ALBA', 'WINCHESTER', 'UPSHAW', 'SOUTHERLAND', 'SORRELL', 'SHAY', 'SELLS', 'MOUNT', 'MCCLOSKEY', 'MARTINDALE', 'LUTTRELL', 'LOVELESS', 'LOVEJOY', 'LINARES', 'LATIMER', 'HOLLY', 'EMBRY', 'COOMBS', 'BRATTON', 'BOSTICK', 'BOSS', 'VENABLE', 'TUGGLE', 'TORO', 'STAGGS', 'SANDLIN', 'JEFFERIES', 'HECKMAN', 'GRIFFIS', 'CRAYTON', 'CLEM', 'BUTTON', 'BROWDER', 'ALLAN', 'THORTON', 'STURGILL', 'SPROUSE', 'ROYER', 'ROUSSEAU', 'RIDENOUR', 'POGUE', 'PERALES', 'PEEPLES', 'METZLER', 'MESA', 'MCCUTCHEON', 'MCBEE', 'JAY', 'HORNSBY', 'HEFFNER', 'CORRIGAN', 'ARMIJO', 'VUE', 'ROMEO', 'PLANTE', 'PEYTON', 'PAREDES', 'MACKLIN', 'HUSSEY', 'HODGSON', 'GRANADOS', 'FRIAS', 'CARMAN', 'BRENT', 'BECNEL', 'BATTEN', 'ALMANZA', 'TURNEY', 'TEAL', 'STURGEON', 'MEEKER', 'MCDANIELS', 'LIMON', 'KEENEY', 'KEE', 'HUTTO', 'HOLGUIN', 'GORHAM', 'FISHMAN', 'FIERRO', 'BLANCHETTE', 'RODRIGUE', 'REDDY', 'OSBURN', 'ODEN', 'LERMA', 'KIRKWOOD', 'KEEFER', 'HAUGEN', 'HAMMETT', 'CHALMERS', 'CARLOS', 'BRINKMAN', 'BAUMGARTNER', 'ZHANG', 'VALERIO', 'TELLEZ', 'STEFFEN', 'SHUMATE', 'SAULS', 'RIPLEY', 'KEMPER', 'JACKS', 'GUFFEY', 'EVERS', 'CRADDOCK', 'CARVALHO', 'BLAYLOCK', 'BANUELOS', 'BALDERAS', 'WOODEN', 'WHEATON', 'TURNBULL', 'SHUMAN', 'POINTER', 'MOSIER', 'MCCUE', 'LIGON', 'KOZLOWSKI', 'JOHANSEN', 'INGLE', 'HERR', 'BRIONES', 'SOUTHERN', 'SNIPES', 'RICKMAN', 'PIPKIN', 'PEACE', 'PANTOJA', 'OROSCO', 'MONIZ', 'LAWLESS', 'KUNKEL', 'HIBBARD', 'GALARZA', 'ENOS', 'BUSSEY', 'SETTLE', 'SCHOTT', 'SALCIDO', 'PERREAULT', 'MCDOUGAL', 'MCCOOL', 'HAIGHT', 'GARRIS', 'FERRY', 'EASTON', 'CONYERS', 'ATHERTON', 'WIMBERLY', 'UTLEY', 'STEPHEN', 'SPELLMAN', 'SMITHSON', 'SLAGLE', 'SKIPPER', 'RITCHEY', 'RAND', 'PETIT', 'OSULLIVAN', 'OAKS', 'NUTT', 'MCVAY', 'MCCREARY', 'MAYHEW', 'KNOLL', 'JEWETT', 'HARWOOD', 'HAILEY', 'CARDOZA', 'ASHE', 'ARRIAGA', 'ANDRES', 'ZELLER', 'WIRTH', 'WHITMIRE', 'STAUFFER', 'SPRING', 'ROUNTREE', 'REDDEN', 'MCCAFFREY', 'MARTZ', 'LOVING', 'LAROSE', 'LANGDON', 'HUMES', 'GASKIN', 'FABER', 'DOLL', 'DEVITO', 'CASS', 'ALMOND', 'WINGFIELD', 'WINGATE', 'VILLAREAL', 'TYNER', 'SMOTHERS', 'SEVERSON', 'RENO', 'PENNELL', 'MAUPIN', 'LEIGHTON', 'JANSSEN', 'HASSELL', 'HALLMAN', 'HALCOMB', 'FOLSE', 'FITZSIMMONS', 'FAHEY', 'CRANFORD', 'BOLEN', 'BATTLES', 'BATTAGLIA', 'WOOLDRIDGE', 'WEED', 'TRASK', 'ROSSER', 'REGALADO', 'MCEWEN', 'KEEFE', 'FUQUA', 'ECHEVARRIA', 'DOMINGO', 'DANG', 'CARO', 'BOYNTON', 'ANDRUS', 'WILD', 'VIERA', 'VANMETER', 'TABER', 'SPRADLIN', 'SEIBERT', 'PROVOST', 'PRENTICE', 'OLIPHANT', 'LAPORTE', 'HWANG', 'HATCHETT', 'HASS', 'GREINER', 'FREEDMAN', 'COVERT', 'CHILTON', 'BYARS', 'WIESE', 'VENEGAS', 'SWANK', 'SHRADER', 'RODERICK', 'ROBERGE', 'MULLIS', 'MORTENSEN', 'MCCUNE', 'MARLOWE', 'KIRCHNER', 'KECK', 'ISAACSON', 'HOSTETLER', 'HALVERSON', 'GUNTHER', 'GRISWOLD', 'GERARD', 'FENNER', 'DURDEN', 'BLACKWOOD', 'BERTRAM', 'AHRENS', 'SAWYERS', 'SAVOY', 'NABORS', 'MCSWAIN', 'MACKAY', 'LOY', 'LAVENDER', 'LASH', 'LABBE', 'JESSUP', 'HUBERT', 'FULLERTON', 'DONNELL', 'CRUSE', 'CRITTENDEN', 'CORREIA', 'CENTENO', 'CAUDLE', 'CANADY', 'CALLENDER', 'ALARCON', 'AHERN', 'WINFREY', 'TRIBBLE', 'TOM', 'STYLES', 'SALLEY', 'RODEN', 'MUSGROVE', 'MINNICK', 'FORTENBERRY', 'CARRION', 'BUNTING', 'BETHEL', 'BATISTE', 'WOO', 'WHITED', 'UNDERHILL', 'STILLWELL', 'SILVIA', 'RAUCH', 'PIPPIN', 'PERRIN', 'MESSENGER', 'MANCINI', 'LISTER', 'KINARD', 'HARTMANN', 'FLECK', 'BROADWAY', 'WILT', 'TREADWAY', 'THORNHILL', 'SPEED', 'SPALDING', 'SAM', 'RAFFERTY', 'PITRE', 'PATINO', 'ORDONEZ', 'LINKOUS', 'KELLEHER', 'HOMAN', 'HOLIDAY', 'GALBRAITH', 'FEENEY', 'DORRIS', 'CURTIN', 'COWARD', 'CAMARILLO', 'BUSS', 'BUNNELL', 'BOLT', 'BEELER', 'AUTRY', 'ALCALA', 'WITTE', 'WENTZ', 'STIDHAM', 'SHIVELY', 'NUNLEY', 'MEACHAM', 'MARTINS', 'LEMKE', 'LEFEBVRE', 'KAYE', 'HYNES', 'HOROWITZ', 'HOPPE', 'HOLCOMBE', 'ESTRELLA', 'DUNNE', 'DERR', 'COCHRANE', 'BRITTAIN', 'BEDARD', 'BEAUREGARD', 'TORRENCE', 'STRUNK', 'SORIA', 'SIMONSON', 'SHUMAKER', 'SCOGGINS', 'PACKER', 'OCONNER', 'MORIARTY', 'LEROY', 'KUNTZ', 'IVES', 'HUTCHESON', 'HORAN', 'HALES', 'GARMON', 'FITTS', 'DELL', 'BOHN', 'ATCHISON', 'WORTH', 'WISNIEWSKI', 'WILL', 'VANWINKLE', 'STURM', 'SALLEE', 'PROSSER', 'MOEN', 'LUNDBERG', 'KUNZ', 'KOHL', 'KEANE', 'JORGENSON', 'JAYNES', 'FUNDERBURK', 'FREED', 'FRAME', 'DURR', 'CREAMER', 'COSGROVE', 'CANDELARIA', 'BERLIN', 'BATSON', 'VANHOOSE', 'THOMSEN', 'TEETER', 'SOMMER', 'SMYTH', 'SENA', 'REDMON', 'ORELLANA', 'MANESS', 'LENNON', 'HEFLIN', 'GOULET', 'FRICK', 'FORNEY', 'DOLLAR', 'BUNKER', 'ASBURY', 'AGUIAR', 'TALBOTT', 'SOUTHARD', 'PLEASANT', 'MOWERY', 'MEARS', 'LEMMON', 'KRIEGER', 'HICKSON', 'GRACIA', 'ELSTON', 'DUONG', 'DELGADILLO', 'DAYTON', 'DASILVA', 'CONAWAY', 'CATRON', 'BRUTON', 'BRADBURY', 'BORDELON', 'BIVINS', 'BITTNER', 'BERGSTROM', 'BEALS', 'ABELL', 'WHELAN', 'TRAVERS', 'TEJADA', 'PULLEY', 'PINO', 'NORFLEET', 'NEALY', 'MAES', 'LOPER', 'HELD', 'GERALD', 'GATEWOOD', 'FRIERSON', 'FREUND', 'FINNEGAN', 'CUPP', 'COVEY', 'CATALANO', 'BOEHM', 'BADER', 'YOON', 'WALSTON', 'TENNEY', 'SIPES', 'ROLLER', 'RAWLINS', 'MEDLOCK', 'MCCASKILL', 'MCCALLISTER', 'MARCOTTE', 'MACLEAN', 'HUGHEY', 'HENKE', 'HARWELL', 'GLADNEY', 'GILSON', 'DEW', 'CHISM', 'CASKEY', 'BRANDENBURG', 'BAYLOR', 'VILLASENOR', 'VEAL', 'VAN', 'THATCHER', 'STEGALL', 'SHORE', 'PETRIE', 'NOWLIN', 'NAVARRETE', 'MUHAMMAD', 'LOMBARD', 'LOFTIN', 'LEMASTER', 'KROLL', 'KOVACH', 'KIMBRELL', 'KIDWELL', 'HERSHBERGER', 'FULCHER', 'ENG', 'CANTWELL', 'BUSTOS', 'BOLAND', 'BOBBITT', 'BINKLEY', 'WESTER', 'WEIS', 'VERDIN', 'TONG', 'TILLER', 'SISCO', 'SHARKEY', 'SEYMORE', 'ROSENBAUM', 'ROHR', 'QUINONEZ', 'PINKSTON', 'NATION', 'MALLEY', 'LOGUE', 'LESSARD', 'LERNER', 'LEBRON', 'KRAUSS', 'KLINGER', 'HALSTEAD', 'HALLER', 'GETZ', 'BURROW', 'BRANT', 'ALGER', 'VICTOR', 'SHORES', 'SCULLY', 'POUNDS', 'PFEIFER', 'PERRON', 'NELMS', 'MUNN', 'MCMASTER', 'MCKENNEY', 'MANNS', 'KNUDSON', 'HUTCHENS', 'HUSKEY', 'GOEBEL', 'FLAGG', 'CUSHMAN', 'CLICK', 'CASTELLANO', 'CARDER', 'BUMGARNER', 'BLAINE', 'BIBLE', 'WAMPLER', 'SPINKS', 'ROBSON', 'NEEL', 'MCREYNOLDS', 'MATHIAS', 'MAAS', 'LOERA', 'KASPER', 'JOSE', 'JENSON', 'FLOREZ', 'COONS', 'BUCKINGHAM', 'BROGAN', 'BERRYMAN', 'WILMOTH', 'WILHITE', 'THRASH', 'SHEPHARD', 'SEIDEL', 'SCHULZE', 'ROLDAN', 'PETTIS', 'OBRYAN', 'MAKI', 'MACKIE', 'HATLEY', 'FRAZER', 'FIORE', 'FALLS', 'CHESSER', 'BUI', 'BOTTOMS', 'BISSON', 'BENEFIELD', 'ALLMAN', 'WILKE', 'TRUDEAU', 'TIMM', 'SHIFFLETT', 'RAU', 'MUNDY', 'MILLIKEN', 'MAYERS', 'LEAKE', 'KOHN', 'HUNTINGTON', 'HORSLEY', 'HERMANN', 'GUERIN', 'FRYER', 'FRIZZELL', 'FORET', 'FLEMMING', 'FIFE', 'CRISWELL', 'CARBAJAL', 'BOZEMAN', 'BOISVERT', 'ARCHIE', 'ANTONIO', 'ANGULO', 'WALLEN', 'TAPP', 'SILVERS', 'RAMSAY', 'OSHEA', 'ORTA', 'MOLL', 'MCKEEVER', 'MCGEHEE', 'LUCIANO', 'LINVILLE', 'KIEFER', 'KETCHUM', 'HOWERTON', 'GROCE', 'GAYLORD', 'GASS', 'FUSCO', 'CORBITT', 'BLYTHE', 'BETZ', 'BARTELS', 'AMARAL', 'AIELLO', 'YOO', 'WEDDLE', 'TROY', 'SUN', 'SPERRY', 'SEILER', 'RUNYAN', 'RALEY', 'OVERBY', 'OSTEEN', 'OLDS', 'MCKEOWN', 'MAURO', 'MATNEY', 'LAUER', 'LATTIMORE', 'HINDMAN', 'HARTWELL', 'FREDRICKSON', 'FREDERICKS', 'ESPINO', 'CLEGG', 'CARSWELL', 'CAMBELL', 'BURKHOLDER', 'AUGUST', 'WOODBURY', 'WELKER', 'TOTTEN', 'THORNBURG', 'THERIAULT', 'STITT', 'STAMM', 'STACKHOUSE', 'SIMONE', 'SCHOLL', 'SAXON', 'RIFE', 'RAZO', 'QUINLAN', 'PINKERTON', 'OLIVO', 'NESMITH', 'NALL', 'MATTOS', 'LEAK', 'LAFFERTY', 'JUSTUS', 'GIRON', 'GEER', 'FIELDER', 'EAGLE', 'DRAYTON', 'DORTCH', 'CONNERS', 'CONGER', 'CHAU', 'BOATWRIGHT', 'BILLIOT', 'BARDEN', 'ARMENTA', 'ANTOINE', 'TIBBETTS', 'STEADMAN', 'SLATTERY', 'SIDES', 'RINALDI', 'RAYNOR', 'RAYFORD', 'PINCKNEY', 'PETTIGREW', 'NICKEL', 'MILNE', 'MATTESON', 'HALSEY', 'GONSALVES', 'FELLOWS', 'DURAND', 'DESIMONE', 'COWLEY', 'COWLES', 'BRILL', 'BARHAM', 'BARELA', 'BARBA', 'ASHMORE', 'WITHROW', 'VALENTI', 'TEJEDA', 'SPRIGGS', 'SAYRE', 'SALERNO', 'PLACE', 'PELTIER', 'PEEL', 'MERRIMAN', 'MATHESON', 'LOWMAN', 'LINDSTROM', 'HYLAND', 'HOMER', 'HA', 'GIROUX', 'FRIES', 'FRASIER', 'EARLS', 'DUGAS', 'DAMON', 'DABNEY', 'COLLADO', 'BRISENO', 'BAXLEY', 'ANDRE', 'WORD', 'WHYTE', 'WENGER', 'VANOVER', 'VANBUREN', 'THIEL', 'SCHINDLER', 'SCHILLER', 'RIGBY', 'POMEROY', 'PASSMORE', 'MARBLE', 'MANZO', 'MAHAFFEY', 'LINDGREN', 'LAFLAMME', 'GREATHOUSE', 'FITE', 'FERRARI', 'CALABRESE', 'BAYNE', 'YAMAMOTO', 'WICK', 'TOWNES', 'THAMES', 'STEEL', 'REINHART', 'PEELER', 'NARANJO', 'MONTEZ', 'MCDADE', 'MAST', 'MARKLEY', 'MARCHAND', 'LEEPER', 'KONG', 'KELLUM', 'HUDGENS', 'HENNESSEY', 'HADDEN', 'GUESS', 'GAINEY', 'COPPOLA', 'BORREGO', 'BOLLING', 'BEANE', 'AULT', 'SLATON', 'POLAND', 'PAPE', 'NULL', 'MULKEY', 'LIGHTNER', 'LANGER', 'HILLARD', 'GLASGOW', 'FABIAN', 'ETHRIDGE', 'ENRIGHT', 'DEROSA', 'BASKIN', 'ALFRED', 'WEINBERG', 'TURMAN', 'TINKER', 'SOMERVILLE', 'PARDO', 'NOLL', 'LASHLEY', 'INGRAHAM', 'HILLER', 'HENDON', 'GLAZE', 'FLORA', 'COTHRAN', 'COOKSEY', 'CONTE', 'CARRICO', 'APPLE', 'ABNER', 'WOOLEY', 'SWOPE', 'SUMMERLIN', 'STURGIS', 'STURDIVANT', 'STOTT', 'SPURGEON', 'SPILLMAN', 'SPEIGHT', 'ROUSSEL', 'POPP', 'NUTTER', 'MCKEON', 'MAZZA', 'MAGNUSON', 'LANNING', 'KOZAK', 'JANKOWSKI', 'HEYWARD', 'FORSTER', 'CORWIN', 'CALLAGHAN', 'BAYS', 'WORTHAM', 'USHER', 'THERIOT', 'SAYERS', 'SABO', 'RUPERT', 'POLING', 'NATHAN', 'LOYA', 'LIEBERMAN', 'LEVI', 'LAROCHE', 'LABELLE', 'HOWES', 'HARR', 'GARAY', 'FOGARTY', 'EVERSON', 'DURKIN', 'DOMINQUEZ', 'CHAVES', 'CHAMBLISS', 'ALFONSO', 'WITCHER', 'WILBER', 'VIEIRA', 'VANDIVER', 'TERRILL', 'STOKER', 'SCHREINER', 'NESTOR', 'MOORMAN', 'LIDDELL', 'LEW', 'LAWHORN', 'KRUG', 'IRONS', 'HYLTON', 'HOLLENBECK', 'HERRIN', 'HEMBREE', 'HAIR', 'GOOLSBY', 'GOODIN', 'GILMER', 'FOLTZ', 'DINKINS', 'DAUGHTRY', 'CABAN', 'BRIM', 'BRILEY', 'BILODEAU', 'BEAR', 'WYANT', 'VERGARA', 'TALLENT', 'SWEARINGEN', 'STROUP', 'SHERRY', 'SCRIBNER', 'ROGER', 'QUILLEN', 'PITMAN', 'MONACO', 'MCCANTS', 'MAXFIELD', 'MARTINSON', 'LANDON', 'HOLTZ', 'FLOURNOY', 'BROOKINS', 'BRODY', 'BAUMGARDNER', 'ANGELO', 'STRAUB', 'SILLS', 'ROYBAL', 'ROUNDTREE', 'OSWALT', 'MONEY', 'MCGRIFF', 'MCDOUGALL', 'MCCLEARY', 'MAGGARD', 'GRAGG', 'GOODING', 'GODINEZ', 'DOOLITTLE', 'DONATO', 'COWELL', 'CASSELL', 'BRACKEN', 'APPEL', 'AHMAD', 'ZAMBRANO', 'REUTER', 'PEREA', 'OLIVE', 'NAKAMURA', 'MONAGHAN', 'MICKENS', 'MCCLINTON', 'MCCLARY', 'MARLER', 'KISH', 'JUDKINS', 'GILBREATH', 'FREESE', 'FLANIGAN', 'FELTS', 'ERDMANN', 'DODDS', 'CHEW', 'BROWNELL', 'BRAZIL', 'BOATRIGHT', 'BARRETO', 'SLAYTON', 'SANDBERG', 'SALDIVAR', 'PETTWAY', 'ODUM', 'NARVAEZ', 'MOULTRIE', 'MONTEMAYOR', 'MERRELL', 'LEES', 'KEYSER', 'HOKE', 'HARDAWAY', 'HANNAN', 'GILBERTSON', 'FOGG', 'DUMONT', 'DEBERRY', 'COGGINS', 'CARRERA', 'BUXTON', 'BUCHER', 'BROADNAX', 'BEESON', 'ARAUJO', 'APPLETON', 'AMUNDSON', 'AGUAYO', 'ACKLEY', 'YOCUM', 'WORSHAM', 'SHIVERS', 'SHELLY', 'SANCHES', 'SACCO', 'ROBEY', 'RHODEN', 'PENDER', 'OCHS', 'MCCURRY', 'MADERA', 'LUONG', 'LUIS', 'KNOTTS', 'JACKMAN', 'HEINRICH', 'HARGRAVE', 'GAULT', 'FOREST', 'COMEAUX', 'CHITWOOD', 'CHILD', 'CARAWAY', 'BOETTCHER', 'BERNHARDT', 'BARRIENTOS', 'ZINK', 'WICKHAM', 'WHITEMAN', 'THORP', 'STILLMAN', 'SETTLES', 'SCHOONOVER', 'ROQUE', 'RIDDELL', 'REY', 'PILCHER', 'PHIFER', 'NOVOTNY', 'MAPLE', 'MACLEOD', 'HARDEE', 'HAASE', 'GRIDER', 'FREDRICK', 'EARNEST', 'DOUCETTE', 'CLAUSEN', 'CHRISTMAS', 'BEVINS', 'BEAMON', 'BADILLO', 'TOLLEY', 'TINDALL', 'SOULE', 'SNOOK', 'SEBASTIAN', 'SEALE', 'PITCHER', 'PINKNEY', 'PELLEGRINO', 'NOWELL', 'NEMETH', 'NAIL', 'MONDRAGON', 'MCLANE', 'LUNDGREN', 'INGALLS', 'HUDSPETH', 'HIXSON', 'GEARHART', 'FURLONG', 'DOWNES', 'DIONNE', 'DIBBLE', 'DEYOUNG', 'CORNEJO', 'CAMARA', 'BROOKSHIRE', 'BOYETTE', 'WOLCOTT', 'TRACEY', 'SURRATT', 'SELLARS', 'SEGAL', 'SALYER', 'REEVE', 'RAUSCH', 'PHILIPS', 'LABONTE', 'HARO', 'GOWER', 'FREELAND', 'FAWCETT', 'EADS', 'DRIGGERS', 'DONLEY', 'COLLETT', 'CAGE', 'BROMLEY', 'BOATMAN', 'BALLINGER', 'BALDRIDGE', 'VOLZ', 'TROMBLEY', 'STONGE', 'SILAS', 'SHANAHAN', 'RIVARD', 'RHYNE', 'PEDROZA', 'MATIAS', 'MALLARD', 'JAMIESON', 'HEDGEPETH', 'HARTNETT', 'ESTEVEZ', 'ESKRIDGE', 'DENMAN', 'CHIU', 'CHINN', 'CATLETT', 'CARMACK', 'BUIE', 'BOOK', 'BECHTEL', 'BEARDSLEY', 'BARD', 'BALLOU', 'WINDSOR', 'ULMER', 'STORM', 'SKEEN', 'ROBLEDO', 'RINCON', 'REITZ', 'PIAZZA', 'PEARL', 'MUNGER', 'MOTEN', 'MCMICHAEL', 'LOFTUS', 'LEDET', 'KERSEY', 'GROFF', 'FOWLKES', 'FOLK', 'CRUMPTON', 'COLLETTE', 'CLOUSE', 'BETTIS', 'VILLAGOMEZ', 'TIMMERMAN', 'STROM', 'SAUL', 'SANTORO', 'RODDY', 'PHILLIP', 'PENROD', 'MUSSELMAN', 'MACPHERSON', 'LEBOEUF', 'HARLESS', 'HADDAD', 'GUIDO', 'GOLDING', 'FULKERSON', 'FANNIN', 'DULANEY', 'DOWDELL', 'DEANE', 'COTTLE', 'CEJA', 'CATE', 'BOSLEY', 'BENGE', 'ALBRITTON', 'VOIGT', 'TROWBRIDGE', 'SOILEAU', 'SEELY', 'ROME', 'ROHDE', 'PEARSALL', 'PAULK', 'ORTH', 'NASON', 'MOTA', 'MCMULLIN', 'MARQUARDT', 'MADIGAN', 'HOAG', 'GILLUM', 'GAYLE', 'GABBARD', 'FENWICK', 'FENDER', 'ECK', 'DANFORTH', 'CUSHING', 'CRESS', 'CREED', 'CAZARES', 'CASANOVA', 'BEY', 'BETTENCOURT', 'BARRINGER', 'BABER', 'STANSBERRY', 'SCHRAMM', 'RUTTER', 'RIVERO', 'RACE', 'OQUENDO', 'NECAISE', 'MOUTON', 'MONTENEGRO', 'MILEY', 'MCGOUGH', 'MARRA', 'MACMILLAN', 'LOCK', 'LAMONTAGNE', 'JASSO', 'JAIME', 'HORST', 'HETRICK', 'HEILMAN', 'GAYTAN', 'GALL', 'FRIED', 'FORTNEY', 'EDEN', 'DINGLE', 'DESJARDINS', 'DABBS', 'BURBANK', 'BRIGHAM', 'BRELAND', 'BEAMAN', 'BANNER', 'ARRIOLA', 'YARBOROUGH', 'WALLIN', 'TREAT', 'TOSCANO', 'STOWERS', 'REISS', 'PICHARDO', 'ORTON', 'MITCHEL', 'MICHELS', 'MCNAMEE', 'MCCRORY', 'LEATHERMAN', 'KELL', 'KEISTER', 'JEROME', 'HORNING', 'HARGETT', 'GUAY', 'FRIDAY', 'FERRO', 'DEBOER', 'DAGOSTINO', 'CLEMENTE', 'CHRIST', 'CARPER', 'BOWLER', 'BLANKS', 'BEAUDRY', 'WILLIE', 'TOWLE', 'TAFOYA', 'STRICKLIN', 'STRADER', 'SOPER', 'SONNIER', 'SIGMON', 'SCHENK', 'SADDLER', 'RODMAN', 'PEDIGO', 'MENDES', 'LUNN', 'LOHR', 'LAHR', 'KINGSBURY', 'JARMAN', 'HUME', 'HOLLIMAN', 'HOFMANN', 'HAWORTH', 'HARRELSON', 'HAMBRICK', 'FLICK', 'EDMUNDS', 'DACOSTA', 'CROSSMAN', 'COLSTON', 'CHAPLIN', 'CARRELL', 'BUDD', 'WEILER', 'WAITS', 'VIOLA', 'VALENTINO', 'TRANTHAM', 'TARR', 'STRAIGHT', 'SOLORIO', 'ROEBUCK', 'POWE', 'PLANK', 'PETTUS', 'PALM', 'PAGANO', 'MINK', 'LUKER', 'LEATHERS', 'JOSLIN', 'HARTZELL', 'GAMBRELL', 'FEARS', 'DEUTSCH', 'CEPEDA', 'CARTY', 'CAPUTO', 'BREWINGTON', 'BEDELL', 'BALLEW', 'APPLEWHITE', 'WARNOCK', 'WALZ', 'URENA', 'TUDOR', 'REEL', 'PIGG', 'PARTON', 'MICKELSON', 'MEAGHER', 'MCLELLAN', 'MCCULLEY', 'MANDEL', 'LEECH', 'LAVALLEE', 'KRAEMER', 'KLING', 'KIPP', 'KINGSTON', 'KEHOE', 'HOCHSTETLER', 'HARRIMAN', 'GREGOIRE', 'GRABOWSKI', 'GOSSELIN', 'GAMMON', 'FANCHER', 'EDENS', 'DESAI', 'BUTT', 'BRANNAN', 'ARMENDARIZ', 'WOOLSEY', 'WHITEHOUSE', 'WHETSTONE', 'USSERY', 'TOWNE', 'TOWER', 'TESTA', 'TALLMAN', 'STUDER', 'STRAIT', 'STEINMETZ', 'SORRELLS', 'SAUCEDA', 'ROLFE', 'RAE', 'PADDOCK', 'MITCHEM', 'MCGINN', 'MCCREA', 'LUCK', 'LOVATO', 'LING', 'HAZEN', 'GILPIN', 'GAYNOR', 'FIKE', 'DEVOE', 'DELRIO', 'CURIEL', 'BURKHARDT', 'BRISTOL', 'BODE', 'BACKUS', 'ALTON', 'ZINN', 'WATANABE', 'WACHTER', 'VANPELT', 'TURNAGE', 'SHANER', 'SCHRODER', 'SATO', 'RIORDAN', 'QUIMBY', 'PORTIS', 'NATALE', 'MCKOY', 'MCCOWN', 'MARKER', 'LUCIO', 'KILMER', 'KARL', 'HOTCHKISS', 'HESSE', 'HALBERT', 'GWINN', 'GODSEY', 'DESMOND', 'DELISLE', 'CHRISMAN', 'CANTER', 'BROOK', 'ARBOGAST', 'ANGELL', 'ACREE', 'YANCY', 'WOOLLEY', 'WESSON', 'WEATHERSPOON', 'TRAINOR', 'STOCKMAN', 'SPILLER', 'SIPE', 'ROOKS', 'REAVIS', 'PROPST', 'PORRAS', 'NEILSON', 'MULLENS', 'LOUCKS', 'LLEWELLYN', 'LAMONT', 'KUMAR', 'KOESTER', 'KLINGENSMITH', 'KIRSCH', 'KESTER', 'HONAKER', 'HODSON', 'HENNESSY', 'HELMICK', 'GARRITY', 'GARIBAY', 'FEE', 'DRAIN', 'CASAREZ', 'CALLIS', 'BOTELLO', 'BAY', 'AYCOCK', 'AVANT', 'ANGLE', 'WINGARD', 'WAYMAN', 'TULLY', 'THEISEN', 'SZYMANSKI', 'STANSBURY', 'SEGOVIA', 'RUDY', 'RAINWATER', 'PREECE', 'PIRTLE', 'PADRON', 'MINCEY', 'MCKELVEY', 'MATHES', 'MARTY', 'LARRABEE', 'KORNEGAY', 'KLUG', 'JUDY', 'INGERSOLL', 'HECHT', 'GERMAIN', 'EGGERS', 'DYKSTRA', 'DENIS', 'DEERING', 'DECOTEAU', 'DEASON', 'DEARING', 'COFIELD', 'CARRIGAN', 'BRUSH', 'BONHAM', 'BAHR', 'AUCOIN', 'APPLEBY', 'ALMONTE', 'YAGER', 'WOMBLE', 'WIMMER', 'WEIMER', 'VANDERPOOL', 'STANCIL', 'SPRINKLE', 'ROMINE', 'REMINGTON', 'PFAFF', 'PECKHAM', 'OLIVERA', 'MERAZ', 'MAZE', 'LATHROP', 'KOEHN', 'JONAS', 'HAZELTON', 'HALVORSON', 'HALLOCK', 'HADDOCK', 'DUCHARME', 'DEHAVEN', 'COLTON', 'CARUTHERS', 'BREHM', 'BOSWORTH', 'BOST', 'BLOW', 'BIAS', 'BEEMAN', 'BASILE', 'BANE', 'AIKENS', 'ZACHARY', 'WOLD', 'WALTHER', 'TABB', 'SUBER', 'STRAWN', 'STOCKS', 'STOCKER', 'SHIREY', 'SCHLOSSER', 'SALVADOR', 'RIEDEL', 'REMBERT', 'REIMER', 'PYLES', 'PICKLE', 'PEELE', 'MERRIWEATHER', 'LETOURNEAU', 'LATTA', 'KIDDER', 'HIXON', 'HILLIS', 'HIGHT', 'HERBST', 'HENRIQUEZ', 'HAYGOOD', 'HAMILL', 'GABEL', 'FRITTS', 'EUBANK', 'DUTY', 'DAWES', 'CORRELL', 'COFFEE', 'CHA', 'BUSHEY', 'BUCHHOLZ', 'BROTHERTON', 'BRIDGE', 'BOTTS', 'BARNWELL', 'AUGER', 'ATCHLEY', 'WESTPHAL', 'VEILLEUX', 'ULLOA', 'TRUMAN', 'STUTZMAN', 'SHRIVER', 'RYALS', 'PRIOR', 'PILKINGTON', 'NEWPORT', 'MOYERS', 'MIRACLE', 'MARRS', 'MANGRUM', 'MADDUX', 'LOCKARD', 'LAING', 'KUHL', 'HARNEY', 'HAMMOCK', 'HAMLETT', 'FELKER', 'DOERR', 'DEPRIEST', 'CARRASQUILLO', 'CAROTHERS', 'BOGLE', 'BLOOD', 'BISCHOFF', 'BERGEN', 'ALBANESE', 'WYCKOFF', 'VERMILLION', 'VANSICKLE', 'THIBAULT', 'TETREAULT', 'STICKNEY', 'SHOEMAKE', 'RUGGIERO', 'RAWSON', 'RACINE', 'PHILPOT', 'PASCHAL', 'MCELHANEY', 'MATHISON', 'LEGRAND', 'LAPIERRE', 'KWAN', 'KREMER', 'JILES', 'HILBERT', 'GEYER', 'FAIRCLOTH', 'EHLERS', 'EGBERT', 'DESROSIERS', 'DALRYMPLE', 'COTTEN', 'CASHMAN', 'CADENA', 'BREEDING', 'BOARDMAN', 'ALCARAZ', 'AHN', 'WYRICK', 'THERRIEN', 'TANKERSLEY', 'STRICKLER', 'PURYEAR', 'PLOURDE', 'PATTISON', 'PARDUE', 'MILAN', 'MCGINTY', 'MCEVOY', 'LANDRETH', 'KUHNS', 'KOON', 'HEWETT', 'GIDDENS', 'EVERETTE', 'EMERICK', 'EADES', 'DEANGELIS', 'COSME', 'CEBALLOS', 'BIRDSONG', 'BENHAM', 'BEMIS', 'ARMOUR', 'ANGUIANO', 'ANGELES', 'WELBORN', 'TSOSIE', 'STORMS', 'SHOUP', 'SESSOMS', 'SAMANIEGO', 'ROOD', 'ROJO', 'RHINEHART', 'RABY', 'NORTHCUTT', 'MYER', 'MUNGUIA', 'MOREHOUSE', 'MORE', 'MCDEVITT', 'MATEO', 'MALLETT', 'LOZADA', 'LEMOINE', 'KUEHN', 'HALLETT', 'GRIM', 'GILLARD', 'GAYLOR', 'GARMAN', 'GALLAHER', 'FEASTER', 'FARIS', 'DARROW', 'DARDAR', 'CONEY', 'CARREON', 'BYRON', 'BRAITHWAITE', 'BOYLAN', 'BOYETT', 'BORN', 'BIXLER', 'BIGHAM', 'BENFORD', 'BARRAGAN', 'BARNUM', 'ZUBER', 'WYCHE', 'WESTCOTT', 'VINING', 'STOLTZFUS', 'SIMONDS', 'SHUPE', 'SABIN', 'RUBLE', 'RITTENHOUSE', 'RICHMAN', 'PERRONE', 'MULHOLLAND', 'MILLAN', 'MEISTER', 'MATHEW', 'LOMELI', 'KITE', 'JEMISON', 'HULETT', 'HOLLER', 'HICKERSON', 'HEROLD', 'HAZELWOOD', 'GRIFFEN', 'GAUSE', 'FORDE', 'EISENBERG', 'DILWORTH', 'CHARRON', 'CHAISSON', 'BRODIE', 'BRISTOW', 'BREUNIG', 'BRACE', 'BOUTWELL', 'BENTZ', 'BELK', 'BAYLESS', 'BATCHELDER', 'BARAN', 'BAEZA', 'ZIMMERMANN', 'WEATHERSBY', 'VOLK', 'TOOLE', 'THEIS', 'TEDESCO', 'SHINE', 'SEARLE', 'SCHENCK', 'SATTERWHITE', 'SANDY', 'RUELAS', 'ROYCE', 'RANKINS', 'PARTIDA', 'NESBIT', 'MOREL', 'MENCHACA', 'LEVASSEUR', 'KAYLOR', 'JOHNSTONE', 'HULSE', 'HOLLAR', 'HERSEY', 'HARRIGAN', 'HARBISON', 'GUYER', 'GISH', 'GIESE', 'GERLACH', 'GELLER', 'GEISLER', 'FALCONE', 'ERNEST', 'ELWELL', 'DOUCET', 'DEESE', 'DARR', 'CORDER', 'CHAFIN', 'BYLER', 'BUSSELL', 'BURDETT', 'BRASHER', 'BOWE', 'BELLINGER', 'BASTIAN', 'BARNER', 'ALLEYNE', 'WILBORN', 'WEIL', 'WEGNER', 'WALES', 'TATRO', 'SPITZER', 'SMITHERS', 'SCHOEN', 'RESENDEZ', 'PETE', 'PARISI', 'OVERMAN', 'OBRIAN', 'MUDD', 'MOY', 'MCLAREN', 'MAHLER', 'MAGGIO', 'LINDNER', 'LALONDE', 'LACASSE', 'LABOY', 'KILLION', 'KAHL', 'JESSEN', 'JAMERSON', 'HOUK', 'HENSHAW', 'GUSTIN', 'GROOM', 'GRABER', 'DURST', 'DUENAS', 'DAVEY', 'CUNDIFF', 'CONLON', 'COLUNGA', 'COAKLEY', 'CHILES', 'CAPERS', 'BUELL', 'BRICKER', 'BISSONNETTE', 'BIRMINGHAM', 'BARTZ', 'BAGBY', 'ZAYAS', 'VOLPE', 'TREECE', 'TOOMBS', 'THOM', 'TERRAZAS', 'SWINNEY', 'SKILES', 'SILVEIRA', 'SHOUSE', 'SENN', 'RAMBO', 'RAMAGE', 'NEZ', 'MOUA', 'MARLIN', 'MALIK', 'LANGHAM', 'KYLES', 'HOLSTON', 'HOAGLAND', 'HERD', 'HECTOR', 'FELLER', 'EMORY', 'DENISON', 'CORLISS', 'CARRAWAY', 'BURFORD', 'BICKEL', 'AMBRIZ', 'ABERCROMBIE', 'YAMADA', 'WINNER', 'WEIDNER', 'WADDLE', 'VERDUZCO', 'THURMOND', 'SWINDLE', 'SCHROCK', 'SANABRIA', 'ROSENBERGER', 'PROBST', 'PEABODY', 'OLINGER', 'NEIGHBORS', 'NAZARIO', 'MCCAFFERTY', 'MCBROOM', 'MCABEE', 'MAZUR', 'MATHERNE', 'MAPES', 'LEVERETT', 'KILLINGSWORTH', 'HEISLER', 'GRIEGO', 'GRANDE', 'GOSNELL', 'FRANKEL', 'FRANKE', 'FERRANTE', 'FENN', 'ELMER', 'EHRLICH', 'CHRISTOPHERSO', 'CHICK', 'CHASSE', 'CHANCELLOR', 'CATON', 'BRUNELLE', 'BLY', 'BLOOMFIELD', 'BABBITT', 'AZEVEDO', 'ABRAMSON', 'ABLES', 'ABEYTA', 'YOUMANS', 'WOZNIAK', 'WAINWRIGHT', 'SUMMER', 'STOWELL', 'SMITHERMAN', 'SITES', 'SAMUELSON', 'RUNGE', 'RULE', 'ROTHMAN', 'ROSENFELD', 'QUAN', 'PEAKE', 'OXFORD', 'OWINGS', 'OLMOS', 'MUNRO', 'MOREIRA', 'LEATHERWOOD', 'LARKINS', 'KRANTZ', 'KOVACS', 'KIZER', 'KINDRED', 'KARNES', 'JAFFE', 'HUBBELL', 'HOSEY', 'HAUCK', 'HAROLD', 'GOODELL', 'FAVORS', 'ERDMAN', 'DVORAK', 'DOANE', 'CURETON', 'COFER', 'BUEHLER', 'BIERMAN', 'BERNDT', 'BANTA', 'ANNIS', 'ABRAM', 'ABDULLAH', 'WARWICK', 'WALTZ', 'TURCOTTE', 'TRINH', 'TORREY', 'STITH', 'SEGER', 'SACHS', 'QUESADA', 'PINDER', 'PEPPERS', 'PASCUAL', 'PASCHALL', 'PARKHURST', 'OZUNA', 'OSTER', 'NICHOLLS', 'MORTIMER', 'LHEUREUX', 'LAVALLEY', 'KIMURA', 'JABLONSKI', 'HAUN', 'GOURLEY', 'GILLIGAN', 'FIX', 'DERBY', 'CROY', 'COTTO', 'CARGILL', 'BURWELL', 'BURGETT', 'BUCKMAN', 'BRETT', 'BOOHER', 'ADORNO', 'WRENN', 'WHITTEMORE', 'URIAS', 'SZABO', 'SAYLES', 'SAIZ', 'RUTLAND', 'RAEL', 'PLANT', 'PHARR', 'PENNEY', 'PELKEY', 'OGRADY', 'NICKELL', 'MUSICK', 'MOATS', 'MATHER', 'MASSA', 'LAURENT', 'KIRSCHNER', 'KIEFFER', 'KELLAR', 'HENDERSHOT', 'GOTT', 'GODOY', 'GADSON', 'FURTADO', 'FIEDLER', 'ERSKINE', 'EDISON', 'DUTCHER', 'DEVER', 'DAGGETT', 'CHEVALIER', 'CHAO', 'BRAKE', 'BALLESTEROS', 'AMERSON', 'ALEJANDRO', 'WINGO', 'WALDON', 'TROTT', 'SPIKES', 'SILVEY', 'SHOWERS', 'SCHLEGEL', 'RUE', 'RITZ', 'PEPIN', 'PELAYO', 'PARSLEY', 'PALERMO', 'MOOREHEAD', 'MCHALE', 'LETT', 'KOCHER', 'KILBURN', 'IGLESIAS', 'HUMBLE', 'HULBERT', 'HUCKABY', 'HIX', 'HAVEN', 'HARTFORD', 'HARDIMAN', 'GURNEY', 'GRIGG', 'GRASSO', 'GOINGS', 'FILLMORE', 'FARBER', 'DEPEW', 'DANDREA', 'DAME', 'COWEN', 'COVARRUBIAS', 'CORY', 'BURRUS', 'BRACY', 'ARDOIN', 'THOMPKINS', 'SUZUKI', 'STANDLEY', 'RUSSEL', 'RADCLIFFE', 'POHL', 'PERSAUD', 'PERCY', 'PARENTEAU', 'PABON', 'NEWSON', 'NEWHOUSE', 'NAPOLITANO', 'MULCAHY', 'MAYA', 'MALAVE', 'KEIM', 'HOOTEN', 'HERNANDES', 'HEFFERNAN', 'HEARNE', 'GREENLEAF', 'GLICK', 'FUHRMAN', 'FETTER', 'FARIA', 'DISHMAN', 'DICKENSON', 'CRITES', 'CRISS', 'CLAPPER', 'CHENAULT', 'CASTOR', 'CASTO', 'BUGG', 'BOVE', 'BONNEY', 'BLESSING', 'ARD', 'ANDERTON', 'ALLGOOD', 'ALDERSON', 'WOODMAN', 'WISDOM', 'WARRICK', 'TOOMEY', 'TOOLEY', 'TARRANT', 'SUMMERVILLE', 'STEBBINS', 'SOKOL', 'SINK', 'SEARLES', 'SCHUTZ', 'SCHUMANN', 'SCHEER', 'REMILLARD', 'RAPER', 'PROULX', 'PALMORE', 'MONROY', 'MIGUEL', 'MESSIER', 'MELO', 'MELANSON', 'MASHBURN', 'MANZANO', 'LUSSIER', 'LOVELY', 'LIEN', 'JENKS', 'HUNEYCUTT', 'HARTWIG', 'GRIMSLEY', 'FULK', 'FIELDING', 'FIDLER', 'ENGSTROM', 'ELDRED', 'DANTZLER', 'CRANDELL', 'CHING', 'CALDER', 'BRUMLEY', 'BRETON', 'BRANN', 'BRAMLETT', 'BOYKINS', 'BIANCO', 'BANCROFT', 'ALMARAZ', 'ALCANTAR', 'WHITMER', 'WHITENER', 'WELTON', 'VINEYARD', 'SU', 'RAHN', 'PAQUIN', 'MIZELL', 'MIX', 'MCMILLIN', 'MCKEAN', 'MARSTON', 'MACIEL', 'LUNDQUIST', 'LOUIE', 'LIGGINS', 'LAMPKIN', 'KRANZ', 'KOSKI', 'KIRKHAM', 'JIMINEZ', 'HAZZARD', 'HARROD', 'GRAZIANO', 'GRAMMER', 'GENDRON', 'GARRIDO', 'FORDHAM', 'ENGLERT', 'ELWOOD', 'DRYDEN', 'DEMOSS', 'DELUNA', 'CRABB', 'COMEAU', 'CLAUDIO', 'BRUMMETT', 'BLUME', 'BENALLY', 'WESSEL', 'VANBUSKIRK', 'THORSON', 'STUMPF', 'STOCKWELL', 'ROCCO', 'REAMS', 'RADTKE', 'RACKLEY', 'PELTON', 'NIEMI', 'NEWLAND', 'NELSEN', 'MORRISSETTE', 'MIRAMONTES', 'MCGINLEY', 'MCCLUSKEY', 'MARLEY', 'MARCHANT', 'LUEVANO', 'LAMPE', 'LAIL', 'JEFFCOAT', 'INFANTE', 'HU', 'HINMAN', 'GAONA', 'ERB', 'EADY', 'DESMARAIS', 'DECOSTA', 'DANSBY', 'CISCO', 'CHOE', 'BRECKENRIDGE', 'BOSTWICK', 'BORG', 'BIANCHI', 'BEER', 'ALBERTS', 'ADRIAN', 'WILKIE', 'WHORTON', 'VARGO', 'TAIT', 'SYLVIA', 'SOUCY', 'SCHUMAN', 'OUSLEY', 'MUMFORD', 'LUM', 'LIPPERT', 'LEATH', 'LAVERGNE', 'LALIBERTE', 'KIRKSEY', 'KENNER', 'JOHNSEN', 'IZZO', 'HILES', 'GULLETT', 'GREENWELL', 'GASPAR', 'GALBREATH', 'GAITAN', 'ERICSON', 'DUCK', 'DELAPAZ', 'CROOM', 'COTTINGHAM', 'CLIFT', 'BUSHNELL', 'BOOZER', 'BICE', 'BERNARDO', 'BEASON', 'ARROWOOD', 'WARING', 'VOORHEES', 'TRUAX', 'SHREVE', 'SHOCKEY', 'SCHATZ', 'SANDIFER', 'RUBINO', 'ROZIER', 'ROSEBERRY', 'ROLL', 'PLAYER', 'PIEPER', 'PEDEN', 'NESTER', 'NAVE', 'MURPHEY', 'MALINOWSKI', 'MACGREGOR', 'LIANG', 'LAFRANCE', 'KUNKLE', 'KIRKMAN', 'JORGE', 'HIPP', 'HASTY', 'HADDIX', 'GERVAIS', 'GERDES', 'GARFIELD', 'GAMACHE', 'FOUTS', 'FITZWATER', 'DILLINGHAM', 'DEMING', 'DEANDA', 'CEDENO', 'CANNADY', 'BURSON', 'BOULDIN', 'ARCENEAUX', 'WOODHOUSE', 'WHITFORD', 'WESCOTT', 'WELTY', 'WEIGEL', 'TORGERSON', 'TOMS', 'SURBER', 'SUNDERLAND', 'STERNER', 'SETZER', 'SALVATORE', 'RIOJAS', 'PUMPHREY', 'PUGA', 'PEDRO', 'PATCH', 'METTS', 'MCGARRY', 'MCCANDLESS', 'MAGILL', 'LUPO', 'LOVELAND', 'LLAMAS', 'LECLERC', 'KOONS', 'KAHLER', 'HUSS', 'HOLBERT', 'HEINTZ', 'HAUPT', 'GRIMMETT', 'GASKILL', 'FLOWER', 'ELLINGSON', 'DORR', 'DINGESS', 'DEWEESE', 'DESILVA', 'CROSSLEY', 'CORDEIRO', 'CONVERSE', 'CONDE', 'CHEEKS', 'CALDERA', 'CAIRNS', 'BURMEISTER', 'BURKHALTER', 'BRAWNER', 'BOTT', 'YOUNGS', 'VIERRA', 'VALLADARES', 'TIFFANY', 'SHRUM', 'SHROPSHIRE', 'SEVILLA', 'RUSK', 'ROOF', 'RODARTE', 'PEDRAZA', 'NINO', 'MONTANA', 'MERINO', 'MCMINN', 'MARKLE', 'MAPP', 'LUCIA', 'LAJOIE', 'KOERNER', 'KITTRELL', 'KATO', 'HYDER', 'HOLLIFIELD', 'HEISER', 'HAZLETT', 'GREENWALD', 'FANT', 'ELDREDGE', 'DREHER', 'DELAFUENTE', 'CRAVENS', 'CLAYPOOL', 'BEECHER', 'ARONSON', 'ALANIS', 'WORTHEN', 'WOJCIK', 'WINGER', 'WHITACRE', 'WELLINGTON', 'VALVERDE', 'VALDIVIA', 'TROUPE', 'THROWER', 'SWINDELL', 'SUTTLES', 'SUH', 'STROMAN', 'SPIRES', 'SLATE', 'SHEALY', 'SARVER', 'SARTIN', 'SADOWSKI', 'RONDEAU', 'ROLON', 'RICK', 'REX', 'RASCON', 'PRIDDY', 'PINE', 'PAULINO', 'NOLTE', 'MUNROE', 'MOLLOY', 'MELLON', 'MCIVER', 'LYKINS', 'LOGGINS', 'LILLIE', 'LENOIR', 'KLOTZ', 'KEMPF', 'JONE', 'HUPP', 'HOLLOWELL', 'HOLLANDER', 'HAYNIE', 'HASSAN', 'HARKNESS', 'HARKER', 'GOTTLIEB', 'FRITH', 'EDDINS', 'DRISKELL', 'DOGGETT', 'DENSMORE', 'CHARETTE', 'CASSADY', 'CARROL', 'BYRUM', 'BURCHAM', 'BUGGS', 'BENN', 'WHITTED', 'WARRINGTON', 'VANDUSEN', 'VAILLANCOURT', 'STEGER', 'SPELL', 'SIEBERT', 'SCOFIELD', 'QUIRK', 'PURSER', 'PLUMB', 'ORCUTT', 'NORTHERN', 'NORDSTROM', 'MOSELY', 'MICHALSKI', 'MCPHAIL', 'MCDAVID', 'MCCRAW', 'MARTINI', 'MARCHESE', 'MANNINO', 'LEO', 'LEFEVRE', 'LARGENT', 'LANZA', 'KRESS', 'ISHAM', 'HUNSAKER', 'HOCH', 'HILDEBRANDT', 'GUARINO', 'GRIJALVA', 'GRAYBILL', 'FICK', 'EWELL', 'EWALD', 'DEANGELO', 'CUSICK', 'CRUMLEY', 'COSTON', 'CATHCART', 'CARRUTHERS', 'BULLINGTON', 'BRIAN', 'BOWES', 'BLAIN', 'BLACKFORD', 'BARBOZA', 'YINGLING', 'WOODLAND', 'WERT', 'WEILAND', 'VARGA', 'SILVERSTEIN', 'SIEVERS', 'SHUSTER', 'SHUMWAY', 'SCUDDER', 'RUNNELS', 'RUMSEY', 'RENFROE', 'PROVENCHER', 'POLLEY', 'MOHLER', 'MIDDLEBROOKS', 'KUTZ', 'KOSTER', 'KORN', 'GROW', 'GROTH', 'GLIDDEN', 'FAZIO', 'DEEN', 'CORN', 'COPPER', 'CHIPMAN', 'CHENOWETH', 'CHAMPLIN', 'CEDILLO', 'CARRERO', 'CARMODY', 'BUCKLES', 'BRIEN', 'BOUTIN', 'BOSCH', 'BILL', 'BERKOWITZ', 'ALTAMIRANO', 'WILFONG', 'WIEGAND', 'WAITES', 'TRUESDALE', 'TOUSSAINT', 'TOBEY', 'TEDDER', 'STEELMAN', 'SIROIS', 'SCHNELL', 'ROBICHAUD', 'RIDGE', 'RICHBURG', 'PRAY', 'PLUMLEY', 'PIZARRO', 'PIERCY', 'ORTEGO', 'OBERG', 'NEACE', 'MUSIC', 'MICKEY', 'MERTZ', 'MCNEW', 'MATTA', 'LAWYER', 'LAPP', 'LAIR', 'KIBLER', 'JESSIE', 'HOWLETT', 'HOLLISTER', 'HOFER', 'HATTEN', 'HAGLER', 'GERMANY', 'FALGOUST', 'ENGELHARDT', 'EBERLE', 'EASTWOOD', 'DOMBROWSKI', 'DINSMORE', 'DAYE', 'COOL', 'CASARES', 'CAPONE', 'BRAUD', 'BALCH', 'AUTREY', 'WENDEL', 'TYNDALL', 'TOY', 'STROBEL', 'STOLTZ', 'SPINELLI', 'SERRATO', 'ROCHESTER', 'REBER', 'REAL', 'RATHBONE', 'PALOMINO', 'NOAH', 'NICKELS', 'MAYLE', 'MATHERS', 'MACH', 'LOEFFLER', 'LITTRELL', 'LEVINSON', 'LEONG', 'LEMIRE', 'LEJEUNE', 'LAZO', 'LASLEY', 'KOLLER', 'KENNARD', 'JESTER', 'HOELSCHER', 'HINTZ', 'HAGERMAN', 'GREAVES', 'FORE', 'EUDY', 'ENGLER', 'CORRALES', 'CORDES', 'BRUNET', 'BIDWELL', 'BENNET', 'BARE', 'TYRRELL', 'THARPE', 'SWINTON', 'STRIBLING', 'STEVEN', 'SOUTHWORTH', 'SISNEROS', 'SHANE', 'SAVOIE', 'SAMONS', 'RUVALCABA', 'ROSCOE', 'RIES', 'RAMER', 'OMARA', 'MOSQUEDA', 'MILLAR', 'MCPEAK', 'MACOMBER', 'LUCKEY', 'LITTON', 'LEHR', 'LAVIN', 'HUBBS', 'HOARD', 'HIBBS', 'HAGANS', 'FUTRELL', 'EXUM', 'EVENSON', 'DICKS', 'CULLER', 'CHOU', 'CARBAUGH', 'CALLEN', 'BRASHEAR', 'BLOOMER', 'BLAKENEY', 'BIGLER', 'ADDINGTON', 'WOODFORD', 'WITTER', 'UNRUH', 'TOLENTINO', 'SUMRALL', 'STGERMAIN', 'SMOCK', 'SHERER', 'SALEM', 'ROCHELLE', 'RAYNER', 'POOLER', 'OQUINN', 'NERO', 'MILANO', 'MCGLOTHLIN', 'MARS', 'LINDEN', 'KOWAL', 'KERRIGAN', 'IBRAHIM', 'HARVELL', 'HANRAHAN', 'GOODALL', 'GEIST', 'FUSSELL', 'FUNG', 'FEREBEE', 'FEDERICO', 'ELEY', 'EGGERT', 'DORSETT', 'DINGMAN', 'DESTEFANO', 'COLUCCI', 'CLEMMER', 'CAESAR', 'BURNELL', 'BRUMBAUGH', 'BODDIE', 'BERRYHILL', 'AVELAR', 'ALCANTARA', 'ABBEY', 'WINDER', 'WINCHELL', 'VANDENBERG', 'TROTMAN', 'THURBER', 'THIBEAULT', 'STLOUIS', 'STILWELL', 'SPERLING', 'SHATTUCK', 'SARMIENTO', 'RUPPERT', 'RUMPH', 'RENAUD', 'RANDAZZO', 'RADEMACHER', 'QUILES', 'PEARMAN', 'PALOMO', 'MERCURIO', 'LOWREY', 'LINDEMAN', 'LAWLOR', 'LAROSA', 'LANDER', 'LABRECQUE', 'KIMBER', 'HOVIS', 'HOLIFIELD', 'HENNINGER', 'HAWKES', 'HARTFIELD', 'HANN', 'HAGUE', 'GENOVESE', 'GARRICK', 'FUDGE', 'FRINK', 'EDDINGS', 'DINH', 'DEAR', 'CUTTER', 'CRIBBS', 'CONSTANT', 'CALVILLO', 'BUNTON', 'BRODEUR', 'BOLDING', 'BLANDING', 'AGOSTO', 'ZAHN', 'WIENER', 'TRUSSELL', 'TEW', 'TELLO', 'TEIXEIRA', 'STEPHAN', 'SPECK', 'SHARMA', 'SHANKLIN', 'SEALY', 'SCANLAN', 'SANTAMARIA', 'ROUNDY', 'ROBICHAUX', 'RINGER', 'RIGNEY', 'PREVOST', 'POLSON', 'PHILIP', 'PASS', 'NORD', 'MOXLEY', 'MOHAMMED', 'MEDFORD', 'MCCASLIN', 'MCARDLE', 'MACARTHUR', 'LEWIN', 'LASHER', 'KETCHAM', 'KEISER', 'HEINE', 'HACKWORTH', 'GROSE', 'GRIZZLE', 'GRASS', 'GILLMAN', 'GARTNER', 'GARTH', 'FRAZEE', 'FLEURY', 'FAST', 'EDSON', 'EDMONSON', 'DERRY', 'DECK', 'CRONK', 'CONANT', 'BURRESS', 'BURGIN', 'BROOM', 'BROCKINGTON', 'BOLICK', 'BOGER', 'BIRCHFIELD', 'BILLINGTON', 'BAILY', 'BAHENA', 'ARMBRUSTER', 'ANSON', 'YOHO', 'WILCHER', 'TINNEY', 'TIMBERLAKE', 'THOMA', 'THIELEN', 'SUTPHIN', 'STULTZ', 'SIKORA', 'SERRA', 'SCHULMAN', 'SCHEFFLER', 'SANTILLAN', 'ROBIN', 'REGO', 'PRECIADO', 'PINKHAM', 'MONDAY', 'MICKLE', 'LUU', 'LOMAS', 'LIZOTTE', 'LENT', 'LENARD', 'KELLERMAN', 'KEIL', 'JUAN', 'JOHANSON', 'HERNADEZ', 'HARTSFIELD', 'HANG', 'HABER', 'GORSKI', 'FARKAS', 'EBERHARDT', 'DUQUETTE', 'DELANO', 'CROPPER', 'COZART', 'COCKERHAM', 'CHAMBLEE', 'CARTAGENA', 'CAHOON', 'BUZZELL', 'BRISTER', 'BREWTON', 'BLACKSHEAR', 'BENFIELD', 'ASTON', 'ASHBURN', 'ARRUDA', 'WETMORE', 'WEISE', 'VACCARO', 'TUCCI', 'SUDDUTH', 'STROMBERG', 'STOOPS', 'SHOWALTER', 'SHEARS', 'RUNION', 'ROWDEN', 'ROSENBLUM', 'RIFFLE', 'RENFROW', 'PERES', 'OBRYANT', 'NICOLAS', 'LEFTWICH', 'LARK', 'LANDEROS', 'KISTLER', 'KILLOUGH', 'KERLEY', 'KASTNER', 'HOGGARD', 'HARTUNG', 'GUERTIN', 'GOVAN', 'GATLING', 'GAILEY', 'FULLMER', 'FULFORD', 'FLATT', 'ESQUIBEL', 'ENDICOTT', 'EDMISTON', 'EDELSTEIN', 'DUFRESNE', 'DRESSLER', 'DICKMAN', 'CHEE', 'BUSSE', 'BONNETT', 'BOGART', 'BERARD', 'BARRINGTON', 'ARENA', 'ANTON', 'YOSHIDA', 'VELARDE', 'VEACH', 'VANHOUTEN', 'VACHON', 'TOLSON', 'TOLMAN', 'TENNYSON', 'STITES', 'SOLER', 'SHUTT', 'RUGGLES', 'RHONE', 'PEGUES', 'ONG', 'NEESE', 'MURO', 'MONCRIEF', 'MEFFORD', 'MCPHEE', 'MCMORRIS', 'MCEACHERN', 'MCCLURG', 'MANSOUR', 'MAI', 'MADER', 'LEIJA', 'LECOMPTE', 'LAFOUNTAIN', 'LABRIE', 'JAQUEZ', 'HEALD', 'HASH', 'HARTLE', 'GAINER', 'FRISBY', 'FARINA', 'EIDSON', 'EDGERTON', 'DYKE', 'DURRETT', 'DUHON', 'CUOMO', 'COBOS', 'CERVANTEZ', 'BYBEE', 'BROCKWAY', 'BOROWSKI', 'BINION', 'BEERY', 'ARGUELLO', 'AMARO', 'ACTON', 'YUEN', 'WINTON', 'WIGFALL', 'WEEKLEY', 'VIDRINE', 'VANNOY', 'TARDIFF', 'SHOOP', 'SHILLING', 'SCHICK', 'SAND', 'SAFFORD', 'PRENDERGAST', 'PILGRIM', 'PELLERIN', 'OSUNA', 'NISSEN', 'NALLEY', 'MORITZ', 'MOLLER', 'MESSNER', 'MESSICK', 'MERRY', 'MERRIFIELD', 'MCGUINNESS', 'MATHERLY', 'MARCANO', 'MAHONE', 'LEMOS', 'LEBRUN', 'JARA', 'HOFFER', 'HEWLETT', 'HERREN', 'HECKER', 'HAWS', 'HAUG', 'HACK', 'GWIN', 'GOBER', 'GILLIARD', 'FREDETTE', 'FAVELA', 'ECHEVERRIA', 'DOWNER', 'DONOFRIO', 'DESROCHERS', 'DEE', 'CROZIER', 'CORSON', 'CLYDE', 'BECHTOLD', 'ARGUETA', 'APARICIO', 'ZAMUDIO', 'WILLETTE', 'WESTOVER', 'WESTERMAN', 'UTTER', 'TROYER', 'THIES', 'TAPLEY', 'SLAVIN', 'SHIRK', 'SANDLER', 'ROOP', 'RIMMER', 'RAYMER', 'RANGE', 'RADCLIFF', 'OTTEN', 'MOORER', 'MILLET', 'MCKIBBEN', 'MCCUTCHEN', 'MCAVOY', 'MCADOO', 'MAYORGA', 'MASTIN', 'MARTINEAU', 'MAREK', 'MADORE', 'LEFLORE', 'KROEGER', 'KENNON', 'JIMERSON', 'JAVIER', 'HOSTETTER', 'HORNBACK', 'HENDLEY', 'HANCE', 'GUARDADO', 'GRANADO', 'GOWEN', 'GOODALE', 'FLINN', 'FLEETWOOD', 'FITZ', 'DURKEE', 'DUPREY', 'DIPIETRO', 'DILLEY', 'CLYBURN', 'BRAWLEY', 'BECKLEY', 'ARANA', 'WEATHERBY', 'VOLLMER', 'VICTORIA', 'VESTAL', 'TUNNELL', 'TRIGG', 'TINGLE', 'TAKAHASHI', 'SWEATT', 'STORER', 'SNAPP', 'SHIVER', 'ROOKER', 'RED', 'RATHBUN', 'POISSON', 'PERRINE', 'PERRI', 'PASTOR', 'PARMER', 'PARKE', 'PARE', 'PAPA', 'PALMIERI', 'NOTTINGHAM', 'MIDKIFF', 'MECHAM', 'MCCOMAS', 'MCALPINE', 'LOVELADY', 'LILLARD', 'LALLY', 'KNOPP', 'KILE', 'KIGER', 'HAILE', 'GUPTA', 'GOLDSBERRY', 'GILREATH', 'FULKS', 'FRIESEN', 'FRANZEN', 'FLACK', 'FINDLAY', 'FERLAND', 'DREYER', 'DORE', 'DENNARD', 'DECKARD', 'DEBOSE', 'CRIM', 'COULOMBE', 'CORK', 'CHANCEY', 'CANTOR', 'BRANTON', 'BISSELL', 'BARNS', 'WOOLARD', 'WITHAM', 'WASSERMAN', 'WALDO', 'SPIEGEL', 'SHOFFNER', 'SCHOLZ', 'RUCH', 'ROSSMAN', 'READY', 'PETRY', 'PALACIO', 'PAEZ', 'NEARY', 'MORTENSON', 'MILLSAP', 'MIELE', 'MICK', 'MENKE', 'MCKIM', 'MCANALLY', 'MARTINES', 'MANOR', 'MALCOM', 'LEMLEY', 'LAROCHELLE', 'KLAUS', 'KLATT', 'KAUFMANN', 'KAPP', 'HELMER', 'HEDGE', 'HALLORAN', 'GLISSON', 'FRECHETTE', 'FONTANA', 'ENOCH', 'EAGAN', 'DRUM', 'DISTEFANO', 'DANLEY', 'CREEKMORE', 'CHARTIER', 'CHAFFEE', 'CARILLO', 'BURG', 'BOLINGER', 'BERKLEY', 'BENZ', 'BASSO', 'BASH', 'BARRIER', 'ZELAYA', 'WOODRING', 'WITKOWSKI', 'WILMOT', 'WILKENS', 'WIELAND', 'VIRGIL', 'VERDUGO', 'URQUHART', 'TSAI', 'TIMMS', 'SWIGER', 'SWAIM', 'SUSSMAN', 'SCARLETT', 'PIRES', 'MOLNAR', 'MCATEE', 'MAURICE', 'LOWDER', 'LOOS', 'LINKER', 'LANDES', 'KINGERY', 'KEELEY', 'HUFFORD', 'HIGA', 'HENDREN', 'HAMMACK', 'HAMANN', 'GILLAM', 'GERHARDT', 'FELL', 'EUGENE', 'EDELMAN', 'EBY', 'DELK', 'DEANS', 'CURL', 'CONSTANTINE', 'CLEAVER', 'CLAAR', 'CASIANO', 'CARRUTH', 'CARLYLE', 'BUMP', 'BROPHY', 'BOLANOS', 'BIBBS', 'BESSETTE', 'BEGGS', 'BAUGHER', 'BARTEL', 'AVERILL', 'ANDRESEN', 'AMIN', 'ALDEN', 'ADAMES', 'WILDMAN', 'VIA', 'VALENTE', 'TURNBOW', 'TSE', 'SWINK', 'SUBLETT', 'STROH', 'STRINGFELLOW', 'RIDGWAY', 'PUGLIESE', 'POTEAT', 'PANG', 'OHARE', 'NEUBAUER', 'MURCHISON', 'MOHAMED', 'MINGO', 'LUCKY', 'LEMMONS', 'KWON', 'KELLAM', 'KEAN', 'JARMON', 'HYDEN', 'HUDAK', 'HOLLINGER', 'HENKEL', 'HEMINGWAY', 'HASSON', 'HANSEL', 'HALTER', 'HAIRE', 'GOODNIGHT', 'GINSBERG', 'GILLISPIE', 'FOGEL', 'FLORY', 'ETTER', 'ELLEDGE', 'ECKMAN', 'DEAS', 'CURRIN', 'CRAFTON', 'COOMER', 'COLTER', 'CLAXTON', 'BULTER', 'BRADDOCK', 'BOWYER', 'BLIZZARD', 'BINNS', 'BING', 'BELLOWS', 'BASKERVILLE', 'BARROS', 'ANSLEY', 'WOOLF', 'WIGHT', 'WALDMAN', 'WADLEY', 'TULL', 'TRULL', 'TESCH', 'STRUCK', 'STOUFFER', 'STADLER', 'SLAY', 'SHUBERT', 'SEDILLO', 'SANTACRUZ', 'REINKE', 'RALEIGH', 'POYNTER', 'NERI', 'NEALE', 'NATIVIDAD', 'MOWRY', 'MORALEZ', 'MONGER', 'MITCHUM', 'MERRYMAN', 'MANION', 'MACDOUGALL', 'LUX', 'LITCHFIELD', 'LEY', 'LEVITT', 'LEPAGE', 'LASALLE', 'LAINE', 'KHOURY', 'KAVANAGH', 'KARNS', 'IVIE', 'HUEBNER', 'HODGKINS', 'HALPIN', 'GARICA', 'EVERSOLE', 'DUTRA', 'DUNAGAN', 'DUFFEY', 'DILLMAN', 'DILLION', 'DEVILLE', 'DEARBORN', 'DAMATO', 'COURSON', 'COULSON', 'BURDINE', 'BRYCE', 'BOUSQUET', 'BONIN', 'BISH', 'ATENCIO', 'WESTBROOKS', 'WAGES', 'VACA', 'TYE', 'TONER', 'TOMAS', 'TILLIS', 'SWETT', 'SURFACE', 'STRUBLE', 'STANFILL', 'SON', 'SOLORZANO', 'SLUSHER', 'SIPPLE', 'SIM', 'SILVAS', 'SHULTS', 'SCHEXNAYDER', 'SAEZ', 'RODAS', 'RAGER', 'PULVER', 'PLAZA', 'PENTON', 'PANIAGUA', 'MENESES', 'MCFARLIN', 'MCAULEY', 'MATZ', 'MALOY', 'MAGRUDER', 'LOHMAN', 'LANDA', 'LACOMBE', 'JAIMES', 'HOM', 'HOLZER', 'HOLST', 'HEIL', 'HACKLER', 'GRUNDY', 'GREGOR', 'GILKEY', 'FARNHAM', 'DURFEE', 'DUNTON', 'DUNSTON', 'DUDA', 'DEWS', 'DANA', 'CRAVER', 'CORRIVEAU', 'CONWELL', 'COLELLA', 'CHAMBLESS', 'BREMER', 'BOUTTE', 'BOURASSA', 'BLAISDELL', 'BACKMAN', 'BABINEAUX', 'AUDETTE', 'ALLEMAN', 'TOWNER', 'TAVERAS', 'TARANGO', 'SULLINS', 'SUITER', 'STALLARD', 'SOLBERG', 'SCHLUETER', 'POULOS', 'PIMENTAL', 'OWSLEY', 'OLIVIER', 'OKELLEY', 'NATIONS', 'MOFFATT', 'METCALFE', 'MEEKINS', 'MEDELLIN', 'MCGLYNN', 'MCCOWAN', 'MARRIOTT', 'MARABLE', 'LENNOX', 'LAMOUREUX', 'KOSS', 'KERBY', 'KARP', 'JASON', 'ISENBERG', 'HOWZE', 'HOCKENBERRY', 'HIGHSMITH', 'HARBOUR', 'HALLMARK', 'GUSMAN', 'GREELEY', 'GIDDINGS', 'GAUDET', 'GALLUP', 'FLEENOR', 'EICHER', 'EDINGTON', 'DIMAGGIO', 'DEMENT', 'DEMELLO', 'DECASTRO', 'CRUISE', 'BUSHMAN', 'BRUNDAGE', 'BROOKER', 'BROOKE', 'BOURG', 'BOARD', 'BLACKSTOCK', 'BERGMANN', 'BEATON', 'BANISTER', 'ARGO', 'APPLING', 'WORTMAN', 'WATTERSON', 'VILLALPANDO', 'TILLOTSON', 'TIGHE', 'SUNDBERG', 'STERNBERG', 'STAMEY', 'SPEAKS', 'SHIPE', 'SEEGER', 'SCARBERRY', 'SATTLER', 'SAIN', 'ROTHSTEIN', 'POTEET', 'PLOWMAN', 'PETTIFORD', 'PENLAND', 'PEACH', 'PARTAIN', 'PANKEY', 'OYLER', 'OGLETREE', 'OGBURN', 'MOTON', 'MILLION', 'MERKEL', 'MASK', 'MARKUS', 'LUCIER', 'LAZARUS', 'LAVELLE', 'LAKEY', 'KRATZ', 'KINSER', 'KERSHAW', 'JOSEPHSON', 'JESSE', 'IMHOFF', 'IBANEZ', 'HENDRY', 'HAMMON', 'FRISBIE', 'FRIEDRICH', 'FRAWLEY', 'FRAGA', 'FORESTER', 'ESKEW', 'EMMERT', 'DRENNAN', 'DOYON', 'DOMINICK', 'DANDRIDGE', 'CUMMING', 'CAWLEY', 'CARVAJAL', 'BRACEY', 'BELISLE', 'BATEY', 'AHNER', 'WYSOCKI', 'WEISER', 'VELIZ', 'TINCHER', 'SHERLOCK', 'SANTO', 'SANSONE', 'SANKEY', 'SANDSTROM', 'SALE', 'ROHRER', 'RISNER', 'PRIDEMORE', 'PFEFFER', 'PERSINGER', 'PEERY', 'OUBRE', 'ORANGE', 'NOWICKI', 'MUSGRAVE', 'MURDOCH', 'MULLINAX', 'MCCARY', 'MATHIEU', 'LIVENGOOD', 'LEONARDO', 'KYSER', 'KLINK', 'KIMES', 'KELLNER', 'KAVANAUGH', 'KASTEN', 'IMES', 'HOEY', 'HINSHAW', 'HALLEY', 'HAKE', 'GURULE', 'GRUBE', 'GRILLO', 'GETER', 'GATTO', 'GARVER', 'GARRETSON', 'FARWELL', 'EILAND', 'DUNFORD', 'DECARLO', 'CORSO', 'CORE', 'COLMAN', 'COLLARD', 'CLEGHORN', 'CHASTEEN', 'CAVENDER', 'CARLILE', 'CALVO', 'BYERLY', 'BROGDON', 'BROADWATER', 'BREAULT', 'BONO', 'BERGIN', 'BEHR', 'BALLENGER', 'AMICK', 'YAN', 'VICE', 'TAMEZ', 'STIFFLER', 'STEINKE', 'SIMMON', 'SHANKLE', 'SCHALLER', 'SALMONS', 'SACKETT', 'SAAD', 'RIDEOUT', 'READER', 'RATCLIFFE', 'RAO', 'RANSON', 'RANDELL', 'PLASCENCIA', 'PETTERSON', 'OLSZEWSKI', 'OLNEY', 'OLGUIN', 'NILSSON', 'NEVELS', 'MORELLI', 'MONTIEL', 'MONGE', 'MICHELL', 'MICHAELSON', 'MERTENS', 'MCCHESNEY', 'MCALPIN', 'MATHEWSON', 'LOWER', 'LOUDERMILK', 'LINEBERRY', 'LIGGETT', 'LAMP', 'KINLAW', 'KIGHT', 'JUST', 'JOST', 'HEREFORD', 'HARDEMAN', 'HALPERN', 'HALLIDAY', 'HAFER', 'GAUL', 'FRIEL', 'FREITAG', 'FRANCES', 'FORSBERG', 'EVANGELISTA', 'DOERING', 'DICARLO', 'DENDY', 'DELP', 'DEGUZMAN', 'DAMERON', 'CURTISS', 'COUSIN', 'COSPER', 'CHARLEY', 'CAUTHEN', 'CAO', 'CAMPER', 'BRADBERRY', 'BOUTON', 'BONNELL', 'BIXBY', 'BIEBER', 'BEVERIDGE', 'BELLE', 'BEDWELL', 'BARHORST', 'BANNON', 'BALTAZAR', 'BAIER', 'AYOTTE', 'ATTAWAY', 'ARENAS', 'ALEX', 'ABREGO', 'WATFORD', 'VALLEY', 'TURGEON', 'TUNSTALL', 'THAXTON', 'THAI', 'TENORIO', 'STOTTS', 'STHILAIRE', 'SPIKER', 'SHEDD', 'SENG', 'SEABOLT', 'SCALF', 'SALYERS', 'RUHL', 'ROWLETT', 'ROBINETT', 'PFISTER', 'PERLMAN', 'PEPE', 'PARKMAN', 'PARADISE', 'OLIN', 'NUNNALLY', 'NORVELL', 'NAPPER', 'MODLIN', 'MCKELLAR', 'MCCLEAN', 'MASCARENAS', 'MANCHESTER', 'LEIBOWITZ', 'LEDEZMA', 'KUHLMAN', 'KOBAYASHI', 'HUNLEY', 'HOLMQUIST', 'HINKLEY', 'HAZARD', 'HARTSELL', 'GRIBBLE', 'GRAVELY', 'FIFIELD', 'ELIASON', 'DOCTOR', 'DOAK', 'CROSSLAND', 'COVER', 'CLAIR', 'CARLETON', 'BUTTERS', 'BRIDGEMAN', 'BOJORQUEZ', 'BOGGESS', 'BANKER', 'AUTEN', 'JAMES  | http://www.census.gov/genealogy/names/dist.male.first', 'JOHN', 'ROBERT', 'MICHAEL', 'WILLIAM', 'DAVID', 'RICHARD', 'CHARLES', 'JOSEPH', 'THOMAS', 'CHRISTOPHER', 'DANIEL', 'PAUL', 'MARK', 'DONALD', 'GEORGE', 'KENNETH', 'STEVEN', 'EDWARD', 'BRIAN', 'RONALD', 'ANTHONY', 'KEVIN', 'JASON', 'MATTHEW', 'GARY', 'TIMOTHY', 'JOSE', 'LARRY', 'JEFFREY', 'FRANK', 'SCOTT', 'ERIC', 'STEPHEN', 'ANDREW', 'RAYMOND', 'GREGORY', 'JOSHUA', 'JERRY', 'DENNIS', 'WALTER', 'PATRICK', 'PETER', 'HAROLD', 'DOUGLAS', 'HENRY', 'CARL', 'ARTHUR', 'RYAN', 'ROGER', 'JOE', 'JUAN', 'JACK', 'ALBERT', 'JONATHAN', 'JUSTIN', 'TERRY', 'GERALD', 'KEITH', 'SAMUEL', 'WILLIE', 'RALPH', 'LAWRENCE', 'NICHOLAS', 'ROY', 'BENJAMIN', 'BRUCE', 'BRANDON', 'ADAM', 'HARRY', 'FRED', 'WAYNE', 'BILLY', 'STEVE', 'LOUIS', 'JEREMY', 'AARON', 'RANDY', 'HOWARD', 'EUGENE', 'CARLOS', 'RUSSELL', 'BOBBY', 'VICTOR', 'MARTIN', 'ERNEST', 'PHILLIP', 'TODD', 'JESSE', 'CRAIG', 'ALAN', 'SHAWN', 'CLARENCE', 'SEAN', 'PHILIP', 'CHRIS', 'JOHNNY', 'EARL', 'JIMMY', 'ANTONIO', 'DANNY', 'BRYAN', 'TONY', 'LUIS', 'MIKE', 'STANLEY', 'LEONARD', 'NATHAN', 'DALE', 'MANUEL', 'RODNEY', 'CURTIS', 'NORMAN', 'ALLEN', 'MARVIN', 'VINCENT', 'GLENN', 'JEFFERY', 'TRAVIS', 'JEFF', 'CHAD', 'JACOB', 'LEE', 'MELVIN', 'ALFRED', 'KYLE', 'FRANCIS', 'BRADLEY', 'JESUS', 'HERBERT', 'FREDERICK', 'RAY', 'JOEL', 'EDWIN', 'DON', 'EDDIE', 'RICKY', 'TROY', 'RANDALL', 'BARRY', 'ALEXANDER', 'BERNARD', 'MARIO', 'LEROY', 'FRANCISCO', 'MARCUS', 'MICHEAL', 'THEODORE', 'CLIFFORD', 'MIGUEL', 'OSCAR', 'JAY', 'JIM', 'TOM', 'CALVIN', 'ALEX', 'JON', 'RONNIE', 'BILL', 'LLOYD', 'TOMMY', 'LEON', 'DEREK', 'WARREN', 'DARRELL', 'JEROME', 'FLOYD', 'LEO', 'ALVIN', 'TIM', 'WESLEY', 'GORDON', 'DEAN', 'GREG', 'JORGE', 'DUSTIN', 'PEDRO', 'DERRICK', 'DAN', 'LEWIS', 'ZACHARY', 'COREY', 'HERMAN', 'MAURICE', 'VERNON', 'ROBERTO', 'CLYDE', 'GLEN', 'HECTOR', 'SHANE', 'RICARDO', 'SAM', 'RICK', 'LESTER', 'BRENT', 'RAMON', 'CHARLIE', 'TYLER', 'GILBERT', 'GENE', 'MARC', 'REGINALD', 'RUBEN', 'BRETT', 'ANGEL', 'NATHANIEL', 'RAFAEL', 'LESLIE', 'EDGAR', 'MILTON', 'RAUL', 'BEN', 'CHESTER', 'CECIL', 'DUANE', 'FRANKLIN', 'ANDRE', 'ELMER', 'BRAD', 'GABRIEL', 'RON', 'MITCHELL', 'ROLAND', 'ARNOLD', 'HARVEY', 'JARED', 'ADRIAN', 'KARL', 'CORY', 'CLAUDE', 'ERIK', 'DARRYL', 'JAMIE', 'NEIL', 'JESSIE', 'CHRISTIAN', 'JAVIER', 'FERNANDO', 'CLINTON', 'TED', 'MATHEW', 'TYRONE', 'DARREN', 'LONNIE', 'LANCE', 'CODY', 'JULIO', 'KELLY', 'KURT', 'ALLAN', 'NELSON', 'GUY', 'CLAYTON', 'HUGH', 'MAX', 'DWAYNE', 'DWIGHT', 'ARMANDO', 'FELIX', 'JIMMIE', 'EVERETT', 'JORDAN', 'IAN', 'WALLACE', 'KEN', 'BOB', 'JAIME', 'CASEY', 'ALFREDO', 'ALBERTO', 'DAVE', 'IVAN', 'JOHNNIE', 'SIDNEY', 'BYRON', 'JULIAN', 'ISAAC', 'MORRIS', 'CLIFTON', 'WILLARD', 'DARYL', 'ROSS', 'VIRGIL', 'ANDY', 'MARSHALL', 'SALVADOR', 'PERRY', 'KIRK', 'SERGIO', 'MARION', 'TRACY', 'SETH', 'KENT', 'TERRANCE', 'RENE', 'EDUARDO', 'TERRENCE', 'ENRIQUE', 'FREDDIE', 'WADE', 'AUSTIN', 'STUART', 'FREDRICK', 'ARTURO', 'ALEJANDRO', 'JACKIE', 'JOEY', 'NICK', 'LUTHER', 'WENDELL', 'JEREMIAH', 'EVAN', 'JULIUS', 'DANA', 'DONNIE', 'OTIS', 'SHANNON', 'TREVOR', 'OLIVER', 'LUKE', 'HOMER', 'GERARD', 'DOUG', 'KENNY', 'HUBERT', 'ANGELO', 'SHAUN', 'LYLE', 'MATT', 'LYNN', 'ALFONSO', 'ORLANDO', 'REX', 'CARLTON', 'ERNESTO', 'CAMERON', 'NEAL', 'PABLO', 'LORENZO', 'OMAR', 'WILBUR', 'BLAKE', 'GRANT', 'HORACE', 'RODERICK', 'KERRY', 'ABRAHAM', 'WILLIS', 'RICKEY', 'JEAN', 'IRA', 'ANDRES', 'CESAR', 'JOHNATHAN', 'MALCOLM', 'RUDOLPH', 'DAMON', 'KELVIN', 'RUDY', 'PRESTON', 'ALTON', 'ARCHIE', 'MARCO', 'WM', 'PETE', 'RANDOLPH', 'GARRY', 'GEOFFREY', 'JONATHON', 'FELIPE', 'BENNIE', 'GERARDO', 'ED', 'DOMINIC', 'ROBIN', 'LOREN', 'DELBERT', 'COLIN', 'GUILLERMO', 'EARNEST', 'LUCAS', 'BENNY', 'NOEL', 'SPENCER', 'RODOLFO', 'MYRON', 'EDMUND', 'GARRETT', 'SALVATORE', 'CEDRIC', 'LOWELL', 'GREGG', 'SHERMAN', 'WILSON', 'DEVIN', 'SYLVESTER', 'KIM', 'ROOSEVELT', 'ISRAEL', 'JERMAINE', 'FORREST', 'WILBERT', 'LELAND', 'SIMON', 'GUADALUPE', 'CLARK', 'IRVING', 'CARROLL', 'BRYANT', 'OWEN', 'RUFUS', 'WOODROW', 'SAMMY', 'KRISTOPHER', 'MACK', 'LEVI', 'MARCOS', 'GUSTAVO', 'JAKE', 'LIONEL', 'MARTY', 'TAYLOR', 'ELLIS', 'DALLAS', 'GILBERTO', 'CLINT', 'NICOLAS', 'LAURENCE', 'ISMAEL', 'ORVILLE', 'DREW', 'JODY', 'ERVIN', 'DEWEY', 'AL', 'WILFRED', 'JOSH', 'HUGO', 'IGNACIO', 'CALEB', 'TOMAS', 'SHELDON', 'ERICK', 'FRANKIE', 'STEWART', 'DOYLE', 'DARREL', 'ROGELIO', 'TERENCE', 'SANTIAGO', 'ALONZO', 'ELIAS', 'BERT', 'ELBERT', 'RAMIRO', 'CONRAD', 'PAT', 'NOAH', 'GRADY', 'PHIL', 'CORNELIUS', 'LAMAR', 'ROLANDO', 'CLAY', 'PERCY', 'DEXTER', 'BRADFORD', 'MERLE', 'DARIN', 'AMOS', 'TERRELL', 'MOSES', 'IRVIN', 'SAUL', 'ROMAN', 'DARNELL', 'RANDAL', 'TOMMIE', 'TIMMY', 'DARRIN', 'WINSTON', 'BRENDAN', 'TOBY', 'VAN', 'ABEL', 'DOMINICK', 'BOYD', 'COURTNEY', 'JAN', 'EMILIO', 'ELIJAH', 'CARY', 'DOMINGO', 'SANTOS', 'AUBREY', 'EMMETT', 'MARLON', 'EMANUEL', 'JERALD', 'EDMOND', 'EMIL', 'DEWAYNE', 'WILL', 'OTTO', 'TEDDY', 'REYNALDO', 'BRET', 'MORGAN', 'JESS', 'TRENT', 'HUMBERTO', 'EMMANUEL', 'STEPHAN', 'LOUIE', 'VICENTE', 'LAMONT', 'STACY', 'GARLAND', 'MILES', 'MICAH', 'EFRAIN', 'BILLIE', 'LOGAN', 'HEATH', 'RODGER', 'HARLEY', 'DEMETRIUS', 'ETHAN', 'ELDON', 'ROCKY', 'PIERRE', 'JUNIOR', 'FREDDY', 'ELI', 'BRYCE', 'ANTOINE', 'ROBBIE', 'KENDALL', 'ROYCE', 'STERLING', 'MICKEY', 'CHASE', 'GROVER', 'ELTON', 'CLEVELAND', 'DYLAN', 'CHUCK', 'DAMIAN', 'REUBEN', 'STAN', 'AUGUST', 'LEONARDO', 'JASPER', 'RUSSEL', 'ERWIN', 'BENITO', 'HANS', 'MONTE', 'BLAINE', 'ERNIE', 'CURT', 'QUENTIN', 'AGUSTIN', 'MURRAY', 'JAMAL', 'DEVON', 'ADOLFO', 'HARRISON', 'TYSON', 'BURTON', 'BRADY', 'ELLIOTT', 'WILFREDO', 'BART', 'JARROD', 'VANCE', 'DENIS', 'DAMIEN', 'JOAQUIN', 'HARLAN', 'DESMOND', 'ELLIOT', 'DARWIN', 'ASHLEY', 'GREGORIO', 'BUDDY', 'XAVIER', 'KERMIT', 'ROSCOE', 'ESTEBAN', 'ANTON', 'SOLOMON', 'SCOTTY', 'NORBERT', 'ELVIN', 'WILLIAMS', 'NOLAN', 'CAREY', 'ROD', 'QUINTON', 'HAL', 'BRAIN', 'ROB', 'ELWOOD', 'KENDRICK', 'DARIUS', 'MOISES', 'SON', 'MARLIN', 'FIDEL', 'THADDEUS', 'CLIFF', 'MARCEL', 'ALI', 'JACKSON', 'RAPHAEL', 'BRYON', 'ARMAND', 'ALVARO', 'JEFFRY', 'DANE', 'JOESPH', 'THURMAN', 'NED', 'SAMMIE', 'RUSTY', 'MICHEL', 'MONTY', 'RORY', 'FABIAN', 'REGGIE', 'MASON', 'GRAHAM', 'KRIS', 'ISAIAH', 'VAUGHN', 'GUS', 'AVERY', 'LOYD', 'DIEGO', 'ALEXIS', 'ADOLPH', 'NORRIS', 'MILLARD', 'ROCCO', 'GONZALO', 'DERICK', 'RODRIGO', 'GERRY', 'STACEY', 'CARMEN', 'WILEY', 'RIGOBERTO', 'ALPHONSO', 'TY', 'SHELBY', 'RICKIE', 'NOE', 'VERN', 'BOBBIE', 'REED', 'JEFFERSON', 'ELVIS', 'BERNARDO', 'MAURICIO', 'HIRAM', 'DONOVAN', 'BASIL', 'RILEY', 'OLLIE', 'NICKOLAS', 'MAYNARD', 'SCOT', 'VINCE', 'QUINCY', 'EDDY', 'SEBASTIAN', 'FEDERICO', 'ULYSSES', 'HERIBERTO', 'DONNELL', 'COLE', 'DENNY', 'DAVIS', 'GAVIN', 'EMERY', 'WARD', 'ROMEO', 'JAYSON', 'DION', 'DANTE', 'CLEMENT', 'COY', 'ODELL', 'MAXWELL', 'JARVIS', 'BRUNO', 'ISSAC', 'MARY', 'DUDLEY', 'BROCK', 'SANFORD', 'COLBY', 'CARMELO', 'BARNEY', 'NESTOR', 'HOLLIS', 'STEFAN', 'DONNY', 'ART', 'LINWOOD', 'BEAU', 'WELDON', 'GALEN', 'ISIDRO', 'TRUMAN', 'DELMAR', 'JOHNATHON', 'SILAS', 'FREDERIC', 'DICK', 'KIRBY', 'IRWIN', 'CRUZ', 'MERLIN', 'MERRILL', 'CHARLEY', 'MARCELINO', 'LANE', 'HARRIS', 'CLEO', 'CARLO', 'TRENTON', 'KURTIS', 'HUNTER', 'AURELIO', 'WINFRED', 'VITO', 'COLLIN', 'DENVER', 'CARTER', 'LEONEL', 'EMORY', 'PASQUALE', 'MOHAMMAD', 'MARIANO', 'DANIAL', 'BLAIR', 'LANDON', 'DIRK', 'BRANDEN', 'ADAN', 'NUMBERS', 'CLAIR', 'BUFORD', 'GERMAN', 'BERNIE', 'WILMER', 'JOAN', 'EMERSON', 'ZACHERY', 'FLETCHER', 'JACQUES', 'ERROL', 'DALTON', 'MONROE', 'JOSUE', 'DOMINIQUE', 'EDWARDO', 'BOOKER', 'WILFORD', 'SONNY', 'SHELTON', 'CARSON', 'THERON', 'RAYMUNDO', 'DAREN', 'TRISTAN', 'HOUSTON', 'ROBBY', 'LINCOLN', 'JAME', 'GENARO', 'GALE', 'BENNETT', 'OCTAVIO', 'CORNELL', 'LAVERNE', 'HUNG', 'ARRON', 'ANTONY', 'HERSCHEL', 'ALVA', 'GIOVANNI', 'GARTH', 'CYRUS', 'CYRIL', 'RONNY', 'STEVIE', 'LON', 'FREEMAN', 'ERIN', 'DUNCAN', 'KENNITH', 'CARMINE', 'AUGUSTINE', 'YOUNG', 'ERICH', 'CHADWICK', 'WILBURN', 'RUSS', 'REID', 'MYLES', 'ANDERSON', 'MORTON', 'JONAS', 'FOREST', 'MITCHEL', 'MERVIN', 'ZANE', 'RICH', 'JAMEL', 'LAZARO', 'ALPHONSE', 'RANDELL', 'MAJOR', 'JOHNIE', 'JARRETT', 'BROOKS', 'ARIEL', 'ABDUL', 'DUSTY', 'LUCIANO', 'LINDSEY', 'TRACEY', 'SEYMOUR', 'SCOTTIE', 'EUGENIO', 'MOHAMMED', 'SANDY', 'VALENTIN', 'CHANCE', 'ARNULFO', 'LUCIEN', 'FERDINAND', 'THAD', 'EZRA', 'SYDNEY', 'ALDO', 'RUBIN', 'ROYAL', 'MITCH', 'EARLE', 'ABE', 'WYATT', 'MARQUIS', 'LANNY', 'KAREEM', 'JAMAR', 'BORIS', 'ISIAH', 'EMILE', 'ELMO', 'ARON', 'LEOPOLDO', 'EVERETTE', 'JOSEF', 'GAIL', 'ELOY', 'DORIAN', 'RODRICK', 'REINALDO', 'LUCIO', 'JERROD', 'WESTON', 'HERSHEL', 'BARTON', 'PARKER', 'LEMUEL', 'LAVERN', 'BURT', 'JULES', 'GIL', 'ELISEO', 'AHMAD', 'NIGEL', 'EFREN', 'ANTWAN', 'ALDEN', 'MARGARITO', 'COLEMAN', 'REFUGIO', 'DINO', 'OSVALDO', 'LES', 'DEANDRE', 'NORMAND', 'KIETH', 'IVORY', 'ANDREA', 'TREY', 'NORBERTO', 'NAPOLEON', 'JEROLD', 'FRITZ', 'ROSENDO', 'MILFORD', 'SANG', 'DEON', 'CHRISTOPER', 'ALFONZO', 'LYMAN', 'JOSIAH', 'BRANT', 'WILTON', 'RICO', 'JAMAAL', 'DEWITT', 'CAROL', 'BRENTON', 'YONG', 'OLIN', 'FOSTER', 'FAUSTINO', 'CLAUDIO', 'JUDSON', 'GINO', 'EDGARDO', 'BERRY', 'ALEC', 'TANNER', 'JARRED', 'DONN', 'TRINIDAD', 'TAD', 'SHIRLEY', 'PRINCE', 'PORFIRIO', 'ODIS', 'MARIA', 'LENARD', 'CHAUNCEY', 'CHANG', 'TOD', 'MEL', 'MARCELO', 'KORY', 'AUGUSTUS', 'KEVEN', 'HILARIO', 'BUD', 'SAL', 'ROSARIO', 'ORVAL', 'MAURO', 'DANNIE', 'ZACHARIAH', 'OLEN', 'ANIBAL', 'MILO', 'JED', 'FRANCES', 'THANH', 'DILLON', 'AMADO', 'NEWTON', 'CONNIE', 'LENNY', 'TORY', 'RICHIE', 'LUPE', 'HORACIO', 'BRICE', 'MOHAMED', 'DELMER', 'DARIO', 'REYES', 'DEE', 'MAC', 'JONAH', 'JERROLD', 'ROBT', 'HANK', 'SUNG', 'RUPERT', 'ROLLAND', 'KENTON', 'DAMION', 'CHI', 'ANTONE', 'WALDO', 'FREDRIC', 'BRADLY', 'QUINN', 'KIP', 'BURL', 'WALKER', 'TYREE', 'JEFFEREY', 'AHMED', 'WILLY', 'STANFORD', 'OREN', 'NOBLE', 'MOSHE', 'MIKEL', 'ENOCH', 'BRENDON', 'QUINTIN', 'JAMISON', 'FLORENCIO', 'DARRICK', 'TOBIAS', 'MINH', 'HASSAN', 'GIUSEPPE', 'DEMARCUS', 'CLETUS', 'TYRELL', 'LYNDON', 'KEENAN', 'WERNER', 'THEO', 'GERALDO', 'LOU', 'COLUMBUS', 'CHET', 'BERTRAM', 'MARKUS', 'HUEY', 'HILTON', 'DWAIN', 'DONTE', 'TYRON', 'OMER', 'ISAIAS', 'HIPOLITO', 'FERMIN', 'CHUNG', 'ADALBERTO', 'VALENTINE', 'JAMEY', 'BO', 'BARRETT', 'WHITNEY', 'TEODORO', 'MCKINLEY', 'MAXIMO', 'GARFIELD', 'SOL', 'RALEIGH', 'LAWERENCE', 'ABRAM', 'RASHAD', 'KING', 'EMMITT', 'DARON', 'CHONG', 'SAMUAL', 'PARIS', 'OTHA', 'MIQUEL', 'LACY', 'EUSEBIO', 'DONG', 'DOMENIC', 'DARRON', 'BUSTER', 'ANTONIA', 'WILBER', 'RENATO', 'JC', 'HOYT', 'HAYWOOD', 'EZEKIEL', 'CHAS', 'FLORENTINO', 'ELROY', 'CLEMENTE', 'ARDEN', 'NEVILLE', 'KELLEY', 'EDISON', 'DESHAWN', 'CARROL', 'SHAYNE', 'NATHANIAL', 'JORDON', 'DANILO', 'CLAUD', 'VAL', 'SHERWOOD', 'RAYMON', 'RAYFORD', 'CRISTOBAL', 'AMBROSE', 'TITUS', 'HYMAN', 'FELTON', 'EZEQUIEL', 'ERASMO', 'STANTON', 'LONNY', 'LEN', 'IKE', 'MILAN', 'LINO', 'JAROD', 'HERB', 'ANDREAS', 'WALTON', 'RHETT', 'PALMER', 'JUDE', 'DOUGLASS', 'CORDELL', 'OSWALDO', 'ELLSWORTH', 'VIRGILIO', 'TONEY', 'NATHANAEL', 'DEL', 'BRITT', 'BENEDICT', 'MOSE', 'HONG', 'LEIGH', 'JOHNSON', 'ISREAL', 'GAYLE', 'GARRET', 'FAUSTO', 'ASA', 'ARLEN', 'ZACK', 'WARNER', 'MODESTO', 'FRANCESCO', 'MANUAL', 'JAE', 'GAYLORD', 'GASTON', 'FILIBERTO', 'DEANGELO', 'MICHALE', 'GRANVILLE', 'WES', 'MALIK', 'ZACKARY', 'TUAN', 'NICKY', 'ELDRIDGE', 'CRISTOPHER', 'CORTEZ', 'ANTIONE', 'MALCOM', 'LONG', 'KOREY', 'JOSPEH', 'COLTON', 'WAYLON', 'VON', 'HOSEA', 'SHAD', 'SANTO', 'RUDOLF', 'ROLF', 'REY', 'RENALDO', 'MARCELLUS', 'LUCIUS', 'LESLEY', 'KRISTOFER', 'BOYCE', 'BENTON', 'MAN', 'KASEY', 'JEWELL', 'HAYDEN', 'HARLAND', 'ARNOLDO', 'RUEBEN', 'LEANDRO', 'KRAIG', 'JERRELL', 'JEROMY', 'HOBERT', 'CEDRICK', 'ARLIE', 'WINFORD', 'WALLY', 'PATRICIA', 'LUIGI', 'KENETH', 'JACINTO', 'GRAIG', 'FRANKLYN', 'EDMUNDO', 'SID', 'PORTER', 'LEIF', 'LAUREN', 'JERAMY', 'ELISHA', 'BUCK', 'WILLIAN', 'VINCENZO', 'SHON', 'MICHAL', 'LYNWOOD', 'LINDSAY', 'JEWEL', 'JERE', 'HAI', 'ELDEN', 'DORSEY', 'DARELL', 'BRODERICK', 'ALONSO', 'MARY  | http://www.census.gov/genealogy/names/dist.female.first', 'PATRICIA', 'LINDA', 'BARBARA', 'ELIZABETH', 'JENNIFER', 'MARIA', 'SUSAN', 'MARGARET', 'DOROTHY', 'LISA', 'NANCY', 'KAREN', 'BETTY', 'HELEN', 'SANDRA', 'DONNA', 'CAROL', 'RUTH', 'SHARON', 'MICHELLE', 'LAURA', 'SARAH', 'KIMBERLY', 'DEBORAH', 'JESSICA', 'SHIRLEY', 'CYNTHIA', 'ANGELA', 'MELISSA', 'BRENDA', 'AMY', 'ANNA', 'REBECCA', 'VIRGINIA', 'KATHLEEN', 'PAMELA', 'MARTHA', 'DEBRA', 'AMANDA', 'STEPHANIE', 'CAROLYN', 'CHRISTINE', 'MARIE', 'JANET', 'CATHERINE', 'FRANCES', 'ANN', 'JOYCE', 'DIANE', 'ALICE', 'JULIE', 'HEATHER', 'TERESA', 'DORIS', 'GLORIA', 'EVELYN', 'JEAN', 'CHERYL', 'MILDRED', 'KATHERINE', 'JOAN', 'ASHLEY', 'JUDITH', 'ROSE', 'JANICE', 'KELLY', 'NICOLE', 'JUDY', 'CHRISTINA', 'KATHY', 'THERESA', 'BEVERLY', 'DENISE', 'TAMMY', 'IRENE', 'JANE', 'LORI', 'RACHEL', 'MARILYN', 'ANDREA', 'KATHRYN', 'LOUISE', 'SARA', 'ANNE', 'JACQUELINE', 'WANDA', 'BONNIE', 'JULIA', 'RUBY', 'LOIS', 'TINA', 'PHYLLIS', 'NORMA', 'PAULA', 'DIANA', 'ANNIE', 'LILLIAN', 'EMILY', 'ROBIN', 'PEGGY', 'CRYSTAL', 'GLADYS', 'RITA', 'DAWN', 'CONNIE', 'FLORENCE', 'TRACY', 'EDNA', 'TIFFANY', 'CARMEN', 'ROSA', 'CINDY', 'GRACE', 'WENDY', 'VICTORIA', 'EDITH', 'KIM', 'SHERRY', 'SYLVIA', 'JOSEPHINE', 'THELMA', 'SHANNON', 'SHEILA', 'ETHEL', 'ELLEN', 'ELAINE', 'MARJORIE', 'CARRIE', 'CHARLOTTE', 'MONICA', 'ESTHER', 'PAULINE', 'EMMA', 'JUANITA', 'ANITA', 'RHONDA', 'HAZEL', 'AMBER', 'EVA', 'DEBBIE', 'APRIL', 'LESLIE', 'CLARA', 'LUCILLE', 'JAMIE', 'JOANNE', 'ELEANOR', 'VALERIE', 'DANIELLE', 'MEGAN', 'ALICIA', 'SUZANNE', 'MICHELE', 'GAIL', 'BERTHA', 'DARLENE', 'VERONICA', 'JILL', 'ERIN', 'GERALDINE', 'LAUREN', 'CATHY', 'JOANN', 'LORRAINE', 'LYNN', 'SALLY', 'REGINA', 'ERICA', 'BEATRICE', 'DOLORES', 'BERNICE', 'AUDREY', 'YVONNE', 'ANNETTE', 'JUNE', 'SAMANTHA', 'MARION', 'DANA', 'STACY', 'ANA', 'RENEE', 'IDA', 'VIVIAN', 'ROBERTA', 'HOLLY', 'BRITTANY', 'MELANIE', 'LORETTA', 'YOLANDA', 'JEANETTE', 'LAURIE', 'KATIE', 'KRISTEN', 'VANESSA', 'ALMA', 'SUE', 'ELSIE', 'BETH', 'JEANNE', 'VICKI', 'CARLA', 'TARA', 'ROSEMARY', 'EILEEN', 'TERRI', 'GERTRUDE', 'LUCY', 'TONYA', 'ELLA', 'STACEY', 'WILMA', 'GINA', 'KRISTIN', 'JESSIE', 'NATALIE', 'AGNES', 'VERA', 'WILLIE', 'CHARLENE', 'BESSIE', 'DELORES', 'MELINDA', 'PEARL', 'ARLENE', 'MAUREEN', 'COLLEEN', 'ALLISON', 'TAMARA', 'JOY', 'GEORGIA', 'CONSTANCE', 'LILLIE', 'CLAUDIA', 'JACKIE', 'MARCIA', 'TANYA', 'NELLIE', 'MINNIE', 'MARLENE', 'HEIDI', 'GLENDA', 'LYDIA', 'VIOLA', 'COURTNEY', 'MARIAN', 'STELLA', 'CAROLINE', 'DORA', 'JO', 'VICKIE', 'MATTIE', 'TERRY', 'MAXINE', 'IRMA', 'MABEL', 'MARSHA', 'MYRTLE', 'LENA', 'CHRISTY', 'DEANNA', 'PATSY', 'HILDA', 'GWENDOLYN', 'JENNIE', 'NORA', 'MARGIE', 'NINA', 'CASSANDRA', 'LEAH', 'PENNY', 'KAY', 'PRISCILLA', 'NAOMI', 'CAROLE', 'BRANDY', 'OLGA', 'BILLIE', 'DIANNE', 'TRACEY', 'LEONA', 'JENNY', 'FELICIA', 'SONIA', 'MIRIAM', 'VELMA', 'BECKY', 'BOBBIE', 'VIOLET', 'KRISTINA', 'TONI', 'MISTY', 'MAE', 'SHELLY', 'DAISY', 'RAMONA', 'SHERRI', 'ERIKA', 'KATRINA', 'CLAIRE', 'LINDSEY', 'LINDSAY', 'GENEVA', 'GUADALUPE', 'BELINDA', 'MARGARITA', 'SHERYL', 'CORA', 'FAYE', 'ADA', 'NATASHA', 'SABRINA', 'ISABEL', 'MARGUERITE', 'HATTIE', 'HARRIET', 'MOLLY', 'CECILIA', 'KRISTI', 'BRANDI', 'BLANCHE', 'SANDY', 'ROSIE', 'JOANNA', 'IRIS', 'EUNICE', 'ANGIE', 'INEZ', 'LYNDA', 'MADELINE', 'AMELIA', 'ALBERTA', 'GENEVIEVE', 'MONIQUE', 'JODI', 'JANIE', 'MAGGIE', 'KAYLA', 'SONYA', 'JAN', 'LEE', 'KRISTINE', 'CANDACE', 'FANNIE', 'MARYANN', 'OPAL', 'ALISON', 'YVETTE', 'MELODY', 'LUZ', 'SUSIE', 'OLIVIA', 'FLORA', 'SHELLEY', 'KRISTY', 'MAMIE', 'LULA', 'LOLA', 'VERNA', 'BEULAH', 'ANTOINETTE', 'CANDICE', 'JUANA', 'JEANNETTE', 'PAM', 'KELLI', 'HANNAH', 'WHITNEY', 'BRIDGET', 'KARLA', 'CELIA', 'LATOYA', 'PATTY', 'SHELIA', 'GAYLE', 'DELLA', 'VICKY', 'LYNNE', 'SHERI', 'MARIANNE', 'KARA', 'JACQUELYN', 'ERMA', 'BLANCA', 'MYRA', 'LETICIA', 'PAT', 'KRISTA', 'ROXANNE', 'ANGELICA', 'JOHNNIE', 'ROBYN', 'FRANCIS', 'ADRIENNE', 'ROSALIE', 'ALEXANDRA', 'BROOKE', 'BETHANY', 'SADIE', 'BERNADETTE', 'TRACI', 'JODY', 'KENDRA', 'JASMINE', 'NICHOLE', 'RACHAEL', 'CHELSEA', 'MABLE', 'ERNESTINE', 'MURIEL', 'MARCELLA', 'ELENA', 'KRYSTAL', 'ANGELINA', 'NADINE', 'KARI', 'ESTELLE', 'DIANNA', 'PAULETTE', 'LORA', 'MONA', 'DOREEN', 'ROSEMARIE', 'ANGEL', 'DESIREE', 'ANTONIA', 'HOPE', 'GINGER', 'JANIS', 'BETSY', 'CHRISTIE', 'FREDA', 'MERCEDES', 'MEREDITH', 'LYNETTE', 'TERI', 'CRISTINA', 'EULA', 'LEIGH', 'MEGHAN', 'SOPHIA', 'ELOISE', 'ROCHELLE', 'GRETCHEN', 'CECELIA', 'RAQUEL', 'HENRIETTA', 'ALYSSA', 'JANA', 'KELLEY', 'GWEN', 'KERRY', 'JENNA', 'TRICIA', 'LAVERNE', 'OLIVE', 'ALEXIS', 'TASHA', 'SILVIA', 'ELVIRA', 'CASEY', 'DELIA', 'SOPHIE', 'KATE', 'PATTI', 'LORENA', 'KELLIE', 'SONJA', 'LILA', 'LANA', 'DARLA', 'MAY', 'MINDY', 'ESSIE', 'MANDY', 'LORENE', 'ELSA', 'JOSEFINA', 'JEANNIE', 'MIRANDA', 'DIXIE', 'LUCIA', 'MARTA', 'FAITH', 'LELA', 'JOHANNA', 'SHARI', 'CAMILLE', 'TAMI', 'SHAWNA', 'ELISA', 'EBONY', 'MELBA', 'ORA', 'NETTIE', 'TABITHA', 'OLLIE', 'JAIME', 'WINIFRED', 'KRISTIE', 'MARINA', 'ALISHA', 'AIMEE', 'RENA', 'MYRNA', 'MARLA', 'TAMMIE', 'LATASHA', 'BONITA', 'PATRICE', 'RONDA', 'SHERRIE', 'ADDIE', 'FRANCINE', 'DELORIS', 'STACIE', 'ADRIANA', 'CHERI', 'SHELBY', 'ABIGAIL', 'CELESTE', 'JEWEL', 'CARA', 'ADELE', 'REBEKAH', 'LUCINDA', 'DORTHY', 'CHRIS', 'EFFIE', 'TRINA', 'REBA', 'SHAWN', 'SALLIE', 'AURORA', 'LENORA', 'ETTA', 'LOTTIE', 'KERRI', 'TRISHA', 'NIKKI', 'ESTELLA', 'FRANCISCA', 'JOSIE', 'TRACIE', 'MARISSA', 'KARIN', 'BRITTNEY', 'JANELLE', 'LOURDES', 'LAUREL', 'HELENE', 'FERN', 'ELVA', 'CORINNE', 'KELSEY', 'INA', 'BETTIE', 'ELISABETH', 'AIDA', 'CAITLIN', 'INGRID', 'IVA', 'EUGENIA', 'CHRISTA', 'GOLDIE', 'CASSIE', 'MAUDE', 'JENIFER', 'THERESE', 'FRANKIE', 'DENA', 'LORNA', 'JANETTE', 'LATONYA', 'CANDY', 'MORGAN', 'CONSUELO', 'TAMIKA', 'ROSETTA', 'DEBORA', 'CHERIE', 'POLLY', 'DINA', 'JEWELL', 'FAY', 'JILLIAN', 'DOROTHEA', 'NELL', 'TRUDY', 'ESPERANZA', 'PATRICA', 'KIMBERLEY', 'SHANNA', 'HELENA', 'CAROLINA', 'CLEO', 'STEFANIE', 'ROSARIO', 'OLA', 'JANINE', 'MOLLIE', 'LUPE', 'ALISA', 'LOU', 'MARIBEL', 'SUSANNE', 'BETTE', 'SUSANA', 'ELISE', 'CECILE', 'ISABELLE', 'LESLEY', 'JOCELYN', 'PAIGE', 'JONI', 'RACHELLE', 'LEOLA', 'DAPHNE', 'ALTA', 'ESTER', 'PETRA', 'GRACIELA', 'IMOGENE', 'JOLENE', 'KEISHA', 'LACEY', 'GLENNA', 'GABRIELA', 'KERI', 'URSULA', 'LIZZIE', 'KIRSTEN', 'SHANA', 'ADELINE', 'MAYRA', 'JAYNE', 'JACLYN', 'GRACIE', 'SONDRA', 'CARMELA', 'MARISA', 'ROSALIND', 'CHARITY', 'TONIA', 'BEATRIZ', 'MARISOL', 'CLARICE', 'JEANINE', 'SHEENA', 'ANGELINE', 'FRIEDA', 'LILY', 'ROBBIE', 'SHAUNA', 'MILLIE', 'CLAUDETTE', 'CATHLEEN', 'ANGELIA', 'GABRIELLE', 'AUTUMN', 'KATHARINE', 'SUMMER', 'JODIE', 'STACI', 'LEA', 'CHRISTI', 'JIMMIE', 'JUSTINE', 'ELMA', 'LUELLA', 'MARGRET', 'DOMINIQUE', 'SOCORRO', 'RENE', 'MARTINA', 'MARGO', 'MAVIS', 'CALLIE', 'BOBBI', 'MARITZA', 'LUCILE', 'LEANNE', 'JEANNINE', 'DEANA', 'AILEEN', 'LORIE', 'LADONNA', 'WILLA', 'MANUELA', 'GALE', 'SELMA', 'DOLLY', 'SYBIL', 'ABBY', 'LARA', 'DALE', 'IVY', 'DEE', 'WINNIE', 'MARCY', 'LUISA', 'JERI', 'MAGDALENA', 'OFELIA', 'MEAGAN', 'AUDRA', 'MATILDA', 'LEILA', 'CORNELIA', 'BIANCA', 'SIMONE', 'BETTYE', 'RANDI', 'VIRGIE', 'LATISHA', 'BARBRA', 'GEORGINA', 'ELIZA', 'LEANN', 'BRIDGETTE', 'RHODA', 'HALEY', 'ADELA', 'NOLA', 'BERNADINE', 'FLOSSIE', 'ILA', 'GRETA', 'RUTHIE', 'NELDA', 'MINERVA', 'LILLY', 'TERRIE', 'LETHA', 'HILARY', 'ESTELA', 'VALARIE', 'BRIANNA', 'ROSALYN', 'EARLINE', 'CATALINA', 'AVA', 'MIA', 'CLARISSA', 'LIDIA', 'CORRINE', 'ALEXANDRIA', 'CONCEPCION', 'TIA', 'SHARRON', 'RAE', 'DONA', 'ERICKA', 'JAMI', 'ELNORA', 'CHANDRA', 'LENORE', 'NEVA', 'MARYLOU', 'MELISA', 'TABATHA', 'SERENA', 'AVIS', 'ALLIE', 'SOFIA', 'JEANIE', 'ODESSA', 'NANNIE', 'HARRIETT', 'LORAINE', 'PENELOPE', 'MILAGROS', 'EMILIA', 'BENITA', 'ALLYSON', 'ASHLEE', 'TANIA', 'TOMMIE', 'ESMERALDA', 'KARINA', 'EVE', 'PEARLIE', 'ZELMA', 'MALINDA', 'NOREEN', 'TAMEKA', 'SAUNDRA', 'HILLARY', 'AMIE', 'ALTHEA', 'ROSALINDA', 'JORDAN', 'LILIA', 'ALANA', 'GAY', 'CLARE', 'ALEJANDRA', 'ELINOR', 'MICHAEL', 'LORRIE', 'JERRI', 'DARCY', 'EARNESTINE', 'CARMELLA', 'TAYLOR', 'NOEMI', 'MARCIE', 'LIZA', 'ANNABELLE', 'LOUISA', 'EARLENE', 'MALLORY', 'CARLENE', 'NITA', 'SELENA', 'TANISHA', 'KATY', 'JULIANNE', 'JOHN', 'LAKISHA', 'EDWINA', 'MARICELA', 'MARGERY', 'KENYA', 'DOLLIE', 'ROXIE', 'ROSLYN', 'KATHRINE', 'NANETTE', 'CHARMAINE', 'LAVONNE', 'ILENE', 'KRIS', 'TAMMI', 'SUZETTE', 'CORINE', 'KAYE', 'JERRY', 'MERLE', 'CHRYSTAL', 'LINA', 'DEANNE', 'LILIAN', 'JULIANA', 'ALINE', 'LUANN', 'KASEY', 'MARYANNE', 'EVANGELINE', 'COLETTE', 'MELVA', 'LAWANDA', 'YESENIA', 'NADIA', 'MADGE', 'KATHIE', 'EDDIE', 'OPHELIA', 'VALERIA', 'NONA', 'MITZI', 'MARI', 'GEORGETTE', 'CLAUDINE', 'FRAN', 'ALISSA', 'ROSEANN', 'LAKEISHA', 'SUSANNA', 'REVA', 'DEIDRE', 'CHASITY', 'SHEREE', 'CARLY', 'JAMES', 'ELVIA', 'ALYCE', 'DEIRDRE', 'GENA', 'BRIANA', 'ARACELI', 'KATELYN', 'ROSANNE', 'WENDI', 'TESSA', 'BERTA', 'MARVA', 'IMELDA', 'MARIETTA', 'MARCI', 'LEONOR', 'ARLINE', 'SASHA', 'MADELYN', 'JANNA', 'JULIETTE', 'DEENA', 'AURELIA', 'JOSEFA', 'AUGUSTA', 'LILIANA', 'YOUNG', 'CHRISTIAN', 'LESSIE', 'AMALIA', 'SAVANNAH', 'ANASTASIA', 'VILMA', 'NATALIA', 'ROSELLA', 'LYNNETTE', 'CORINA', 'ALFREDA', 'LEANNA', 'CAREY', 'AMPARO', 'COLEEN', 'TAMRA', 'AISHA', 'WILDA', 'KARYN', 'CHERRY', 'QUEEN', 'MAURA', 'MAI', 'EVANGELINA', 'ROSANNA', 'HALLIE', 'ERNA', 'ENID', 'MARIANA', 'LACY', 'JULIET', 'JACKLYN', 'FREIDA', 'MADELEINE', 'MARA', 'HESTER', 'CATHRYN', 'LELIA', 'CASANDRA', 'BRIDGETT', 'ANGELITA', 'JANNIE', 'DIONNE', 'ANNMARIE', 'KATINA', 'BERYL', 'PHOEBE', 'MILLICENT', 'KATHERYN', 'DIANN', 'CARISSA', 'MARYELLEN', 'LIZ', 'LAURI', 'HELGA', 'GILDA', 'ADRIAN', 'RHEA', 'MARQUITA', 'HOLLIE', 'TISHA', 'TAMERA', 'ANGELIQUE', 'FRANCESCA', 'BRITNEY', 'KAITLIN', 'LOLITA', 'FLORINE', 'ROWENA', 'REYNA', 'TWILA', 'FANNY', 'JANELL', 'INES', 'CONCETTA', 'BERTIE', 'ALBA', 'BRIGITTE', 'ALYSON', 'VONDA', 'PANSY', 'ELBA', 'NOELLE', 'LETITIA', 'KITTY', 'DEANN', 'BRANDIE', 'LOUELLA', 'LETA', 'FELECIA', 'SHARLENE', 'LESA', 'BEVERLEY', 'ROBERT', 'ISABELLA', 'HERMINIA', 'TERRA', 'CELINA', 'TORI', 'OCTAVIA', 'JADE', 'DENICE', 'GERMAINE', 'SIERRA', 'MICHELL', 'CORTNEY', 'NELLY', 'DORETHA', 'SYDNEY', 'DEIDRA', 'MONIKA', 'LASHONDA', 'JUDI', 'CHELSEY', 'ANTIONETTE', 'MARGOT', 'BOBBY', 'ADELAIDE', 'NAN', 'LEEANN', 'ELISHA', 'DESSIE', 'LIBBY', 'KATHI', 'GAYLA', 'LATANYA', 'MINA', 'MELLISA', 'KIMBERLEE', 'JASMIN', 'RENAE', 'ZELDA', 'ELDA', 'MA', 'JUSTINA', 'GUSSIE', 'EMILIE', 'CAMILLA', 'ABBIE', 'ROCIO', 'KAITLYN', 'JESSE', 'EDYTHE', 'ASHLEIGH', 'SELINA', 'LAKESHA', 'GERI', 'ALLENE', 'PAMALA', 'MICHAELA', 'DAYNA', 'CARYN', 'ROSALIA', 'SUN', 'JACQULINE', 'REBECA', 'MARYBETH', 'KRYSTLE', 'IOLA', 'DOTTIE', 'BENNIE', 'BELLE', 'AUBREY', 'GRISELDA', 'ERNESTINA', 'ELIDA', 'ADRIANNE', 'DEMETRIA', 'DELMA', 'CHONG', 'JAQUELINE', 'DESTINY', 'ARLEEN', 'VIRGINA', 'RETHA', 'FATIMA', 'TILLIE', 'ELEANORE', 'CARI', 'TREVA', 'BIRDIE', 'WILHELMINA', 'ROSALEE', 'MAURINE', 'LATRICE', 'YONG', 'JENA', 'TARYN', 'ELIA', 'DEBBY', 'MAUDIE', 'JEANNA', 'DELILAH', 'CATRINA', 'SHONDA', 'HORTENCIA', 'THEODORA', 'TERESITA', 'ROBBIN', 'DANETTE', 'MARYJANE', 'FREDDIE', 'DELPHINE', 'BRIANNE', 'NILDA', 'DANNA', 'CINDI', 'BESS', 'IONA', 'HANNA', 'ARIEL', 'WINONA', 'VIDA', 'ROSITA', 'MARIANNA', 'WILLIAM', 'RACHEAL', 'GUILLERMINA', 'ELOISA', 'CELESTINE', 'CAREN', 'MALISSA', 'LONA', 'CHANTEL', 'SHELLIE', 'MARISELA', 'LEORA', 'AGATHA', 'SOLEDAD', 'MIGDALIA', 'IVETTE', 'CHRISTEN', 'ATHENA', 'JANEL', 'CHLOE', 'VEDA', 'PATTIE', 'TESSIE', 'TERA', 'MARILYNN', 'LUCRETIA', 'KARRIE', 'DINAH', 'DANIELA', 'ALECIA', 'ADELINA', 'VERNICE', 'SHIELA', 'PORTIA', 'MERRY', 'LASHAWN', 'DEVON', 'DARA', 'TAWANA', 'OMA', 'VERDA', 'CHRISTIN', 'ALENE', 'ZELLA', 'SANDI', 'RAFAELA', 'MAYA', 'KIRA', 'CANDIDA', 'ALVINA', 'SUZAN', 'SHAYLA', 'LYN', 'LETTIE', 'ALVA', 'SAMATHA', 'ORALIA', 'MATILDE', 'MADONNA', 'LARISSA', 'VESTA', 'RENITA', 'INDIA', 'DELOIS', 'SHANDA', 'PHILLIS', 'LORRI', 'ERLINDA', 'CRUZ', 'CATHRINE', 'BARB', 'ZOE', 'ISABELL', 'IONE', 'GISELA', 'CHARLIE', 'VALENCIA', 'ROXANNA', 'MAYME', 'KISHA', 'ELLIE', 'MELLISSA', 'DORRIS', 'DALIA', 'BELLA', 'ANNETTA', 'ZOILA', 'RETA', 'REINA', 'LAURETTA', 'KYLIE', 'CHRISTAL', 'PILAR', 'CHARLA', 'ELISSA', 'TIFFANI', 'TANA', 'PAULINA', 'LEOTA', 'BREANNA', 'JAYME', 'CARMEL', 'VERNELL', 'TOMASA', 'MANDI', 'DOMINGA', 'SANTA', 'MELODIE', 'LURA', 'ALEXA', 'TAMELA', 'RYAN', 'MIRNA', 'KERRIE', 'VENUS', 'NOEL', 'FELICITA', 'CRISTY', 'CARMELITA', 'BERNIECE', 'ANNEMARIE', 'TIARA', 'ROSEANNE', 'MISSY', 'CORI', 'ROXANA', 'PRICILLA', 'KRISTAL', 'JUNG', 'ELYSE', 'HAYDEE', 'ALETHA', 'BETTINA', 'MARGE', 'GILLIAN', 'FILOMENA', 'CHARLES', 'ZENAIDA', 'HARRIETTE', 'CARIDAD', 'VADA', 'UNA', 'ARETHA', 'PEARLINE', 'MARJORY', 'MARCELA', 'FLOR', 'EVETTE', 'ELOUISE', 'ALINA', 'TRINIDAD', 'DAVID', 'DAMARIS', 'CATHARINE', 'CARROLL', 'BELVA', 'NAKIA', 'MARLENA', 'LUANNE', 'LORINE', 'KARON', 'DORENE', 'DANITA', 'BRENNA', 'TATIANA', 'SAMMIE', 'LOUANN', 'LOREN', 'JULIANNA', 'ANDRIA', 'PHILOMENA', 'LUCILA', 'LEONORA', 'DOVIE', 'ROMONA', 'MIMI', 'JACQUELIN', 'GAYE', 'TONJA', 'MISTI', 'JOE', 'GENE', 'CHASTITY', 'STACIA', 'ROXANN', 'MICAELA', 'NIKITA', 'MEI', 'VELDA', 'MARLYS', 'JOHNNA', 'AURA', 'LAVERN', 'IVONNE', 'HAYLEY', 'NICKI', 'MAJORIE', 'HERLINDA', 'GEORGE', 'ALPHA', 'YADIRA', 'PERLA', 'GREGORIA', 'DANIEL', 'ANTONETTE', 'SHELLI', 'MOZELLE', 'MARIAH', 'JOELLE', 'CORDELIA', 'JOSETTE', 'CHIQUITA', 'TRISTA', 'LOUIS', 'LAQUITA', 'GEORGIANA', 'CANDI', 'SHANON', 'LONNIE', 'HILDEGARD', 'CECIL', 'VALENTINA', 'STEPHANY', 'MAGDA', 'KAROL', 'GERRY', 'GABRIELLA', 'TIANA', 'ROMA', 'RICHELLE', 'RAY', 'PRINCESS', 'OLETA', 'JACQUE', 'IDELLA', 'ALAINA', 'SUZANNA', 'JOVITA', 'BLAIR', 'TOSHA', 'RAVEN', 'NEREIDA', 'MARLYN', 'KYLA', 'JOSEPH', 'DELFINA', 'TENA', 'STEPHENIE', 'SABINA', 'NATHALIE', 'MARCELLE', 'GERTIE', 'DARLEEN', 'THEA', 'SHARONDA', 'SHANTEL', 'BELEN', 'VENESSA', 'ROSALINA', 'ONA', 'GENOVEVA', 'COREY', 'CLEMENTINE', 'ROSALBA', 'RENATE', 'RENATA', 'MI', 'IVORY', 'GEORGIANNA', 'FLOY', 'DORCAS', 'ARIANA', 'TYRA', 'THEDA', 'MARIAM', 'JULI', 'JESICA', 'DONNIE', 'VIKKI', 'VERLA', 'ROSELYN', 'MELVINA', 'JANNETTE', 'GINNY', 'DEBRAH', 'CORRIE', 'ASIA', 'VIOLETA', 'MYRTIS', 'LATRICIA', 'COLLETTE', 'CHARLEEN', 'ANISSA', 'VIVIANA', 'TWYLA', 'PRECIOUS', 'NEDRA', 'LATONIA', 'LAN', 'HELLEN', 'FABIOLA', 'ANNAMARIE', 'ADELL', 'SHARYN', 'CHANTAL', 'NIKI', 'MAUD', 'LIZETTE', 'LINDY', 'KIA', 'KESHA', 'JEANA', 'DANELLE', 'CHARLINE', 'CHANEL', 'CARROL', 'VALORIE', 'LIA', 'DORTHA', 'CRISTAL', 'SUNNY', 'LEONE', 'LEILANI', 'GERRI', 'DEBI', 'ANDRA', 'KESHIA', 'IMA', 'EULALIA', 'EASTER', 'DULCE', 'NATIVIDAD', 'LINNIE', 'KAMI', 'GEORGIE', 'CATINA', 'BROOK', 'ALDA', 'WINNIFRED', 'SHARLA', 'RUTHANN', 'MEAGHAN', 'MAGDALENE', 'LISSETTE', 'ADELAIDA', 'VENITA', 'TRENA', 'SHIRLENE', 'SHAMEKA', 'ELIZEBETH', 'DIAN', 'SHANTA', 'MICKEY', 'LATOSHA', 'CARLOTTA', 'WINDY', 'SOON', 'ROSINA', 'MARIANN', 'LEISA', 'JONNIE', 'DAWNA', 'CATHIE', 'BILLY', 'ASTRID', 'SIDNEY', 'LAUREEN', 'JANEEN', 'HOLLI', 'FAWN', 'VICKEY', 'TERESSA', 'SHANTE', 'RUBYE', 'MARCELINA', 'CHANDA', 'CARY', 'TERESE', 'SCARLETT', 'MARTY', 'MARNIE', 'LULU', 'LISETTE', 'JENIFFER', 'ELENOR', 'DORINDA', 'DONITA', 'CARMAN', 'BERNITA', 'ALTAGRACIA', 'ALETA', 'ADRIANNA', 'ZORAIDA', 'RONNIE', 'NICOLA', 'LYNDSEY', 'KENDALL', 'JANINA', 'CHRISSY', 'AMI', 'STARLA', 'PHYLIS', 'PHUONG', 'KYRA', 'CHARISSE', 'BLANCH', 'SANJUANITA', 'RONA', 'NANCI', 'MARILEE', 'MARANDA', 'CORY', 'BRIGETTE', 'SANJUANA', 'MARITA', 'KASSANDRA', 'JOYCELYN', 'IRA', 'FELIPA', 'CHELSIE', 'BONNY', 'MIREYA', 'LORENZA', 'KYONG', 'ILEANA', 'CANDELARIA', 'TONY', 'TOBY', 'SHERIE', 'OK', 'MARK', 'LUCIE', 'LEATRICE', 'LAKESHIA', 'GERDA', 'EDIE', 'BAMBI', 'MARYLIN', 'LAVON', 'HORTENSE', 'GARNET', 'EVIE', 'TRESSA', 'SHAYNA', 'LAVINA', 'KYUNG', 'JEANETTA', 'SHERRILL', 'SHARA', 'PHYLISS', 'MITTIE', 'ANABEL', 'ALESIA', 'THUY', 'TAWANDA', 'RICHARD', 'JOANIE', 'TIFFANIE', 'LASHANDA', 'KARISSA', 'ENRIQUETA', 'DARIA', 'DANIELLA', 'CORINNA', 'ALANNA', 'ABBEY', 'ROXANE', 'ROSEANNA', 'MAGNOLIA', 'LIDA', 'KYLE', 'JOELLEN', 'ERA', 'CORAL', 'CARLEEN', 'TRESA', 'PEGGIE', 'NOVELLA', 'NILA', 'MAYBELLE', 'JENELLE', 'CARINA', 'NOVA', 'MELINA', 'MARQUERITE', 'MARGARETTE', 'JOSEPHINA', 'EVONNE', 'DEVIN', 'CINTHIA', 'ALBINA', 'TOYA', 'TAWNYA', 'SHERITA', 'SANTOS', 'MYRIAM', 'LIZABETH', 'LISE', 'KEELY', 'JENNI', 'GISELLE', 'CHERYLE', 'ARDITH', 'ARDIS', 'ALESHA', 'ADRIANE', 'SHAINA', 'LINNEA', 'KAROLYN', 'HONG', 'FLORIDA', 'FELISHA', 'DORI', 'DARCI', 'ARTIE', 'ARMIDA', 'ZOLA', 'XIOMARA', 'VERGIE', 'SHAMIKA', 'NENA', 'NANNETTE', 'MAXIE', 'LOVIE', 'JEANE', 'JAIMIE', 'INGE', 'FARRAH', 'ELAINA', 'CAITLYN', 'STARR', 'FELICITAS', 'CHERLY', 'CARYL', 'YOLONDA', 'YASMIN', 'TEENA', 'PRUDENCE', 'PENNIE', 'NYDIA', 'MACKENZIE', 'ORPHA', 'MARVEL', 'LIZBETH', 'LAURETTE', 'JERRIE', 'HERMELINDA', 'CAROLEE', 'TIERRA', 'MIRIAN', 'META', 'MELONY', 'KORI', 'JENNETTE', 'JAMILA', 'ENA', 'ANH', 'YOSHIKO', 'SUSANNAH', 'SALINA', 'RHIANNON', 'JOLEEN', 'CRISTINE', 'ASHTON', 'ARACELY', 'TOMEKA', 'SHALONDA', 'MARTI', 'LACIE', 'KALA', 'JADA', 'ILSE', 'HAILEY', 'BRITTANI', 'ZONA', 'SYBLE', 'SHERRYL', 'RANDY', 'NIDIA', 'MARLO', 'KANDICE', 'KANDI', 'DEB', 'DEAN', 'AMERICA', 'ALYCIA', 'TOMMY', 'RONNA', 'NORENE', 'MERCY', 'JOSE', 'INGEBORG', 'GIOVANNA', 'GEMMA', 'CHRISTEL', 'AUDRY', 'ZORA', 'VITA', 'VAN', 'TRISH', 'STEPHAINE', 'SHIRLEE', 'SHANIKA', 'MELONIE', 'MAZIE', 'JAZMIN', 'INGA', 'HOA', 'HETTIE', 'GERALYN', 'FONDA', 'ESTRELLA', 'ADELLA', 'SU', 'SARITA', 'RINA', 'MILISSA', 'MARIBETH', 'GOLDA', 'EVON', 'ETHELYN', 'ENEDINA', 'CHERISE', 'CHANA', 'VELVA', 'TAWANNA', 'SADE', 'MIRTA', 'LI', 'KARIE', 'JACINTA', 'ELNA', 'DAVINA', 'CIERRA', 'ASHLIE', 'ALBERTHA', 'TANESHA', 'STEPHANI', 'NELLE', 'MINDI', 'LU', 'LORINDA', 'LARUE', 'FLORENE', 'DEMETRA', 'DEDRA', 'CIARA', 'CHANTELLE', 'ASHLY', 'SUZY', 'ROSALVA', 'NOELIA', 'LYDA', 'LEATHA', 'KRYSTYNA', 'KRISTAN', 'KARRI', 'DARLINE', 'DARCIE', 'CINDA', 'CHEYENNE', 'CHERRIE', 'AWILDA', 'ALMEDA', 'ROLANDA', 'LANETTE', 'JERILYN', 'GISELE', 'EVALYN', 'CYNDI', 'CLETA', 'CARIN', 'ZINA', 'ZENA', 'VELIA', 'TANIKA', 'PAUL', 'CHARISSA', 'THOMAS', 'TALIA', 'MARGARETE', 'LAVONDA', 'KAYLEE', 'KATHLENE', 'JONNA', 'IRENA', 'ILONA', 'IDALIA', 'CANDIS', 'CANDANCE', 'BRANDEE', 'ANITRA', 'ALIDA', 'SIGRID', 'NICOLETTE', 'MARYJO', 'LINETTE', 'HEDWIG', 'CHRISTIANA', 'CASSIDY', 'ALEXIA', 'TRESSIE', 'MODESTA', 'LUPITA', 'LITA', 'GLADIS', 'EVELIA', 'DAVIDA', 'CHERRI', 'CECILY', 'ASHELY', 'ANNABEL', 'AGUSTINA', 'WANITA', 'SHIRLY', 'ROSAURA', 'HULDA', 'EUN', 'BAILEY', 'YETTA', 'VERONA', 'THOMASINA', 'SIBYL', 'SHANNAN', 'MECHELLE', 'LUE', 'LEANDRA', 'LANI', 'KYLEE', 'KANDY', 'JOLYNN', 'FERNE', 'EBONI', 'CORENE', 'ALYSIA', 'ZULA', 'NADA', 'MOIRA', 'LYNDSAY', 'LORRETTA', 'JUAN', 'JAMMIE', 'HORTENSIA', 'GAYNELL', 'CAMERON', 'ADRIA', 'VINA', 'VICENTA', 'TANGELA', 'STEPHINE', 'NORINE', 'NELLA', 'LIANA', 'LESLEE', 'KIMBERELY', 'ILIANA', 'GLORY', 'FELICA', 'EMOGENE', 'ELFRIEDE', 'EDEN', 'EARTHA', 'CARMA', 'BEA', 'OCIE', 'MARRY', 'LENNIE', 'KIARA', 'JACALYN', 'CARLOTA', 'ARIELLE', 'YU', 'STAR', 'OTILIA', 'KIRSTIN', 'KACEY', 'JOHNETTA', 'JOEY', 'JOETTA', 'JERALDINE', 'JAUNITA', 'ELANA', 'DORTHEA', 'CAMI', 'AMADA', 'ADELIA', 'VERNITA', 'TAMAR', 'SIOBHAN', 'RENEA', 'RASHIDA', 'OUIDA', 'ODELL', 'NILSA', 'MERYL', 'KRISTYN', 'JULIETA', 'DANICA', 'BREANNE', 'AUREA', 'ANGLEA', 'SHERRON', 'ODETTE', 'MALIA', 'LORELEI', 'LIN', 'LEESA', 'KENNA', 'KATHLYN', 'FIONA', 'CHARLETTE', 'SUZIE', 'SHANTELL', 'SABRA', 'RACQUEL', 'MYONG', 'MIRA', 'MARTINE', 'LUCIENNE', 'LAVADA', 'JULIANN', 'JOHNIE', 'ELVERA', 'DELPHIA', 'CLAIR', 'CHRISTIANE', 'CHAROLETTE', 'CARRI', 'AUGUSTINE', 'ASHA', 'ANGELLA', 'PAOLA', 'NINFA', 'LEDA', 'LAI', 'EDA', 'SUNSHINE', 'STEFANI', 'SHANELL', 'PALMA', 'MACHELLE', 'LISSA', 'KECIA', 'KATHRYNE', 'KARLENE', 'JULISSA', 'JETTIE', 'JENNIFFER', 'HUI', 'CORRINA', 'CHRISTOPHER', 'CAROLANN', 'ALENA', 'TESS', 'ROSARIA', 'MYRTICE', 'MARYLEE', 'LIANE', 'KENYATTA', 'JUDIE', 'JANEY', 'IN', 'ELMIRA', 'ELDORA', 'DENNA', 'CRISTI', 'CATHI', 'ZAIDA', 'VONNIE', 'VIVA', 'VERNIE', 'ROSALINE', 'MARIELA', 'LUCIANA', 'LESLI', 'KARAN', 'FELICE', 'DENEEN', 'ADINA', 'WYNONA', 'TARSHA', 'SHERON', 'SHASTA', 'SHANITA', 'SHANI', 'SHANDRA', 'RANDA', 'PINKIE', 'PARIS', 'NELIDA', 'MARILOU', 'LYLA', 'LAURENE', 'LACI', 'JOI', 'JANENE', 'DOROTHA', 'DANIELE', 'DANI', 'CAROLYNN', 'CARLYN', 'BERENICE', 'AYESHA', 'ANNELIESE', 'ALETHEA', 'THERSA', 'TAMIKO', 'RUFINA', 'OLIVA', 'MOZELL', 'MARYLYN', 'MADISON', 'KRISTIAN', 'KATHYRN', 'KASANDRA', 'KANDACE', 'JANAE', 'GABRIEL', 'DOMENICA', 'DEBBRA', 'DANNIELLE', 'CHUN', 'BUFFY', 'BARBIE', 'ARCELIA', 'AJA', 'ZENOBIA', 'SHAREN', 'SHAREE', 'PATRICK', 'PAGE', 'MY', 'LAVINIA', 'KUM', 'KACIE', 'JACKELINE', 'HUONG', 'FELISA', 'EMELIA', 'ELEANORA', 'CYTHIA', 'CRISTIN', 'CLYDE', 'CLARIBEL', 'CARON', 'ANASTACIA', 'ZULMA', 'ZANDRA', 'YOKO', 'TENISHA', 'SUSANN', 'SHERILYN', 'SHAY', 'SHAWANDA', 'SABINE', 'ROMANA', 'MATHILDA', 'LINSEY', 'KEIKO', 'JOANA', 'ISELA', 'GRETTA', 'GEORGETTA', 'EUGENIE', 'DUSTY', 'DESIRAE', 'DELORA', 'CORAZON', 'ANTONINA', 'ANIKA', 'WILLENE', 'TRACEE', 'TAMATHA', 'REGAN', 'NICHELLE', 'MICKIE', 'MAEGAN', 'LUANA', 'LANITA', 'KELSIE', 'EDELMIRA', 'BREE', 'AFTON', 'TEODORA', 'TAMIE', 'SHENA', 'MEG', 'LINH', 'KELI', 'KACI', 'DANYELLE', 'BRITT', 'ARLETTE', 'ALBERTINE', 'ADELLE', 'TIFFINY', 'STORMY', 'SIMONA', 'NUMBERS', 'NICOLASA', 'NICHOL', 'NIA', 'NAKISHA', 'MEE', 'MAIRA', 'LOREEN', 'KIZZY', 'JOHNNY', 'JAY', 'FALLON', 'CHRISTENE', 'BOBBYE', 'ANTHONY', 'YING', 'VINCENZA', 'TANJA', 'RUBIE', 'RONI', 'QUEENIE', 'MARGARETT', 'KIMBERLI', 'IRMGARD', 'IDELL', 'HILMA', 'EVELINA', 'ESTA', 'EMILEE', 'DENNISE', 'DANIA', 'CARL', 'CARIE', 'ANTONIO', 'WAI', 'SANG', 'RISA', 'RIKKI', 'PARTICIA', 'MUI', 'MASAKO', 'MARIO', 'LUVENIA', 'LOREE', 'LONI', 'LIEN', 'KEVIN', 'GIGI', 'FLORENCIA', 'DORIAN', 'DENITA', 'DALLAS', 'CHI', 'BILLYE', 'ALEXANDER', 'TOMIKA', 'SHARITA', 'RANA', 'NIKOLE', 'NEOMA', 'MARGARITE', 'MADALYN', 'LUCINA', 'LAILA', 'KALI', 'JENETTE', 'GABRIELE', 'EVELYNE', 'ELENORA', 'CLEMENTINA', 'ALEJANDRINA', 'ZULEMA', 'VIOLETTE', 'VANNESSA', 'THRESA', 'RETTA', 'PIA', 'PATIENCE', 'NOELLA', 'NICKIE', 'JONELL', 'DELTA', 'CHUNG', 'CHAYA', 'CAMELIA', 'BETHEL', 'ANYA', 'ANDREW', 'THANH', 'SUZANN', 'SPRING', 'SHU', 'MILA', 'LILLA', 'LAVERNA', 'KEESHA', 'KATTIE', 'GIA', 'GEORGENE', 'EVELINE', 'ESTELL', 'ELIZBETH', 'VIVIENNE', 'VALLIE', 'TRUDIE', 'STEPHANE', 'MICHEL', 'MAGALY', 'MADIE', 'KENYETTA', 'KARREN', 'JANETTA', 'HERMINE', 'HARMONY', 'DRUCILLA', 'DEBBI', 'CELESTINA', 'CANDIE', 'BRITNI', 'BECKIE', 'AMINA', 'ZITA', 'YUN', 'YOLANDE', 'VIVIEN', 'VERNETTA', 'TRUDI', 'SOMMER', 'PEARLE', 'PATRINA', 'OSSIE', 'NICOLLE', 'LOYCE', 'LETTY', 'LARISA', 'KATHARINA', 'JOSELYN', 'JONELLE', 'JENELL', 'IESHA', 'HEIDE', 'FLORINDA', 'FLORENTINA', 'FLO', 'ELODIA', 'DORINE', 'BRUNILDA', 'BRIGID', 'ASHLI', 'ARDELLA', 'TWANA', 'THU', 'TARAH', 'SUNG', 'SHEA', 'SHAVON', 'SHANE', 'SERINA', 'RAYNA', 'RAMONITA', 'NGA', 'MARGURITE', 'LUCRECIA', 'KOURTNEY', 'KATI', 'JESUS', 'JESENIA', 'DIAMOND', 'CRISTA', 'AYANA', 'ALICA', 'ALIA', 'VINNIE', 'SUELLEN', 'ROMELIA', 'RACHELL', 'PIPER', 'OLYMPIA', 'MICHIKO', 'KATHALEEN', 'JOLIE', 'JESSI', 'JANESSA', 'HANA', 'HA', 'ELEASE', 'CARLETTA', 'BRITANY', 'SHONA', 'SALOME', 'ROSAMOND', 'REGENA', 'RAINA', 'NGOC', 'NELIA', 'LOUVENIA', 'LESIA', 'LATRINA', 'LATICIA', 'LARHONDA', 'JINA', 'JACKI', 'HOLLIS', 'HOLLEY', 'EMMY', 'DEEANN', 'CORETTA', 'ARNETTA', 'VELVET', 'THALIA', 'SHANICE', 'NETA', 'MIKKI', 'MICKI', 'LONNA', 'LEANA', 'LASHUNDA', 'KILEY', 'JOYE', 'JACQULYN', 'IGNACIA', 'HYUN', 'HIROKO', 'HENRY', 'HENRIETTE', 'ELAYNE', 'DELINDA', 'DARNELL', 'DAHLIA', 'COREEN', 'CONSUELA', 'CONCHITA', 'CELINE', 'BABETTE', 'AYANNA', 'ANETTE', 'ALBERTINA', 'SKYE', 'SHAWNEE', 'SHANEKA', 'QUIANA', 'PAMELIA', 'MIN', 'MERRI', 'MERLENE', 'MARGIT', 'KIESHA', 'KIERA', 'KAYLENE', 'JODEE', 'JENISE', 'ERLENE', 'EMMIE', 'ELSE', 'DARYL', 'DALILA', 'DAISEY', 'CODY', 'CASIE', 'BELIA', 'BABARA', 'VERSIE', 'VANESA', 'SHELBA', 'SHAWNDA', 'SAM', 'NORMAN', 'NIKIA', 'NAOMA', 'MARNA', 'MARGERET', 'MADALINE', 'LAWANA', 'KINDRA', 'JUTTA', 'JAZMINE', 'JANETT', 'HANNELORE', 'GLENDORA', 'GERTRUD', 'GARNETT', 'FREEDA', 'FREDERICA', 'FLORANCE', 'FLAVIA', 'DENNIS', 'CARLINE', 'BEVERLEE', 'ANJANETTE', 'VALDA', 'TRINITY', 'TAMALA', 'STEVIE', 'SHONNA', 'SHA', 'SARINA', 'ONEIDA', 'MICAH', 'MERILYN', 'MARLEEN', 'LURLINE', 'LENNA', 'KATHERIN', 'JIN', 'JENI', 'HAE', 'GRACIA', 'GLADY', 'FARAH', 'ERIC', 'ENOLA', 'EMA', 'DOMINQUE', 'DEVONA', 'DELANA', 'CECILA', 'CAPRICE', 'ALYSHA', 'ALI', 'ALETHIA', 'VENA', 'THERESIA', 'TAWNY', 'SONG', 'SHAKIRA', 'SAMARA', 'SACHIKO', 'RACHELE', 'PAMELLA', 'NICKY', 'MARNI', 'MARIEL', 'MAREN', 'MALISA', 'LIGIA', 'LERA', 'LATORIA', 'LARAE', 'KIMBER', 'KATHERN', 'KAREY', 'JENNEFER', 'JANETH', 'HALINA', 'FREDIA', 'DELISA', 'DEBROAH', 'CIERA', 'CHIN', 'ANGELIKA', 'ANDREE', 'ALTHA', 'YEN', 'VIVAN', 'TERRESA', 'TANNA', 'SUK', 'SUDIE', 'SOO', 'SIGNE', 'SALENA', 'RONNI', 'REBBECCA', 'MYRTIE', 'MCKENZIE', 'MALIKA', 'MAIDA', 'LOAN', 'LEONARDA', 'KAYLEIGH', 'FRANCE', 'ETHYL', 'ELLYN', 'DAYLE', 'CAMMIE', 'BRITTNI', 'BIRGIT', 'AVELINA', 'ASUNCION', 'ARIANNA', 'AKIKO', 'VENICE', 'TYESHA', 'TONIE', 'TIESHA', 'TAKISHA', 'STEFFANIE', 'SINDY', 'SANTANA', 'MEGHANN', 'MANDA', 'MACIE', 'LADY', 'KELLYE', 'KELLEE', 'JOSLYN', 'JASON', 'INGER', 'INDIRA', 'GLINDA', 'GLENNIS', 'FERNANDA', 'FAUSTINA', 'ENEIDA', 'ELICIA', 'DOT', 'DIGNA', 'DELL', 'ARLETTA', 'ANDRE', 'WILLIA', 'TAMMARA', 'TABETHA', 'SHERRELL', 'SARI', 'REFUGIO', 'REBBECA', 'PAULETTA', 'NIEVES', 'NATOSHA', 'NAKITA', 'MAMMIE', 'KENISHA', 'KAZUKO', 'KASSIE', 'GARY', 'EARLEAN', 'DAPHINE', 'CORLISS', 'CLOTILDE', 'CAROLYNE', 'BERNETTA', 'AUGUSTINA', 'AUDREA', 'ANNIS', 'ANNABELL', 'YAN', 'TENNILLE', 'TAMICA', 'SELENE', 'SEAN', 'ROSANA', 'REGENIA', 'QIANA', 'MARKITA', 'MACY', 'LEEANNE', 'LAURINE', 'KYM', 'JESSENIA', 'JANITA', 'GEORGINE', 'GENIE', 'EMIKO', 'ELVIE', 'DEANDRA', 'DAGMAR', 'CORIE', 'COLLEN', 'CHERISH', 'ROMAINE', 'PORSHA', 'PEARLENE', 'MICHELINE', 'MERNA', 'MARGORIE', 'MARGARETTA', 'LORE', 'KENNETH', 'JENINE', 'HERMINA', 'FREDERICKA', 'ELKE', 'DRUSILLA', 'DORATHY', 'DIONE', 'DESIRE', 'CELENA', 'BRIGIDA', 'ANGELES', 'ALLEGRA', 'THEO', 'TAMEKIA', 'SYNTHIA', 'STEPHEN', 'SOOK', 'SLYVIA', 'ROSANN', 'REATHA', 'RAYE', 'MARQUETTA', 'MARGART', 'LING', 'LAYLA', 'KYMBERLY', 'KIANA', 'KAYLEEN', 'KATLYN', 'KARMEN', 'JOELLA', 'IRINA', 'EMELDA', 'ELENI', 'DETRA', 'CLEMMIE', 'CHERYLL', 'CHANTELL', 'CATHEY', 'ARNITA', 'ARLA', 'ANGLE', 'ANGELIC', 'ALYSE', 'ZOFIA', 'THOMASINE', 'TENNIE', 'SON', 'SHERLY', 'SHERLEY', 'SHARYL', 'REMEDIOS', 'PETRINA', 'NICKOLE', 'MYUNG', 'MYRLE', 'MOZELLA', 'LOUANNE', 'LISHA', 'LATIA', 'LANE', 'KRYSTA', 'JULIENNE', 'JOEL', 'JEANENE', 'JACQUALINE', 'ISAURA', 'GWENDA', 'EARLEEN', 'DONALD', 'CLEOPATRA', 'CARLIE', 'AUDIE', 'ANTONIETTA', 'ALISE', 'ALEX', 'VERDELL', 'VAL', 'TYLER', 'TOMOKO', 'THAO', 'TALISHA', 'STEVEN', 'SO', 'SHEMIKA', 'SHAUN', 'SCARLET', 'SAVANNA', 'SANTINA', 'ROSIA', 'RAEANN', 'ODILIA', 'NANA', 'MINNA', 'MAGAN', 'LYNELLE', 'LE', 'KARMA', 'JOEANN', 'IVANA', 'INELL', 'ILANA', 'HYE', 'HONEY', 'HEE', 'GUDRUN', 'FRANK', 'DREAMA', 'CRISSY', 'CHANTE', 'CARMELINA', 'ARVILLA', 'ARTHUR', 'ANNAMAE', 'ALVERA', 'ALEIDA', 'AARON', 'YEE', 'YANIRA', 'VANDA', 'TIANNA', 'TAM', 'STEFANIA', 'SHIRA', 'PERRY', 'NICOL', 'NANCIE', 'MONSERRATE', 'MINH', 'MELYNDA', 'MELANY', 'MATTHEW', 'LOVELLA', 'LAURE', 'KIRBY', 'KACY', 'JACQUELYNN', 'HYON', 'GERTHA', 'FRANCISCO', 'ELIANA', 'CHRISTENA', 'CHRISTEEN', 'CHARISE', 'CATERINA', 'CARLEY', 'CANDYCE', 'ARLENA', 'AMMIE', 'YANG', 'WILLETTE', 'VANITA', 'TUYET', 'TINY', 'SYREETA', 'SILVA', 'SCOTT', 'RONALD', 'PENNEY', 'NYLA', 'MICHAL', 'MAURICE', 'MARYAM', 'MARYA', 'MAGEN', 'LUDIE', 'LOMA', 'LIVIA', 'LANELL', 'KIMBERLIE', 'JULEE', 'DONETTA', 'DIEDRA', 'DENISHA', 'DEANE', 'DAWNE', 'CLARINE', 'CHERRYL', 'BRONWYN', 'BRANDON', 'ALLA', 'VALERY', 'TONDA', 'SUEANN', 'SORAYA', 'SHOSHANA', 'SHELA', 'SHARLEEN', 'SHANELLE', 'NERISSA', 'MICHEAL', 'MERIDITH', 'MELLIE', 'MAYE', 'MAPLE', 'MAGARET', 'LUIS', 'LILI', 'LEONILA', 'LEONIE', 'LEEANNA', 'LAVONIA', 'LAVERA', 'KRISTEL', 'KATHEY', 'KATHE', 'JUSTIN', 'JULIAN', 'JIMMY', 'JANN', 'ILDA', 'HILDRED', 'HILDEGARDE', 'GENIA', 'FUMIKO', 'EVELIN', 'ERMELINDA', 'ELLY', 'DUNG', 'DOLORIS', 'DIONNA', 'DANAE', 'BERNEICE', 'ANNICE', 'ALIX', 'VERENA', 'VERDIE', 'TRISTAN', 'SHAWNNA', 'SHAWANA', 'SHAUNNA', 'ROZELLA', 'RANDEE', 'RANAE', 'MILAGRO', 'LYNELL', 'LUISE', 'LOUIE', 'LOIDA', 'LISBETH', 'KARLEEN', 'JUNITA', 'JONA', 'ISIS', 'HYACINTH', 'HEDY', 'GWENN', 'ETHELENE', 'ERLINE', 'EDWARD', 'DONYA', 'DOMONIQUE', 'DELICIA', 'DANNETTE', 'CICELY', 'BRANDA', 'BLYTHE', 'BETHANN', 'ASHLYN', 'ANNALEE', 'ALLINE', 'YUKO', 'VELLA', 'TRANG', 'TOWANDA', 'TESHA', 'SHERLYN', 'NARCISA', 'MIGUELINA', 'MERI', 'MAYBELL', 'MARLANA', 'MARGUERITA', 'MADLYN', 'LUNA', 'LORY', 'LORIANN', 'LIBERTY', 'LEONORE', 'LEIGHANN', 'LAURICE', 'LATESHA', 'LARONDA', 'KATRICE', 'KASIE', 'KARL', 'KALEY', 'JADWIGA', 'GLENNIE', 'GEARLDINE', 'FRANCINA', 'EPIFANIA', 'DYAN', 'DORIE', 'DIEDRE', 'DENESE', 'DEMETRICE', 'DELENA', 'DARBY', 'CRISTIE', 'CLEORA', 'CATARINA', 'CARISA', 'BERNIE', 'BARBERA', 'ALMETA', 'TRULA', 'TEREASA', 'SOLANGE', 'SHEILAH', 'SHAVONNE', 'SANORA', 'ROCHELL', 'MATHILDE', 'MARGARETA', 'MAIA', 'LYNSEY', 'LAWANNA', 'LAUNA', 'KENA', 'KEENA', 'KATIA', 'JAMEY', 'GLYNDA', 'GAYLENE', 'ELVINA', 'ELANOR', 'DANUTA', 'DANIKA', 'CRISTEN', 'CORDIE', 'COLETTA', 'CLARITA', 'CARMON', 'BRYNN', 'AZUCENA', 'AUNDREA', 'ANGELE', 'YI', 'WALTER', 'VERLIE', 'VERLENE', 'TAMESHA', 'SILVANA', 'SEBRINA', 'SAMIRA', 'REDA', 'RAYLENE', 'PENNI', 'PANDORA', 'NORAH', 'NOMA', 'MIREILLE', 'MELISSIA', 'MARYALICE', 'LARAINE', 'KIMBERY', 'KARYL', 'KARINE', 'KAM', 'JOLANDA', 'JOHANA', 'JESUSA', 'JALEESA', 'JAE', 'JACQUELYNE', 'IRISH', 'ILUMINADA', 'HILARIA', 'HANH', 'GENNIE', 'FRANCIE', 'FLORETTA', 'EXIE', 'EDDA', 'DREMA', 'DELPHA', 'BEV', 'BARBAR', 'ASSUNTA', 'ARDELL', 'ANNALISA', 'ALISIA', 'YUKIKO', 'YOLANDO', 'WONDA', 'WEI', 'WALTRAUD', 'VETA', 'TEQUILA', 'TEMEKA', 'TAMEIKA', 'SHIRLEEN', 'SHENITA', 'PIEDAD', 'OZELLA', 'MIRTHA', 'MARILU', 'KIMIKO', 'JULIANE', 'JENICE', 'JEN', 'JANAY', 'JACQUILINE', 'HILDE', 'FE', 'FAE', 'EVAN', 'EUGENE', 'ELOIS', 'ECHO', 'DEVORAH', 'CHAU', 'BRINDA', 'BETSEY', 'ARMINDA', 'ARACELIS', 'APRYL', 'ANNETT', 'ALISHIA', 'VEOLA', 'USHA', 'TOSHIKO', 'THEOLA', 'TASHIA', 'TALITHA', 'SHERY', 'RUDY', 'RENETTA', 'REIKO', 'RASHEEDA', 'OMEGA', 'OBDULIA', 'MIKA', 'MELAINE', 'MEGGAN', 'MARTIN', 'MARLEN', 'MARGET', 'MARCELINE', 'MANA', 'MAGDALEN', 'LIBRADA', 'LEZLIE', 'LEXIE', 'LATASHIA', 'LASANDRA', 'KELLE', 'ISIDRA', 'ISA', 'INOCENCIA', 'GWYN', 'FRANCOISE', 'ERMINIA', 'ERINN', 'DIMPLE', 'DEVORA', 'CRISELDA', 'ARMANDA', 'ARIE', 'ARIANE', 'ANGELO', 'ANGELENA', 'ALLEN', 'ALIZA', 'ADRIENE', 'ADALINE', 'XOCHITL', 'TWANNA', 'TRAN', 'TOMIKO', 'TAMISHA', 'TAISHA', 'SUSY', 'SIU', 'RUTHA', 'ROXY', 'RHONA', 'RAYMOND', 'OTHA', 'NORIKO', 'NATASHIA', 'MERRIE', 'MELVIN', 'MARINDA', 'MARIKO', 'MARGERT', 'LORIS', 'LIZZETTE', 'LEISHA', 'KAILA', 'KA', 'JOANNIE', 'JERRICA', 'JENE', 'JANNET', 'JANEE', 'JACINDA', 'HERTA', 'ELENORE', 'DORETTA', 'DELAINE', 'DANIELL', 'CLAUDIE', 'CHINA', 'BRITTA', 'APOLONIA', 'AMBERLY', 'ALEASE', 'YURI', 'YUK', 'WEN', 'WANETA', 'UTE', 'TOMI', 'SHARRI', 'SANDIE', 'ROSELLE', 'REYNALDA', 'RAGUEL', 'PHYLICIA', 'PATRIA', 'OLIMPIA', 'ODELIA', 'MITZIE', 'MITCHELL', 'MISS', 'MINDA', 'MIGNON', 'MICA', 'MENDY', 'MARIVEL', 'MAILE', 'LYNETTA', 'LAVETTE', 'LAURYN', 'LATRISHA', 'LAKIESHA', 'KIERSTEN', 'KARY', 'JOSPHINE', 'JOLYN', 'JETTA', 'JANISE', 'JACQUIE', 'IVELISSE', 'GLYNIS', 'GIANNA', 'GAYNELLE', 'EMERALD', 'DEMETRIUS', 'DANYELL', 'DANILLE', 'DACIA', 'CORALEE', 'CHER', 'CEOLA', 'BRETT', 'BELL', 'ARIANNE', 'ALESHIA', 'YUNG', 'WILLIEMAE', 'TROY', 'TRINH', 'THORA', 'TAI', 'SVETLANA', 'SHERIKA', 'SHEMEKA', 'SHAUNDA', 'ROSELINE', 'RICKI', 'MELDA', 'MALLIE', 'LAVONNA', 'LATINA', 'LARRY', 'LAQUANDA', 'LALA', 'LACHELLE', 'KLARA', 'KANDIS', 'JOHNA', 'JEANMARIE', 'JAYE', 'HANG', 'GRAYCE', 'GERTUDE', 'EMERITA', 'EBONIE', 'CLORINDA', 'CHING', 'CHERY', 'CAROLA', 'BREANN', 'BLOSSOM', 'BERNARDINE', 'BECKI', 'ARLETHA', 'ARGELIA', 'ARA', 'ALITA', 'YULANDA', 'YON', 'YESSENIA', 'TOBI', 'TASIA', 'SYLVIE', 'SHIRL', 'SHIRELY', 'SHERIDAN', 'SHELLA', 'SHANTELLE', 'SACHA', 'ROYCE', 'REBECKA', 'REAGAN', 'PROVIDENCIA', 'PAULENE', 'MISHA', 'MIKI', 'MARLINE', 'MARICA', 'LORITA', 'LATOYIA', 'LASONYA', 'KERSTIN', 'KENDA', 'KEITHA', 'KATHRIN', 'JAYMIE', 'JACK', 'GRICELDA', 'GINETTE', 'ERYN', 'ELINA', 'ELFRIEDA', 'DANYEL', 'CHEREE', 'CHANELLE', 'BARRIE', 'AVERY', 'AURORE', 'ANNAMARIA', 'ALLEEN', 'AILENE', 'AIDE', 'YASMINE', 'VASHTI', 'VALENTINE', 'TREASA', 'TORY', 'TIFFANEY', 'SHERYLL', 'SHARIE', 'SHANAE', 'SAU', 'RAISA', 'PA', 'NEDA', 'MITSUKO', 'MIRELLA', 'MILDA', 'MARYANNA', 'MARAGRET', 'MABELLE', 'LUETTA', 'LORINA', 'LETISHA', 'LATARSHA', 'LANELLE', 'LAJUANA', 'KRISSY', 'KARLY', 'KARENA', 'JON', 'JESSIKA', 'JERICA', 'JEANELLE', 'JANUARY', 'JALISA', 'JACELYN', 'IZOLA', 'IVEY', 'GREGORY', 'EUNA', 'ETHA', 'DREW', 'DOMITILA', 'DOMINICA', 'DAINA', 'CREOLA', 'CARLI', 'CAMIE', 'BUNNY', 'BRITTNY', 'ASHANTI', 'ANISHA', 'ALEEN', 'ADAH', 'YASUKO', 'WINTER', 'VIKI', 'VALRIE', 'TONA', 'TINISHA', 'THI', 'TERISA', 'TATUM', 'TANEKA', 'SIMONNE', 'SHALANDA', 'SERITA', 'RESSIE', 'REFUGIA', 'PAZ', 'OLENE', 'NA', 'MERRILL', 'MARGHERITA', 'MANDIE', 'MAN', 'MAIRE', 'LYNDIA', 'LUCI', 'LORRIANE', 'LORETA', 'LEONIA', 'LAVONA', 'LASHAWNDA', 'LAKIA', 'KYOKO', 'KRYSTINA', 'KRYSTEN', 'KENIA', 'KELSI', 'JUDE', 'JEANICE', 'ISOBEL', 'GEORGIANN', 'GENNY', 'FELICIDAD', 'EILENE', 'DEON', 'DELOISE', 'DEEDEE', 'DANNIE', 'CONCEPTION', 'CLORA', 'CHERILYN', 'CHANG', 'CALANDRA', 'BERRY', 'ARMANDINA', 'ANISA', 'ULA', 'TIMOTHY', 'TIERA', 'THERESSA', 'STEPHANIA', 'SIMA', 'SHYLA', 'SHONTA', 'SHERA', 'SHAQUITA', 'SHALA', 'SAMMY', 'ROSSANA', 'NOHEMI', 'NERY', 'MORIAH', 'MELITA', 'MELIDA', 'MELANI', 'MARYLYNN', 'MARISHA', 'MARIETTE', 'MALORIE', 'MADELENE', 'LUDIVINA', 'LORIA', 'LORETTE', 'LORALEE', 'LIANNE', 'LEON', 'LAVENIA', 'LAURINDA', 'LASHON', 'KIT', 'KIMI', 'KEILA', 'KATELYNN', 'KAI', 'JONE', 'JOANE', 'JI', 'JAYNA', 'JANELLA', 'JA', 'HUE', 'HERTHA', 'FRANCENE', 'ELINORE', 'DESPINA', 'DELSIE', 'DEEDRA', 'CLEMENCIA', 'CARRY', 'CAROLIN', 'CARLOS', 'BULAH', 'BRITTANIE', 'BOK', 'BLONDELL', 'BIBI', 'BEAULAH', 'BEATA', 'ANNITA', 'AGRIPINA', 'VIRGEN', 'VALENE', 'UN', 'TWANDA', 'TOMMYE', 'TOI', 'TARRA', 'TARI', 'TAMMERA', 'SHAKIA', 'SADYE', 'RUTHANNE', 'ROCHEL', 'RIVKA', 'PURA', 'NENITA', 'NATISHA', 'MING', 'MERRILEE', 'MELODEE', 'MARVIS', 'LUCILLA', 'LEENA', 'LAVETA', 'LARITA', 'LANIE', 'KEREN', 'ILEEN', 'GEORGEANN', 'GENNA', 'GENESIS', 'FRIDA', 'EWA', 'EUFEMIA', 'EMELY', 'ELA', 'EDYTH', 'DEONNA', 'DEADRA', 'DARLENA', 'CHANELL', 'CHAN', 'CATHERN', 'CASSONDRA', 'CASSAUNDRA', 'BERNARDA', 'BERNA', 'ARLINDA', 'ANAMARIA', 'ALBERT', 'WESLEY', 'VERTIE', 'VALERI', 'TORRI', 'TATYANA', 'STASIA', 'SHERISE', 'SHERILL', 'SEASON', 'SCOTTIE', 'SANDA', 'RUTHE', 'ROSY', 'ROBERTO', 'ROBBI', 'RANEE', 'QUYEN', 'PEARLY', 'PALMIRA', 'ONITA', 'NISHA', 'NIESHA', 'NIDA', 'NEVADA', 'NAM', 'MERLYN', 'MAYOLA', 'MARYLOUISE', 'MARYLAND', 'MARX', 'MARTH', 'MARGENE', 'MADELAINE', 'LONDA', 'LEONTINE', 'LEOMA', 'LEIA', 'LAWRENCE', 'LAURALEE', 'LANORA', 'LAKITA', 'KIYOKO', 'KETURAH', 'KATELIN', 'KAREEN', 'JONIE', 'JOHNETTE', 'JENEE', 'JEANETT', 'IZETTA', 'HIEDI', 'HEIKE', 'HASSIE', 'HAROLD', 'GIUSEPPINA', 'GEORGANN', 'FIDELA', 'FERNANDE', 'ELWANDA', 'ELLAMAE', 'ELIZ', 'DUSTI', 'DOTTY', 'CYNDY', 'CORALIE', 'CELESTA', 'ARGENTINA', 'ALVERTA', 'XENIA', 'WAVA', 'VANETTA', 'TORRIE', 'TASHINA', 'TANDY', 'TAMBRA', 'TAMA', 'STEPANIE', 'SHILA', 'SHAUNTA', 'SHARAN', 'SHANIQUA', 'SHAE', 'SETSUKO', 'SERAFINA', 'SANDEE', 'ROSAMARIA', 'PRISCILA', 'OLINDA', 'NADENE', 'MUOI', 'MICHELINA', 'MERCEDEZ', 'MARYROSE', 'MARIN', 'MARCENE', 'MAO', 'MAGALI', 'MAFALDA', 'LOGAN', 'LINN', 'LANNIE', 'KAYCE', 'KAROLINE', 'KAMILAH', 'KAMALA', 'JUSTA', 'JOLINE', 'JENNINE', 'JACQUETTA', 'IRAIDA', 'GERALD', 'GEORGEANNA', 'FRANCHESCA', 'FAIRY', 'EMELINE', 'ELANE', 'EHTEL', 'EARLIE', 'DULCIE', 'DALENE', 'CRIS', 'CLASSIE', 'CHERE', 'CHARIS', 'CAROYLN', 'CARMINA', 'CARITA', 'BRIAN', 'BETHANIE', 'AYAKO', 'ARICA', 'AN', 'ALYSA', 'ALESSANDRA', 'AKILAH', 'ADRIEN', 'ZETTA', 'YOULANDA', 'YELENA', 'YAHAIRA', 'XUAN', 'WENDOLYN', 'VICTOR', 'TIJUANA', 'TERRELL', 'TERINA', 'TERESIA', 'SUZI', 'SUNDAY', 'SHERELL', 'SHAVONDA', 'SHAUNTE', 'SHARDA', 'SHAKITA', 'SENA', 'RYANN', 'RUBI', 'RIVA', 'REGINIA', 'REA', 'RACHAL', 'PARTHENIA', 'PAMULA', 'MONNIE', 'MONET', 'MICHAELE', 'MELIA', 'MARINE', 'MALKA', 'MAISHA', 'LISANDRA', 'LEO', 'LEKISHA', 'LEAN', 'LAURENCE', 'LAKENDRA', 'KRYSTIN', 'KORTNEY', 'KIZZIE', 'KITTIE', 'KERA', 'KENDAL', 'KEMBERLY', 'KANISHA', 'JULENE', 'JULE', 'JOSHUA', 'JOHANNE', 'JEFFREY', 'JAMEE', 'HAN', 'HALLEY', 'GIDGET', 'GALINA', 'FREDRICKA', 'FLETA', 'FATIMAH', 'EUSEBIA', 'ELZA', 'ELEONORE', 'DORTHEY', 'DORIA', 'DONELLA', 'DINORAH', 'DELORSE', 'CLARETHA', 'CHRISTINIA', 'CHARLYN', 'BONG', 'BELKIS', 'AZZIE', 'ANDERA', 'AIKO', 'ADENA', 'YER', 'YAJAIRA', 'WAN', 'VANIA', 'ULRIKE', 'TOSHIA', 'TIFANY', 'STEFANY', 'SHIZUE', 'SHENIKA', 'SHAWANNA', 'SHAROLYN', 'SHARILYN', 'SHAQUANA', 'SHANTAY', 'SEE', 'ROZANNE', 'ROSELEE', 'RICKIE', 'REMONA', 'REANNA', 'RAELENE', 'QUINN', 'PHUNG', 'PETRONILA', 'NATACHA', 'NANCEY', 'MYRL', 'MIYOKO', 'MIESHA', 'MERIDETH', 'MARVELLA', 'MARQUITTA', 'MARHTA', 'MARCHELLE', 'LIZETH', 'LIBBIE', 'LAHOMA', 'LADAWN', 'KINA', 'KATHELEEN', 'KATHARYN', 'KARISA', 'KALEIGH', 'JUNIE', 'JULIEANN', 'JOHNSIE', 'JANEAN', 'JAIMEE', 'JACKQUELINE', 'HISAKO', 'HERMA', 'HELAINE', 'GWYNETH', 'GLENN', 'GITA', 'EUSTOLIA', 'EMELINA', 'ELIN', 'EDRIS', 'DONNETTE', 'DONNETTA', 'DIERDRE', 'DENAE', 'DARCEL', 'CLAUDE', 'CLARISA', 'CINDERELLA', 'CHIA', 'CHARLESETTA', 'CHARITA', 'CELSA', 'CASSY', 'CASSI', 'CARLEE', 'BRUNA', 'BRITTANEY', 'BRANDE', 'BILLI', 'BAO', 'ANTONETTA', 'ANGLA', 'ANGELYN', 'ANALISA', 'ALANE', 'WENONA', 'WENDIE', 'VERONIQUE', 'VANNESA', 'TOBIE', 'TEMPIE', 'SUMIKO', 'SULEMA', 'SPARKLE', 'SOMER', 'SHEBA', 'SHAYNE', 'SHARICE', 'SHANEL', 'SHALON', 'SAGE', 'ROY', 'ROSIO', 'ROSELIA', 'RENAY', 'REMA', 'REENA', 'PORSCHE', 'PING', 'PEG', 'OZIE', 'ORETHA', 'ORALEE', 'ODA', 'NU', 'NGAN', 'NAKESHA', 'MILLY', 'MARYBELLE', 'MARLIN', 'MARIS', 'MARGRETT', 'MARAGARET', 'MANIE', 'LURLENE', 'LILLIA', 'LIESELOTTE', 'LAVELLE', 'LASHAUNDA', 'LAKEESHA', 'KEITH', 'KAYCEE', 'KALYN', 'JOYA', 'JOETTE', 'JENAE', 'JANIECE', 'ILLA', 'GRISEL', 'GLAYDS', 'GENEVIE', 'GALA', 'FREDDA', 'FRED', 'ELMER', 'ELEONOR', 'DEBERA', 'DEANDREA', 'DAN', 'CORRINNE', 'CORDIA', 'CONTESSA', 'COLENE', 'CLEOTILDE', 'CHARLOTT', 'CHANTAY', 'CECILLE', 'BEATRIS', 'AZALEE', 'ARLEAN', 'ARDATH', 'ANJELICA', 'ANJA', 'ALFREDIA', 'ALEISHA', 'ADAM', 'ZADA', 'YUONNE', 'XIAO', 'WILLODEAN', 'WHITLEY', 'VENNIE', 'VANNA', 'TYISHA', 'TOVA', 'TORIE', 'TONISHA', 'TILDA', 'TIEN', 'TEMPLE', 'SIRENA', 'SHERRIL', 'SHANTI', 'SHAN', 'SENAIDA', 'SAMELLA', 'ROBBYN', 'RENDA', 'REITA', 'PHEBE', 'PAULITA', 'NOBUKO', 'NGUYET', 'NEOMI', 'MOON', 'MIKAELA', 'MELANIA', 'MAXIMINA', 'MARG', 'MAISIE', 'LYNNA', 'LILLI', 'LAYNE', 'LASHAUN', 'LAKENYA', 'LAEL', 'KIRSTIE', 'KATHLINE', 'KASHA', 'KARLYN', 'KARIMA', 'JOVAN', 'JOSEFINE', 'JENNELL', 'JACQUI', 'JACKELYN', 'HYO', 'HIEN', 'GRAZYNA', 'FLORRIE', 'FLORIA', 'ELEONORA', 'DWANA', 'DORLA', 'DONG', 'DELMY', 'DEJA', 'DEDE', 'DANN', 'CRYSTA', 'CLELIA', 'CLARIS', 'CLARENCE', 'CHIEKO', 'CHERLYN', 'CHERELLE', 'CHARMAIN', 'CHARA', 'CAMMY', 'BEE', 'ARNETTE', 'ARDELLE', 'ANNIKA', 'AMIEE', 'AMEE', 'ALLENA', 'YVONE', 'YUKI', 'YOSHIE', 'YEVETTE', 'YAEL', 'WILLETTA', 'VONCILE', 'VENETTA', 'TULA', 'TONETTE', 'TIMIKA', 'TEMIKA', 'TELMA', 'TEISHA', 'TAREN', 'TA', 'STACEE', 'SHIN', 'SHAWNTA', 'SATURNINA', 'RICARDA', 'POK', 'PASTY', 'ONIE', 'NUBIA', 'MORA', 'MIKE', 'MARIELLE', 'MARIELLA', 'MARIANELA', 'MARDELL', 'MANY', 'LUANNA', 'LOISE', 'LISABETH', 'LINDSY', 'LILLIANA', 'LILLIAM', 'LELAH', 'LEIGHA', 'LEANORA', 'LANG', 'KRISTEEN', 'KHALILAH', 'KEELEY', 'KANDRA', 'JUNKO', 'JOAQUINA', 'JERLENE', 'JANI', 'JAMIKA', 'JAME', 'HSIU', 'HERMILA', 'GOLDEN', 'GENEVIVE', 'EVIA', 'EUGENA', 'EMMALINE', 'ELFREDA', 'ELENE', 'DONETTE', 'DELCIE', 'DEEANNA', 'DARCEY', 'CUC', 'CLARINDA', 'CIRA', 'CHAE', 'CELINDA', 'CATHERYN', 'CATHERIN', 'CASIMIRA', 'CARMELIA', 'CAMELLIA', 'BREANA', 'BOBETTE', 'BERNARDINA', 'BEBE', 'BASILIA', 'ARLYNE', 'AMAL', 'ALAYNA', 'ZONIA', 'ZENIA', 'YURIKO', 'YAEKO', 'WYNELL', 'WILLOW', 'WILLENA', 'VERNIA', 'TU', 'TRAVIS', 'TORA', 'TERRILYN', 'TERICA', 'TENESHA', 'TAWNA', 'TAJUANA', 'TAINA', 'STEPHNIE', 'SONA', 'SOL', 'SINA', 'SHONDRA', 'SHIZUKO', 'SHERLENE', 'SHERICE', 'SHARIKA', 'ROSSIE', 'ROSENA', 'RORY', 'RIMA', 'RIA', 'RHEBA', 'RENNA', 'PETER', 'NATALYA', 'NANCEE', 'MELODI', 'MEDA', 'MAXIMA', 'MATHA', 'MARKETTA', 'MARICRUZ', 'MARCELENE', 'MALVINA', 'LUBA', 'LOUETTA', 'LEIDA', 'LECIA', 'LAURAN', 'LASHAWNA', 'LAINE', 'KHADIJAH', 'KATERINE', 'KASI', 'KALLIE', 'JULIETTA', 'JESUSITA', 'JESTINE', 'JESSIA', 'JEREMY', 'JEFFIE', 'JANYCE', 'ISADORA', 'GEORGIANNE', 'FIDELIA', 'EVITA', 'EURA', 'EULAH', 'ESTEFANA', 'ELSY', 'ELIZABET', 'ELADIA', 'DODIE', 'DION', 'DIA', 'DENISSE', 'DELORAS', 'DELILA', 'DAYSI', 'DAKOTA', 'CURTIS', 'CRYSTLE', 'CONCHA', 'COLBY', 'CLARETTA', 'CHU', 'CHRISTIA', 'CHARLSIE', 'CHARLENA', 'CARYLON', 'BETTYANN', 'ASLEY', 'ASHLEA', 'AMIRA', 'AI', 'AGUEDA', 'AGNUS', 'YUETTE', 'VINITA', 'VICTORINA', 'TYNISHA', 'TREENA', 'TOCCARA', 'TISH', 'THOMASENA', 'TEGAN', 'SOILA', 'SHILOH', 'SHENNA', 'SHARMAINE', 'SHANTAE', 'SHANDI', 'SEPTEMBER', 'SARAN', 'SARAI', 'SANA', 'SAMUEL', 'SALLEY', 'ROSETTE', 'ROLANDE', 'REGINE', 'OTELIA', 'OSCAR', 'OLEVIA', 'NICHOLLE', 'NECOLE', 'NAIDA', 'MYRTA', 'MYESHA', 'MITSUE', 'MINTA', 'MERTIE', 'MARGY', 'MAHALIA', 'MADALENE', 'LOVE', 'LOURA', 'LOREAN', 'LEWIS', 'LESHA', 'LEONIDA', 'LENITA', 'LAVONE', 'LASHELL', 'LASHANDRA', 'LAMONICA', 'KIMBRA', 'KATHERINA', 'KARRY', 'KANESHA', 'JULIO', 'JONG', 'JENEVA', 'JAQUELYN', 'HWA', 'GILMA', 'GHISLAINE', 'GERTRUDIS', 'FRANSISCA', 'FERMINA', 'ETTIE', 'ETSUKO', 'ELLIS', 'ELLAN', 'ELIDIA', 'EDRA', 'DORETHEA', 'DOREATHA', 'DENYSE', 'DENNY', 'DEETTA', 'DAINE', 'CYRSTAL', 'CORRIN', 'CAYLA', 'CARLITA', 'CAMILA', 'BURMA', 'BULA', 'BUENA', 'BLAKE', 'BARABARA', 'AVRIL', 'AUSTIN', 'ALAINE', 'ZANA', 'WILHEMINA', 'WANETTA', 'VIRGIL', 'VI', 'VERONIKA', 'VERNON', 'VERLINE', 'VASILIKI', 'TONITA', 'TISA', 'TEOFILA', 'TAYNA', 'TAUNYA', 'TANDRA', 'TAKAKO', 'SUNNI', 'SUANNE', 'SIXTA', 'SHARELL', 'SEEMA', 'RUSSELL', 'ROSENDA', 'ROBENA', 'RAYMONDE', 'PEI', 'PAMILA', 'OZELL', 'NEIDA', 'NEELY', 'MISTIE', 'MICHA', 'MERISSA', 'MAURITA', 'MARYLN', 'MARYETTA', 'MARSHALL', 'MARCELL', 'MALENA', 'MAKEDA', 'MADDIE', 'LOVETTA', 'LOURIE', 'LORRINE', 'LORILEE', 'LESTER', 'LAURENA', 'LASHAY', 'LARRAINE', 'LAREE', 'LACRESHA', 'KRISTLE', 'KRISHNA', 'KEVA', 'KEIRA', 'KAROLE', 'JOIE', 'JINNY', 'JEANNETTA', 'JAMA', 'HEIDY', 'GILBERTE', 'GEMA', 'FAVIOLA', 'EVELYNN', 'ENDA', 'ELLI', 'ELLENA', 'DIVINA', 'DAGNY', 'COLLENE', 'CODI', 'CINDIE', 'CHASSIDY', 'CHASIDY', 'CATRICE', 'CATHERINA', 'CASSEY', 'CAROLL', 'CARLENA', 'CANDRA', 'CALISTA', 'BRYANNA', 'BRITTENY', 'BEULA', 'BARI', 'AUDRIE', 'AUDRIA', 'ARDELIA', 'ANNELLE', 'ANGILA', 'ALONA', 'ALLYN', 'LI  |  http://en.wikipedia.org/wiki/List_of_most_common_surnames#China', 'WANG', 'ZHANG', 'LIU', 'CHEN', 'YANG', 'HUANG', 'ZHAO', 'ZHOU', 'WU', 'XU', 'SUN', 'ZHU', 'MA', 'HU', 'GUO', 'LIN', 'HE', 'GAO', 'LIANG', '']\n"
     ]
    }
   ],
   "source": [
    "\n",
    "stowords.extend(stopw1)\n",
    "stowords.extend(stopw2)\n",
    "stowords.extend(stopw3)\n",
    "stowords.extend(stopw4)\n",
    "stowords.extend(stopw5)\n",
    "stowords.extend(stopw6)\n",
    "stowords.extend(stopw7)\n",
    "\n",
    "print(stowords)\n",
    "\n",
    "\n"
   ]
  },
  {
   "cell_type": "code",
   "execution_count": 11,
   "id": "54d25d8a",
   "metadata": {},
   "outputs": [],
   "source": [
    "posit = open(\"positive-words.txt\", \"r\")\n",
    "  \n",
    "# reading the file\n",
    "postiword = posit.read()\n",
    "\n",
    "poswordslist = postiword.split(\"\\n\")"
   ]
  },
  {
   "cell_type": "code",
   "execution_count": 12,
   "id": "914c780c",
   "metadata": {},
   "outputs": [],
   "source": [
    "negat = open(\"negative-words.txt\", \"r\")\n",
    "  \n",
    "# reading the file\n",
    "negatiword = negat.read()\n",
    "\n",
    "negatilist = negatiword.split(\"\\n\")"
   ]
  },
  {
   "cell_type": "code",
   "execution_count": 22,
   "id": "4a3fc83b",
   "metadata": {},
   "outputs": [],
   "source": [
    "\n",
    "from selenium import webdriver\n",
    "\n",
    "website='https://insights.blackcoffer.com/rise-of-telemedicine-and-its-impact-on-livelihood-by-2040-3-2/'\n",
    "path=\"C:\\\\Users\\\\saahi\\Downloads\\\\chromedriver_win32 (2)\\chromedriver.exe\""
   ]
  },
  {
   "cell_type": "code",
   "execution_count": 23,
   "id": "51784910",
   "metadata": {},
   "outputs": [],
   "source": [
    "driver=webdriver.Chrome(path)\n",
    "driver.get(website)"
   ]
  },
  {
   "cell_type": "code",
   "execution_count": 64,
   "id": "5fa77686",
   "metadata": {},
   "outputs": [],
   "source": [
    "text = driver.find_elements_by_xpath('//h1[contains(@class, \"title\")] | //div[contains(@class, \"tagdiv-type\")]')\n",
    "texts=[]\n",
    "for x in text:\n",
    "    words_without_punctuation = [word for word in word_tokenize(x.text) if word.lower() not in stowords and word not in punctuation]\n",
    "    cleaned_text = ' '.join(words_without_punctuation)\n",
    "    texts.append(cleaned_text.lower())\n",
    "texts = ' '.join(texts)"
   ]
  },
  {
   "cell_type": "code",
   "execution_count": 44,
   "id": "b9fd08a8",
   "metadata": {},
   "outputs": [],
   "source": [
    "def posscore(texts):\n",
    "    words = [word for word in texts.split()]\n",
    "\n",
    "    # Count the occurrences of words from poswordslist\n",
    "    word_counts = Counter(words)\n",
    "    matches = {word: word_counts[word] for word in poswordslist}\n",
    "\n",
    "    \n",
    "    # Calculate the total positive score\n",
    "    total_count = sum(matches.values())\n",
    "    \n",
    "    return total_count\n"
   ]
  },
  {
   "cell_type": "code",
   "execution_count": 45,
   "id": "7a2d6173",
   "metadata": {},
   "outputs": [
    {
     "data": {
      "text/plain": [
       "80"
      ]
     },
     "execution_count": 45,
     "metadata": {},
     "output_type": "execute_result"
    }
   ],
   "source": [
    "posscore(texts)"
   ]
  },
  {
   "cell_type": "code",
   "execution_count": 46,
   "id": "65fabbad",
   "metadata": {},
   "outputs": [],
   "source": [
    "def negscore(text):\n",
    "    words = [text for text in texts.split()]\n",
    "\n",
    "    # Count the occurrences of words from dat\n",
    "    word_counts = Counter(words)\n",
    "    matches = {word: word_counts[word] for word in negatilist}\n",
    "\n",
    "    # Print the word counts\n",
    "    total_count = sum(matches.values())\n",
    "    \n",
    "    return total_count"
   ]
  },
  {
   "cell_type": "code",
   "execution_count": 47,
   "id": "4df33466",
   "metadata": {},
   "outputs": [
    {
     "data": {
      "text/plain": [
       "24"
      ]
     },
     "execution_count": 47,
     "metadata": {},
     "output_type": "execute_result"
    }
   ],
   "source": [
    "negscore(texts)"
   ]
  },
  {
   "cell_type": "code",
   "execution_count": 48,
   "id": "88398c51",
   "metadata": {},
   "outputs": [],
   "source": [
    "def wordcount(texts):\n",
    "    # Split the combined text into individual words\n",
    "    words = texts.split()\n",
    "    \n",
    "    # Count the number of words\n",
    "    word_count = len(words)\n",
    "    return word_count\n"
   ]
  },
  {
   "cell_type": "code",
   "execution_count": 49,
   "id": "7cbac4cd",
   "metadata": {},
   "outputs": [
    {
     "data": {
      "text/plain": [
       "869"
      ]
     },
     "execution_count": 49,
     "metadata": {},
     "output_type": "execute_result"
    }
   ],
   "source": [
    "wordcount(texts)"
   ]
  },
  {
   "cell_type": "code",
   "execution_count": 50,
   "id": "d5d9c360",
   "metadata": {},
   "outputs": [],
   "source": [
    "def calculate_total_characters(cleaned_text):\n",
    "    total_characters = sum(len(word) for word in cleaned_text.split())\n",
    "    return total_characters\n",
    "\n",
    "# Example usage:\n",
    "\n",
    "\n",
    "\n"
   ]
  },
  {
   "cell_type": "code",
   "execution_count": 51,
   "id": "8228a3f6",
   "metadata": {},
   "outputs": [
    {
     "data": {
      "text/plain": [
       "6729"
      ]
     },
     "execution_count": 51,
     "metadata": {},
     "output_type": "execute_result"
    }
   ],
   "source": [
    "calculate_total_characters(str(texts))"
   ]
  },
  {
   "cell_type": "code",
   "execution_count": 59,
   "id": "933dd398",
   "metadata": {},
   "outputs": [],
   "source": [
    "def sentencecount(text):\n",
    "    sentt=[]\n",
    "    for x in text:\n",
    "        sentt.append(x.text)\n",
    "    ssentences = sent_tokenize(str(sentt))\n",
    "    num_sentences = len(ssentences)\n",
    "    return num_sentences+1"
   ]
  },
  {
   "cell_type": "code",
   "execution_count": 60,
   "id": "3d3d0e76",
   "metadata": {},
   "outputs": [
    {
     "data": {
      "text/plain": [
       "57"
      ]
     },
     "execution_count": 60,
     "metadata": {},
     "output_type": "execute_result"
    }
   ],
   "source": [
    "sentencecount(text)"
   ]
  },
  {
   "cell_type": "code",
   "execution_count": 72,
   "id": "44486ef3",
   "metadata": {},
   "outputs": [
    {
     "data": {
      "text/plain": [
       "352"
      ]
     },
     "execution_count": 72,
     "metadata": {},
     "output_type": "execute_result"
    }
   ],
   "source": [
    "def complexword(texts):\n",
    "    words = word_tokenize(texts)  # Join the list of texts into a single string\n",
    "\n",
    "    # Count the number of complex words (more than two syllables)\n",
    "    complex_word_count = sum(1 for word in words if count_syllables(word) > 2)\n",
    "\n",
    "    return complex_word_count\n",
    "\n",
    "def count_syllables(word):\n",
    "    if word.lower() in pronouncing_dict:\n",
    "        return max([len(list(y for y in x if y[-1].isdigit())) for x in pronouncing_dict[word.lower()]])\n",
    "    else:\n",
    "        return 0"
   ]
  },
  {
   "cell_type": "code",
   "execution_count": 74,
   "id": "2803c478",
   "metadata": {},
   "outputs": [
    {
     "data": {
      "text/plain": [
       "352"
      ]
     },
     "execution_count": 74,
     "metadata": {},
     "output_type": "execute_result"
    }
   ],
   "source": [
    "complexword(texts)"
   ]
  },
  {
   "cell_type": "code",
   "execution_count": 77,
   "id": "a3c524b3",
   "metadata": {},
   "outputs": [],
   "source": [
    "def syllablecc(texts):\n",
    "    words = word_tokenize(texts)\n",
    "    \n",
    "    # Count the number of syllables in each word\n",
    "    syllable_count_per_word = sum([count_syllables(word) for word in words])\n",
    "    \n",
    "    return syllable_count_per_word \n",
    "\n",
    "def count_syllables(word):\n",
    "    word = word.lower()\n",
    "    exceptions = [\"es\", \"ed\"]\n",
    "    count = 0\n",
    "    prev_char = ''  # Initialize prev_char with an empty string\n",
    "    \n",
    "    for char in word:\n",
    "        if char in 'aeiouy':\n",
    "            if prev_char not in 'aeiouy':\n",
    "                count += 1\n",
    "        prev_char = char\n",
    "    \n",
    "    for exception in exceptions:\n",
    "        if word.endswith(exception):\n",
    "            count -= 1\n",
    "    \n",
    "    if count == 0:\n",
    "        count = 1  # Handle single-letter words\n",
    "    \n",
    "    return count\n",
    "\n"
   ]
  },
  {
   "cell_type": "code",
   "execution_count": 78,
   "id": "5247b057",
   "metadata": {},
   "outputs": [
    {
     "data": {
      "text/plain": [
       "2231"
      ]
     },
     "execution_count": 78,
     "metadata": {},
     "output_type": "execute_result"
    }
   ],
   "source": [
    "syllablecc(texts)"
   ]
  },
  {
   "cell_type": "code",
   "execution_count": 79,
   "id": "4373c279",
   "metadata": {},
   "outputs": [
    {
     "name": "stdout",
     "output_type": "stream",
     "text": [
      "Personal pronoun count: 0\n"
     ]
    }
   ],
   "source": [
    "def count_personal_pronouns_without_re(texts):\n",
    "    personal_pronouns = [\"I\", \"you\", \"he\", \"she\", \"it\", \"we\", \"they\", \"them\", \"us\", \"him\", \"her\", \"his\", \"hers\", \"its\", \"theirs\", \"our\", \"your\"]\n",
    "    \n",
    "    words = texts.split()\n",
    "    pronoun_count = sum(1 for word in words if word.lower() in personal_pronouns)\n",
    "#     print(words)\n",
    "    \n",
    "    return pronoun_count\n",
    "\n",
    "# Example text\n",
    "\n",
    "# Call the function and print the result\n",
    "\n"
   ]
  },
  {
   "cell_type": "code",
   "execution_count": 80,
   "id": "97b7ad5d",
   "metadata": {},
   "outputs": [
    {
     "data": {
      "text/plain": [
       "0"
      ]
     },
     "execution_count": 80,
     "metadata": {},
     "output_type": "execute_result"
    }
   ],
   "source": [
    "count_personal_pronouns_without_re(str(texts))"
   ]
  },
  {
   "cell_type": "code",
   "execution_count": 81,
   "id": "dc70262a",
   "metadata": {},
   "outputs": [],
   "source": [
    "weblist = pd.read_excel('Input.xlsx', engine='openpyxl')\n"
   ]
  },
  {
   "cell_type": "code",
   "execution_count": 88,
   "id": "4d5a1803",
   "metadata": {},
   "outputs": [],
   "source": [
    "positive=[]\n",
    "negative=[]\n",
    "polarity=[]\n",
    "subjectivity=[]\n",
    "avg_sentence_length=[]\n",
    "pcomplexw=[]\n",
    "fogi=[]\n",
    "avgnworpsent=[]\n",
    "comword=[]\n",
    "wordcnt=[]\n",
    "syllacounperword=[]\n",
    "personpron=[]\n",
    "avgwordlen=[]"
   ]
  },
  {
   "cell_type": "code",
   "execution_count": 89,
   "id": "7581ddef",
   "metadata": {},
   "outputs": [
    {
     "name": "stdout",
     "output_type": "stream",
     "text": [
      "0\n",
      "1\n",
      "2\n",
      "3\n",
      "4\n",
      "5\n",
      "6\n",
      "7\n",
      "8\n",
      "9\n",
      "10\n",
      "11\n",
      "12\n",
      "13\n",
      "14\n",
      "15\n",
      "16\n",
      "17\n",
      "18\n",
      "19\n",
      "20\n",
      "21\n",
      "22\n",
      "23\n",
      "Timed out waiting for element on page https://insights.blackcoffer.com/how-neural-networks-can-be-applied-in-various-areas-in-the-future/\n",
      "25\n",
      "26\n",
      "27\n",
      "28\n",
      "29\n",
      "30\n",
      "31\n",
      "32\n",
      "33\n",
      "34\n",
      "35\n",
      "36\n",
      "Timed out waiting for element on page https://insights.blackcoffer.com/covid-19-environmental-impact-for-the-future/\n",
      "38\n",
      "39\n",
      "40\n",
      "41\n",
      "42\n",
      "43\n",
      "44\n",
      "45\n",
      "46\n",
      "47\n",
      "48\n",
      "49\n",
      "50\n",
      "51\n",
      "52\n",
      "53\n",
      "54\n",
      "55\n",
      "56\n",
      "57\n",
      "58\n",
      "59\n",
      "60\n",
      "61\n",
      "62\n",
      "63\n",
      "64\n",
      "65\n",
      "66\n",
      "67\n",
      "68\n",
      "69\n",
      "70\n",
      "71\n",
      "72\n",
      "73\n",
      "74\n",
      "75\n",
      "76\n",
      "77\n",
      "78\n",
      "79\n",
      "80\n",
      "81\n",
      "82\n",
      "83\n",
      "84\n",
      "85\n",
      "86\n",
      "87\n",
      "88\n",
      "89\n",
      "90\n",
      "91\n",
      "92\n",
      "93\n",
      "94\n",
      "95\n",
      "96\n",
      "97\n",
      "98\n",
      "99\n",
      "100\n",
      "101\n",
      "102\n",
      "103\n",
      "104\n",
      "105\n",
      "106\n",
      "107\n",
      "108\n",
      "109\n",
      "110\n",
      "111\n",
      "112\n",
      "113\n"
     ]
    }
   ],
   "source": [
    "\n",
    "for i in range(weblist.shape[0]):\n",
    "    url = weblist['URL'][i]\n",
    "    \n",
    "    # Initialize the WebDriver in headless mode\n",
    "    driver = webdriver.Chrome(path, options=chrome_options)\n",
    "    \n",
    "    # Visit the URL\n",
    "    driver.get(url)\n",
    "    try:\n",
    "        WebDriverWait(driver, 30).until(EC.presence_of_element_located((By.XPATH, '//div[contains(@class, \"tagdiv-type\")]')))\n",
    "\n",
    "        text = driver.find_elements_by_xpath('//h1[contains(@class, \"title\")] | //div[contains(@class, \"tagdiv-type\")]')\n",
    "        texts=[]\n",
    "        for x in text:\n",
    "            words_without_punctuation = [word for word in word_tokenize(x.text) if word.lower() not in stowords and word not in punctuation]\n",
    "            cleaned_text = ' '.join(words_without_punctuation)\n",
    "            texts.append(cleaned_text.lower())\n",
    "        texts = ' '.join(texts)\n",
    "\n",
    "        positive.append(posscore(texts))\n",
    "        negative.append(negscore(texts))\n",
    "        polarity.append((positive[i] - negative[i]) / ((positive[i] + negative[i]) + 0.000001))\n",
    "        subjectivity.append((positive[i] + negative[i]) / (wordcount(texts) + 0.000001))\n",
    "        avg_sentence_length.append((wordcount(texts)/sentencecount(text)))\n",
    "        pcomplexw.append((complexword(texts)/wordcount(texts)))\n",
    "        fogi.append(0.4*(pcomplexw[i]+avg_sentence_length[i]))\n",
    "        avgnworpsent.append(avg_sentence_length[i])\n",
    "        comword.append(complexword(texts))\n",
    "        wordcnt.append(wordcount(texts))\n",
    "        syllacounperword.append(syllablecc(texts)/wordcount(texts))\n",
    "        personpron.append(count_personal_pronouns_without_re(str(texts)))\n",
    "        avgwordlen.append(calculate_total_characters(str(texts))/wordcount(texts))\n",
    "        print(i)\n",
    "        \n",
    "    except TimeoutException:\n",
    "        print(f\"Timed out waiting for element on page {url}\")\n",
    "        positive.append(0)\n",
    "        negative.append(0)\n",
    "        polarity.append(0)\n",
    "        subjectivity.append(0)\n",
    "        avg_sentence_length.append(0)\n",
    "        pcomplexw.append(0)\n",
    "        fogi.append(0)\n",
    "        avgnworpsent.append(0)\n",
    "        comword.append(0)\n",
    "        wordcnt.append(0)\n",
    "        syllacounperword.append(0)\n",
    "        personpron.append(0)\n",
    "        avgwordlen.append(0)\n",
    "    \n",
    "    driver.quit()\n",
    "    \n",
    "\n",
    "\n",
    "\n",
    "\n",
    "\n"
   ]
  },
  {
   "cell_type": "code",
   "execution_count": 90,
   "id": "de1a9a1a",
   "metadata": {},
   "outputs": [
    {
     "name": "stdout",
     "output_type": "stream",
     "text": [
      "Positive: [80, 38, 21, 35, 35, 49, 34, 62, 8, 22, 13, 30, 23, 21, 23, 27, 35, 68, 60, 66, 70, 61, 46, 27, 0, 38, 67, 51, 37, 31, 67, 76, 26, 80, 27, 14, 3, 0, 24, 17, 59, 41, 5, 31, 25, 15, 5, 23, 9, 48, 10, 23, 26, 43, 34, 25, 42, 31, 42, 23, 59, 27, 31, 23, 40, 23, 37, 33, 36, 37, 29, 3, 34, 39, 55, 30, 17, 17, 36, 24, 23, 4, 28, 8, 28, 22, 7, 16, 33, 30, 6, 14, 27, 24, 48, 23, 25, 42, 33, 8, 46, 35, 33, 41, 48, 57, 16, 45, 32, 5, 24, 90, 28, 50]\n",
      "Negative: [24, 13, 27, 27, 27, 12, 10, 6, 0, 47, 10, 16, 3, 11, 15, 26, 27, 34, 38, 38, 28, 25, 23, 12, 0, 13, 41, 68, 24, 29, 24, 24, 0, 39, 0, 6, 4, 0, 69, 15, 38, 3, 1, 9, 8, 9, 0, 37, 2, 19, 18, 37, 49, 23, 26, 7, 8, 6, 16, 74, 23, 49, 26, 82, 35, 13, 25, 53, 12, 49, 71, 3, 4, 34, 16, 34, 44, 42, 48, 27, 46, 3, 46, 25, 57, 35, 3, 3, 58, 25, 39, 33, 52, 36, 48, 46, 25, 81, 59, 14, 92, 65, 68, 84, 75, 18, 25, 97, 49, 29, 64, 33, 22, 33]\n",
      "Polarity: [0.5384615332840237, 0.49019606881968497, -0.1249999973958334, 0.12903225598335072, 0.12903225598335072, 0.6065573671056169, 0.5454545330578515, 0.8235293996539794, 0.9999998750000157, -0.36231883532871256, 0.1304347769376184, 0.3043478194706996, 0.7692307396449716, 0.3124999902343753, 0.21052631024930765, 0.01886792417230332, 0.12903225598335072, 0.33333333006535953, 0.22448979362765517, 0.26923076664201184, 0.4285714241982508, 0.4186046462952948, 0.33333332850241554, 0.384615374753452, 0, 0.49019606881968497, 0.24074073851165984, -0.1428571416566627, 0.21311475060467622, 0.03333333277777779, 0.472527467334863, 0.5199999948, 0.9999999615384629, 0.3445378122307747, 0.9999999629629643, 0.399999980000001, -0.1428571224489825, 0, -0.4838709625390219, 0.06249999804687507, 0.21649484312891915, 0.863636344008265, 0.6666665555555741, 0.5499999862500004, 0.5151514995408637, 0.24999998958333375, 0.99999980000004, -0.23333332944444451, 0.636363578512402, 0.43283581443528635, -0.28571427551020445, -0.23333332944444451, -0.30666666257777786, 0.30303029843893486, 0.13333333111111115, 0.5624999824218756, 0.6799999864000003, 0.6756756574141715, 0.4482758543400715, -0.5257731904559465, 0.43902438488994655, -0.2894736804016621, 0.08771929670667901, -0.5619047565532881, 0.06666666577777779, 0.2777777700617286, 0.19354838397502608, -0.23255813683071935, 0.4999999895833336, -0.1395348820984316, -0.4199999958, 0.0, 0.7894736634349037, 0.06849314974666919, 0.5492957669113272, -0.062499999023437516, -0.4426229435635583, -0.4237288063774779, -0.1428571411564626, -0.05882352825836219, -0.33333332850241554, 0.1428571224489825, -0.24324323995617245, -0.5151514995408637, -0.34117646657439454, -0.2280701714373654, 0.39999996000000404, 0.684210490304711, -0.2747252717063157, 0.09090908925619838, -0.7333333170370374, -0.40425531054775937, -0.3164556921967634, -0.19999999666666674, 0.0, -0.33333332850241554, 0.0, -0.3170731681538767, -0.2826086925803403, -0.27272726033057904, -0.3333333309178744, -0.299999997, -0.3465346500343104, -0.343999997248, -0.21951219333729924, 0.5199999930666668, -0.21951218976799539, -0.36619718051973815, -0.20987654061880814, -0.7058823321799315, -0.45454544938016533, 0.46341463037874286, 0.11999999760000006, 0.20481927464073163]\n",
      "Subjectivity: [0.11967779042614754, 0.17346938716507013, 0.08556149717368718, 0.09212481412760057, 0.09212481412760057, 0.09651898718905223, 0.0738255032318364, 0.07649043860912212, 0.034334763801138354, 0.12591240852935692, 0.12365591331367788, 0.06666666657004831, 0.08441558414150785, 0.05765765755376999, 0.07554671953171627, 0.08702791447121853, 0.10316139749889951, 0.09723546225239707, 0.1528861152061059, 0.11672278325844805, 0.1327913277333451, 0.09839816922380072, 0.11111111093218823, 0.10743801623295313, 0, 0.14010988972497282, 0.10285714275918366, 0.10867579898751067, 0.09576138132533535, 0.09077155810775861, 0.12414733953049477, 0.11764705868512111, 0.09454545420165289, 0.15197956557857015, 0.05544147832558218, 0.052356020805350734, 0.04487179458415516, 0, 0.1324786322899165, 0.0893854746106551, 0.11265969789470419, 0.13095238056264172, 0.028708133833932375, 0.06666666655555556, 0.09192200531498049, 0.14634146252230815, 0.053191488795835226, 0.16260162557560534, 0.12499999857954547, 0.10403726691919679, 0.10646387792219057, 0.12371133995111064, 0.08474576261610649, 0.08661417311467956, 0.08287292806233021, 0.08913649000240532, 0.09025270741831641, 0.1907216485014348, 0.06839622633443841, 0.2240184752332137, 0.16498993930585526, 0.11497730693649424, 0.07589880149680586, 0.22776572618705918, 0.10121457476219356, 0.09183673445960017, 0.09627329177597314, 0.10023310011627844, 0.02250351616385208, 0.10201660723366951, 0.11764705868512111, 0.07894736738227148, 0.07770961129302738, 0.09959072292006722, 0.07785087710761965, 0.11918063292517574, 0.06027667978233529, 0.11991869894325467, 0.15819209009756668, 0.10159362529563024, 0.08961038949401248, 0.08235294020761247, 0.13405797077163412, 0.09428571401632653, 0.1443123936429331, 0.12866817126711474, 0.03937007858515717, 0.06089743570225181, 0.16049382687743594, 0.20370370294924556, 0.07487520786210448, 0.09591836715118701, 0.14157706067817732, 0.09273570310241777, 0.12151898718795065, 0.06804733721099868, 0.12787723752461064, 0.11988304081882743, 0.1691176467479455, 0.11111111054994388, 0.1102236420844859, 0.16474464552760354, 0.11272321415990713, 0.14076576560724577, 0.11243144413854529, 0.08134490229789056, 0.09579439229954581, 0.16804733707923392, 0.1772428880147858, 0.08252427164435856, 0.08678500977634615, 0.13015873002099607, 0.07331378288370413, 0.14795008886283406]\n",
      "Average Sentence Length: [15.24561403508772, 14.7, 8.765625, 14.319148936170214, 14.319148936170214, 13.73913043478261, 17.529411764705884, 12.013513513513514, 11.095238095238095, 13.047619047619047, 7.75, 12.321428571428571, 18.11764705882353, 29.210526315789473, 14.794117647058824, 11.941176470588236, 20.724137931034484, 19.79245283018868, 9.157142857142857, 13.298507462686567, 9.225, 12.485714285714286, 12.42, 8.44186046511628, 0, 11.741935483870968, 15.0, 12.303370786516854, 15.166666666666666, 10.015151515151516, 20.942857142857143, 16.037735849056602, 14.473684210526315, 87.0, 14.323529411764707, 16.608695652173914, 52.0, 0, 16.325581395348838, 14.32, 9.89655172413793, 11.2, 13.933333333333334, 21.428571428571427, 27.615384615384617, 6.56, 8.545454545454545, 6.473684210526316, 12.571428571428571, 17.405405405405407, 12.523809523809524, 9.89795918367347, 17.01923076923077, 16.21276595744681, 10.055555555555555, 6.527272727272727, 8.65625, 12.933333333333334, 20.19047619047619, 6.5606060606060606, 8.423728813559322, 21.322580645161292, 17.068181818181817, 6.681159420289855, 16.466666666666665, 17.818181818181817, 21.466666666666665, 17.875, 88.875, 13.380952380952381, 17.0, 15.2, 12.868421052631579, 6.915094339622642, 12.324324324324325, 14.916666666666666, 24.095238095238095, 14.470588235294118, 7.695652173913044, 16.193548387096776, 28.51851851851852, 12.142857142857142, 10.415094339622641, 18.42105263157895, 12.804347826086957, 15.821428571428571, 25.4, 13.565217391304348, 27.0, 15.882352941176471, 24.04, 12.894736842105264, 12.681818181818182, 18.485714285714284, 12.53968253968254, 18.107142857142858, 35.54545454545455, 22.304347826086957, 8.36923076923077, 18.0, 16.05128205128205, 11.24074074074074, 14.0, 21.658536585365855, 23.782608695652176, 15.89655172413793, 14.266666666666667, 14.824561403508772, 11.717948717948717, 20.6, 84.5, 15.0, 12.178571428571429, 17.0]\n",
      "Percentage of Complex Words: [0.42577675489067895, 0.4557823129251701, 0.31194295900178254, 0.3491827637444279, 0.3491827637444279, 0.37341772151898733, 0.3674496644295302, 0.3892013498312711, 0.24892703862660945, 0.41058394160583944, 0.3763440860215054, 0.2811594202898551, 0.2857142857142857, 0.19099099099099098, 0.2584493041749503, 0.2348111658456486, 0.34775374376039936, 0.36129647283126787, 0.26053042121684866, 0.3759820426487093, 0.2994579945799458, 0.2929061784897025, 0.3059581320450886, 0.2699724517906336, 0, 0.24175824175824176, 0.3028571428571429, 0.3178082191780822, 0.4003139717425432, 0.2813918305597579, 0.34106412005457026, 0.3070588235294118, 0.4218181818181818, 0.3090676883780332, 0.32854209445585214, 0.39528795811518325, 0.391025641025641, 0, 0.2905982905982906, 0.30446927374301674, 0.313588850174216, 0.33035714285714285, 0.2679425837320574, 0.25166666666666665, 0.4233983286908078, 0.32926829268292684, 0.4787234042553192, 0.26287262872628725, 0.25, 0.40993788819875776, 0.2813688212927757, 0.2288659793814433, 0.3672316384180791, 0.25984251968503935, 0.26243093922651933, 0.32590529247910865, 0.2833935018050541, 0.35051546391752575, 0.3313679245283019, 0.2540415704387991, 0.18108651911468812, 0.17246596066565809, 0.3155792276964048, 0.2559652928416486, 0.2941970310391363, 0.28316326530612246, 0.32142857142857145, 0.2680652680652681, 0.17252695733708392, 0.29062870699881377, 0.34, 0.2894736842105263, 0.23517382413087934, 0.3519781718963165, 0.2949561403508772, 0.27001862197392923, 0.2885375494071146, 0.29878048780487804, 0.2843691148775895, 0.3346613545816733, 0.2714285714285714, 0.23529411764705882, 0.2318840579710145, 0.23142857142857143, 0.3361629881154499, 0.22121896162528218, 0.27165354330708663, 0.1987179487179487, 0.31040564373897706, 0.1962962962962963, 0.24459234608985025, 0.2897959183673469, 0.2903225806451613, 0.28129829984544047, 0.2379746835443038, 0.27909270216962523, 0.16624040920716113, 0.3001949317738791, 0.21507352941176472, 0.3282828282828283, 0.2515974440894569, 0.214168039538715, 0.2611607142857143, 0.2668918918918919, 0.31992687385740404, 0.35683297180043383, 0.3014018691588785, 0.2816568047337278, 0.2647702407002188, 0.2912621359223301, 0.1992110453648915, 0.326984126984127, 0.3093841642228739, 0.39928698752228164]\n",
      "FOG Index: [6.2685563159913595, 6.062312925170068, 3.6310271836007133, 5.867332679965857, 5.867332679965857, 5.645019262520639, 7.158744571654165, 4.961085945337914, 4.537666053545882, 5.383281195689955, 3.2505376344086025, 5.041035196687371, 7.361344537815126, 11.760606922712185, 6.021026780493511, 4.870395054573554, 8.428756669917954, 8.061499721207978, 3.7670693113438825, 5.4697958021341115, 3.8097831978319783, 5.111448185681596, 5.090383252818036, 3.4847331667627657, 0, 4.793477490251684, 6.121142857142857, 5.048471602277975, 6.226792255363684, 4.118617338284509, 8.513568505164686, 6.537917869034406, 5.958200956937799, 34.92362707535121, 5.8608286024882235, 6.801593444115639, 20.95641025641026, 0, 6.646471874378851, 5.849787709497207, 4.084056229724859, 4.612142857142857, 5.680510366826157, 8.672095238095237, 11.215513177630172, 2.7557073170731705, 3.609671179883946, 2.6946227357010417, 5.128571428571429, 7.126137317441667, 5.122071338040921, 4.050730065221965, 6.95458496305954, 6.589043390852741, 4.12719459791283, 2.7412712079007346, 3.575857400722022, 5.3135395189003445, 8.208737646001797, 2.725859052417944, 3.441926133069604, 8.59801864233078, 6.953504418351288, 2.7748498852526016, 6.7043454790823205, 7.240538033395175, 8.715238095238096, 7.257226107226107, 35.619010782934836, 5.468632435180478, 6.936, 6.1957894736842105, 5.2414379507049835, 2.9068290046075838, 5.047712185870081, 6.074674115456238, 9.753510257858084, 5.907747489239599, 3.192008515516253, 6.61128389667138, 11.515978835978837, 4.951260504201681, 4.258791359037462, 7.460992481203009, 5.256204325680963, 6.417059013221541, 10.268661417322834, 5.505574136008919, 10.924162257495592, 6.431459694989107, 9.71383693843594, 5.273813104189045, 5.188856304985338, 7.5068050342238895, 5.1110628892907375, 7.354494223724993, 14.284677981864684, 9.041817103144336, 3.4337217194570138, 7.331313131313131, 6.521151798148603, 4.581963512111782, 5.704464285714286, 8.7701713909031, 9.641014227803833, 6.501353878375347, 5.827227414330219, 6.0424872832970005, 4.793087583459575, 8.356504854368934, 33.879684418145956, 6.130793650793652, 4.995182237117721, 6.959714795008913]\n",
      "Average Number of Words per Sentence: [15.24561403508772, 14.7, 8.765625, 14.319148936170214, 14.319148936170214, 13.73913043478261, 17.529411764705884, 12.013513513513514, 11.095238095238095, 13.047619047619047, 7.75, 12.321428571428571, 18.11764705882353, 29.210526315789473, 14.794117647058824, 11.941176470588236, 20.724137931034484, 19.79245283018868, 9.157142857142857, 13.298507462686567, 9.225, 12.485714285714286, 12.42, 8.44186046511628, 0, 11.741935483870968, 15.0, 12.303370786516854, 15.166666666666666, 10.015151515151516, 20.942857142857143, 16.037735849056602, 14.473684210526315, 87.0, 14.323529411764707, 16.608695652173914, 52.0, 0, 16.325581395348838, 14.32, 9.89655172413793, 11.2, 13.933333333333334, 21.428571428571427, 27.615384615384617, 6.56, 8.545454545454545, 6.473684210526316, 12.571428571428571, 17.405405405405407, 12.523809523809524, 9.89795918367347, 17.01923076923077, 16.21276595744681, 10.055555555555555, 6.527272727272727, 8.65625, 12.933333333333334, 20.19047619047619, 6.5606060606060606, 8.423728813559322, 21.322580645161292, 17.068181818181817, 6.681159420289855, 16.466666666666665, 17.818181818181817, 21.466666666666665, 17.875, 88.875, 13.380952380952381, 17.0, 15.2, 12.868421052631579, 6.915094339622642, 12.324324324324325, 14.916666666666666, 24.095238095238095, 14.470588235294118, 7.695652173913044, 16.193548387096776, 28.51851851851852, 12.142857142857142, 10.415094339622641, 18.42105263157895, 12.804347826086957, 15.821428571428571, 25.4, 13.565217391304348, 27.0, 15.882352941176471, 24.04, 12.894736842105264, 12.681818181818182, 18.485714285714284, 12.53968253968254, 18.107142857142858, 35.54545454545455, 22.304347826086957, 8.36923076923077, 18.0, 16.05128205128205, 11.24074074074074, 14.0, 21.658536585365855, 23.782608695652176, 15.89655172413793, 14.266666666666667, 14.824561403508772, 11.717948717948717, 20.6, 84.5, 15.0, 12.178571428571429, 17.0]\n",
      "Number of Complex Words: [370, 134, 175, 235, 235, 236, 219, 346, 58, 225, 70, 194, 88, 106, 130, 143, 209, 379, 167, 335, 221, 256, 190, 98, 0, 88, 318, 348, 255, 186, 250, 261, 116, 242, 160, 151, 61, 0, 204, 109, 270, 111, 56, 151, 152, 54, 45, 97, 22, 264, 74, 111, 325, 198, 190, 117, 157, 68, 281, 110, 90, 114, 237, 118, 218, 111, 207, 230, 368, 245, 289, 22, 115, 258, 269, 145, 292, 147, 151, 168, 209, 20, 128, 81, 198, 98, 69, 62, 176, 53, 147, 142, 162, 182, 188, 283, 65, 308, 117, 65, 315, 130, 234, 237, 350, 329, 129, 238, 121, 120, 202, 309, 211, 224]\n",
      "Word Count: [869, 294, 561, 673, 673, 632, 596, 889, 233, 548, 186, 690, 308, 555, 503, 609, 601, 1049, 641, 891, 738, 874, 621, 363, 0, 364, 1050, 1095, 637, 661, 733, 850, 275, 783, 487, 382, 156, 0, 702, 358, 861, 336, 209, 600, 359, 164, 94, 369, 88, 644, 263, 485, 885, 762, 724, 359, 554, 194, 848, 433, 497, 661, 751, 461, 741, 392, 644, 858, 2133, 843, 850, 76, 489, 733, 912, 537, 1012, 492, 531, 502, 770, 85, 552, 350, 589, 443, 254, 312, 567, 270, 601, 490, 558, 647, 790, 1014, 391, 1026, 544, 198, 1252, 607, 896, 888, 1094, 922, 428, 845, 457, 412, 1014, 945, 682, 561]\n",
      "Syllable Count per Word: [2.567318757192175, 2.3979591836734695, 2.10873440285205, 2.210995542347697, 2.210995542347697, 2.2199367088607596, 2.219798657718121, 2.2227221597300337, 2.07725321888412, 2.271897810218978, 2.252688172043011, 2.0478260869565217, 2.0779220779220777, 1.8162162162162163, 2.0357852882703775, 1.9047619047619047, 2.1813643926788684, 2.2545281220209725, 1.9781591263650546, 2.259259259259259, 2.075880758807588, 2.0755148741418763, 2.0950080515297906, 2.090909090909091, 0, 1.9368131868131868, 2.084761904761905, 2.052054794520548, 2.293563579277865, 2.022692889561271, 2.200545702592087, 2.052941176470588, 2.32, 2.077905491698595, 2.137577002053388, 2.264397905759162, 2.269230769230769, 0, 2.0527065527065527, 2.0614525139664805, 2.099883855981417, 2.2470238095238093, 2.014354066985646, 1.9216666666666666, 2.32033426183844, 2.3841463414634148, 2.4468085106382977, 1.991869918699187, 2.1704545454545454, 2.3835403726708075, 2.041825095057034, 2.002061855670103, 2.2045197740112994, 2.0026246719160103, 1.9613259668508287, 2.1197771587743732, 2.0288808664259927, 2.1030927835051547, 2.1497641509433962, 1.9861431870669746, 1.8189134808853118, 1.7549167927382754, 2.199733688415446, 2.0, 1.9797570850202428, 2.1198979591836733, 2.1956521739130435, 2.0128205128205128, 1.7880918893577122, 2.0972716488730723, 2.1905882352941175, 2.013157894736842, 1.8895705521472392, 2.189631650750341, 2.050438596491228, 2.016759776536313, 2.116600790513834, 2.1239837398373984, 2.0357815442561207, 2.139442231075697, 2.0441558441558443, 1.8705882352941177, 1.8768115942028984, 1.9028571428571428, 2.161290322580645, 1.8735891647855532, 1.952755905511811, 1.8942307692307692, 2.0793650793650795, 1.8444444444444446, 1.9034941763727122, 2.1040816326530614, 2.0806451612903225, 2.063369397217929, 1.9518987341772152, 1.9832347140039448, 1.7672634271099745, 2.056530214424951, 1.9595588235294117, 2.207070707070707, 1.983226837060703, 1.8813838550247117, 1.9352678571428572, 2.0033783783783785, 2.056672760511883, 2.2039045553145336, 2.074766355140187, 2.0757396449704144, 2.00218818380744, 2.1067961165048543, 1.9418145956607495, 2.1481481481481484, 2.187683284457478, 2.429590017825312]\n",
      "Personal Pronouns: [0, 0, 0, 0, 0, 0, 0, 0, 0, 0, 0, 0, 0, 0, 0, 0, 0, 0, 0, 0, 0, 0, 0, 0, 0, 0, 0, 0, 0, 0, 0, 0, 0, 0, 0, 0, 0, 0, 0, 0, 0, 0, 0, 0, 0, 0, 0, 0, 0, 0, 0, 0, 0, 0, 0, 0, 0, 0, 0, 0, 0, 0, 0, 0, 0, 0, 0, 0, 0, 0, 0, 0, 0, 0, 0, 0, 0, 0, 0, 0, 0, 0, 0, 0, 0, 0, 0, 0, 0, 0, 0, 0, 0, 0, 0, 0, 0, 0, 0, 0, 0, 0, 0, 0, 0, 0, 0, 0, 0, 0, 0, 0, 0, 0]\n",
      "Average Word Length: [7.7433831990794015, 8.040816326530612, 7.244206773618538, 7.335809806835067, 7.335809806835067, 7.2405063291139244, 7.429530201342282, 7.389201349831271, 6.914163090128755, 7.432481751824818, 7.279569892473118, 6.891304347826087, 7.012987012987013, 5.942342342342342, 6.79920477137177, 6.367816091954023, 7.0732113144758735, 7.377502383222116, 6.645865834633385, 7.423120089786757, 6.634146341463414, 6.881006864988558, 6.847020933977456, 6.931129476584022, 0, 6.4532967032967035, 6.680952380952381, 6.47945205479452, 7.5039246467817895, 6.511346444780635, 7.020463847203274, 6.716470588235294, 7.469090909090909, 6.657726692209451, 7.034907597535934, 7.719895287958115, 7.243589743589744, 0, 6.951566951566951, 6.824022346368715, 6.885017421602788, 7.083333333333333, 6.435406698564593, 6.21, 7.1504178272980505, 7.609756097560975, 7.414893617021277, 6.330623306233062, 6.806818181818182, 7.630434782608695, 6.859315589353612, 6.7443298969072165, 7.409039548022599, 6.6286089238845145, 6.487569060773481, 6.735376044568246, 6.666064981949458, 6.721649484536083, 6.886792452830188, 6.558891454965358, 6.17102615694165, 6.210287443267776, 7.069241011984022, 6.611713665943601, 6.527665317139001, 7.073979591836735, 7.178571428571429, 6.801864801864802, 6.071729957805907, 6.9655990510083035, 7.2305882352941175, 6.592105263157895, 6.16359918200409, 7.241473396998636, 6.656798245614035, 6.791433891992551, 6.8646245059288535, 6.892276422764228, 6.909604519774011, 7.02589641434263, 6.662337662337662, 6.247058823529412, 6.494565217391305, 6.497142857142857, 7.232597623089983, 6.600451467268623, 6.775590551181103, 6.201923076923077, 7.015873015873016, 5.95925925925926, 6.602329450915142, 7.33469387755102, 7.130824372759856, 6.703245749613601, 6.50253164556962, 6.5828402366863905, 5.718670076726343, 6.997076023391813, 6.194852941176471, 7.277777777777778, 6.767571884984026, 6.304777594728171, 6.472098214285714, 6.81981981981982, 6.878427787934187, 7.09002169197397, 6.775700934579439, 6.964497041420119, 6.739606126914661, 6.720873786407767, 6.4151873767258385, 7.063492063492063, 7.086510263929619, 7.7825311942959]\n"
     ]
    }
   ],
   "source": [
    "print(\"Positive:\", positive)\n",
    "print(\"Negative:\", negative)\n",
    "print(\"Polarity:\", polarity)\n",
    "print(\"Subjectivity:\", subjectivity)\n",
    "print(\"Average Sentence Length:\", avg_sentence_length)\n",
    "print(\"Percentage of Complex Words:\", pcomplexw)\n",
    "print(\"FOG Index:\", fogi)\n",
    "print(\"Average Number of Words per Sentence:\", avgnworpsent)\n",
    "print(\"Number of Complex Words:\", comword)\n",
    "print(\"Word Count:\", wordcnt)\n",
    "print(\"Syllable Count per Word:\", syllacounperword)\n",
    "print(\"Personal Pronouns:\", personpron)\n",
    "print(\"Average Word Length:\", avgwordlen)"
   ]
  },
  {
   "cell_type": "code",
   "execution_count": 91,
   "id": "97013d28",
   "metadata": {},
   "outputs": [],
   "source": [
    "data = {\n",
    "    'URL': weblist['URL'],  # Assuming 'weblist' is your DataFrame containing URLs\n",
    "    'Positive': positive,\n",
    "    'Negative': negative,\n",
    "    'Polarity': polarity,\n",
    "    'Subjectivity': subjectivity,\n",
    "    'Avg_Sentence_Length': avg_sentence_length,\n",
    "    'P_Complex_W': pcomplexw,\n",
    "    'FOGI': fogi,\n",
    "    'Avg_N_Words_Per_Sent': avgnworpsent,\n",
    "    'Complex_Words': comword,\n",
    "    'Word_Count': wordcnt,\n",
    "    'Syllables_Per_Word': syllacounperword,\n",
    "    'Person_Pronouns': personpron,\n",
    "    'Avg_Word_Length': avgwordlen\n",
    "}\n",
    "\n",
    "# Create a DataFrame from the dictionary\n",
    "result_df = pd.DataFrame(data)\n"
   ]
  },
  {
   "cell_type": "code",
   "execution_count": 92,
   "id": "028b5fa0",
   "metadata": {},
   "outputs": [
    {
     "data": {
      "text/html": [
       "<div>\n",
       "<style scoped>\n",
       "    .dataframe tbody tr th:only-of-type {\n",
       "        vertical-align: middle;\n",
       "    }\n",
       "\n",
       "    .dataframe tbody tr th {\n",
       "        vertical-align: top;\n",
       "    }\n",
       "\n",
       "    .dataframe thead th {\n",
       "        text-align: right;\n",
       "    }\n",
       "</style>\n",
       "<table border=\"1\" class=\"dataframe\">\n",
       "  <thead>\n",
       "    <tr style=\"text-align: right;\">\n",
       "      <th></th>\n",
       "      <th>URL</th>\n",
       "      <th>Positive</th>\n",
       "      <th>Negative</th>\n",
       "      <th>Polarity</th>\n",
       "      <th>Subjectivity</th>\n",
       "      <th>Avg_Sentence_Length</th>\n",
       "      <th>P_Complex_W</th>\n",
       "      <th>FOGI</th>\n",
       "      <th>Avg_N_Words_Per_Sent</th>\n",
       "      <th>Complex_Words</th>\n",
       "      <th>Word_Count</th>\n",
       "      <th>Syllables_Per_Word</th>\n",
       "      <th>Person_Pronouns</th>\n",
       "      <th>Avg_Word_Length</th>\n",
       "    </tr>\n",
       "  </thead>\n",
       "  <tbody>\n",
       "    <tr>\n",
       "      <th>0</th>\n",
       "      <td>https://insights.blackcoffer.com/rise-of-telem...</td>\n",
       "      <td>80</td>\n",
       "      <td>24</td>\n",
       "      <td>0.538462</td>\n",
       "      <td>0.119678</td>\n",
       "      <td>15.245614</td>\n",
       "      <td>0.425777</td>\n",
       "      <td>6.268556</td>\n",
       "      <td>15.245614</td>\n",
       "      <td>370</td>\n",
       "      <td>869</td>\n",
       "      <td>2.567319</td>\n",
       "      <td>0</td>\n",
       "      <td>7.743383</td>\n",
       "    </tr>\n",
       "    <tr>\n",
       "      <th>1</th>\n",
       "      <td>https://insights.blackcoffer.com/rise-of-e-hea...</td>\n",
       "      <td>38</td>\n",
       "      <td>13</td>\n",
       "      <td>0.490196</td>\n",
       "      <td>0.173469</td>\n",
       "      <td>14.700000</td>\n",
       "      <td>0.455782</td>\n",
       "      <td>6.062313</td>\n",
       "      <td>14.700000</td>\n",
       "      <td>134</td>\n",
       "      <td>294</td>\n",
       "      <td>2.397959</td>\n",
       "      <td>0</td>\n",
       "      <td>8.040816</td>\n",
       "    </tr>\n",
       "    <tr>\n",
       "      <th>2</th>\n",
       "      <td>https://insights.blackcoffer.com/rise-of-e-hea...</td>\n",
       "      <td>21</td>\n",
       "      <td>27</td>\n",
       "      <td>-0.125000</td>\n",
       "      <td>0.085561</td>\n",
       "      <td>8.765625</td>\n",
       "      <td>0.311943</td>\n",
       "      <td>3.631027</td>\n",
       "      <td>8.765625</td>\n",
       "      <td>175</td>\n",
       "      <td>561</td>\n",
       "      <td>2.108734</td>\n",
       "      <td>0</td>\n",
       "      <td>7.244207</td>\n",
       "    </tr>\n",
       "    <tr>\n",
       "      <th>3</th>\n",
       "      <td>https://insights.blackcoffer.com/rise-of-telem...</td>\n",
       "      <td>35</td>\n",
       "      <td>27</td>\n",
       "      <td>0.129032</td>\n",
       "      <td>0.092125</td>\n",
       "      <td>14.319149</td>\n",
       "      <td>0.349183</td>\n",
       "      <td>5.867333</td>\n",
       "      <td>14.319149</td>\n",
       "      <td>235</td>\n",
       "      <td>673</td>\n",
       "      <td>2.210996</td>\n",
       "      <td>0</td>\n",
       "      <td>7.335810</td>\n",
       "    </tr>\n",
       "    <tr>\n",
       "      <th>4</th>\n",
       "      <td>https://insights.blackcoffer.com/rise-of-telem...</td>\n",
       "      <td>35</td>\n",
       "      <td>27</td>\n",
       "      <td>0.129032</td>\n",
       "      <td>0.092125</td>\n",
       "      <td>14.319149</td>\n",
       "      <td>0.349183</td>\n",
       "      <td>5.867333</td>\n",
       "      <td>14.319149</td>\n",
       "      <td>235</td>\n",
       "      <td>673</td>\n",
       "      <td>2.210996</td>\n",
       "      <td>0</td>\n",
       "      <td>7.335810</td>\n",
       "    </tr>\n",
       "    <tr>\n",
       "      <th>...</th>\n",
       "      <td>...</td>\n",
       "      <td>...</td>\n",
       "      <td>...</td>\n",
       "      <td>...</td>\n",
       "      <td>...</td>\n",
       "      <td>...</td>\n",
       "      <td>...</td>\n",
       "      <td>...</td>\n",
       "      <td>...</td>\n",
       "      <td>...</td>\n",
       "      <td>...</td>\n",
       "      <td>...</td>\n",
       "      <td>...</td>\n",
       "      <td>...</td>\n",
       "    </tr>\n",
       "    <tr>\n",
       "      <th>109</th>\n",
       "      <td>https://insights.blackcoffer.com/coronavirus-i...</td>\n",
       "      <td>5</td>\n",
       "      <td>29</td>\n",
       "      <td>-0.705882</td>\n",
       "      <td>0.082524</td>\n",
       "      <td>20.600000</td>\n",
       "      <td>0.291262</td>\n",
       "      <td>8.356505</td>\n",
       "      <td>20.600000</td>\n",
       "      <td>120</td>\n",
       "      <td>412</td>\n",
       "      <td>2.106796</td>\n",
       "      <td>0</td>\n",
       "      <td>6.720874</td>\n",
       "    </tr>\n",
       "    <tr>\n",
       "      <th>110</th>\n",
       "      <td>https://insights.blackcoffer.com/coronavirus-i...</td>\n",
       "      <td>24</td>\n",
       "      <td>64</td>\n",
       "      <td>-0.454545</td>\n",
       "      <td>0.086785</td>\n",
       "      <td>84.500000</td>\n",
       "      <td>0.199211</td>\n",
       "      <td>33.879684</td>\n",
       "      <td>84.500000</td>\n",
       "      <td>202</td>\n",
       "      <td>1014</td>\n",
       "      <td>1.941815</td>\n",
       "      <td>0</td>\n",
       "      <td>6.415187</td>\n",
       "    </tr>\n",
       "    <tr>\n",
       "      <th>111</th>\n",
       "      <td>https://insights.blackcoffer.com/what-are-the-...</td>\n",
       "      <td>90</td>\n",
       "      <td>33</td>\n",
       "      <td>0.463415</td>\n",
       "      <td>0.130159</td>\n",
       "      <td>15.000000</td>\n",
       "      <td>0.326984</td>\n",
       "      <td>6.130794</td>\n",
       "      <td>15.000000</td>\n",
       "      <td>309</td>\n",
       "      <td>945</td>\n",
       "      <td>2.148148</td>\n",
       "      <td>0</td>\n",
       "      <td>7.063492</td>\n",
       "    </tr>\n",
       "    <tr>\n",
       "      <th>112</th>\n",
       "      <td>https://insights.blackcoffer.com/marketing-dri...</td>\n",
       "      <td>28</td>\n",
       "      <td>22</td>\n",
       "      <td>0.120000</td>\n",
       "      <td>0.073314</td>\n",
       "      <td>12.178571</td>\n",
       "      <td>0.309384</td>\n",
       "      <td>4.995182</td>\n",
       "      <td>12.178571</td>\n",
       "      <td>211</td>\n",
       "      <td>682</td>\n",
       "      <td>2.187683</td>\n",
       "      <td>0</td>\n",
       "      <td>7.086510</td>\n",
       "    </tr>\n",
       "    <tr>\n",
       "      <th>113</th>\n",
       "      <td>https://insights.blackcoffer.com/continued-dem...</td>\n",
       "      <td>50</td>\n",
       "      <td>33</td>\n",
       "      <td>0.204819</td>\n",
       "      <td>0.147950</td>\n",
       "      <td>17.000000</td>\n",
       "      <td>0.399287</td>\n",
       "      <td>6.959715</td>\n",
       "      <td>17.000000</td>\n",
       "      <td>224</td>\n",
       "      <td>561</td>\n",
       "      <td>2.429590</td>\n",
       "      <td>0</td>\n",
       "      <td>7.782531</td>\n",
       "    </tr>\n",
       "  </tbody>\n",
       "</table>\n",
       "<p>114 rows × 14 columns</p>\n",
       "</div>"
      ],
      "text/plain": [
       "                                                   URL  Positive  Negative  \\\n",
       "0    https://insights.blackcoffer.com/rise-of-telem...        80        24   \n",
       "1    https://insights.blackcoffer.com/rise-of-e-hea...        38        13   \n",
       "2    https://insights.blackcoffer.com/rise-of-e-hea...        21        27   \n",
       "3    https://insights.blackcoffer.com/rise-of-telem...        35        27   \n",
       "4    https://insights.blackcoffer.com/rise-of-telem...        35        27   \n",
       "..                                                 ...       ...       ...   \n",
       "109  https://insights.blackcoffer.com/coronavirus-i...         5        29   \n",
       "110  https://insights.blackcoffer.com/coronavirus-i...        24        64   \n",
       "111  https://insights.blackcoffer.com/what-are-the-...        90        33   \n",
       "112  https://insights.blackcoffer.com/marketing-dri...        28        22   \n",
       "113  https://insights.blackcoffer.com/continued-dem...        50        33   \n",
       "\n",
       "     Polarity  Subjectivity  Avg_Sentence_Length  P_Complex_W       FOGI  \\\n",
       "0    0.538462      0.119678            15.245614     0.425777   6.268556   \n",
       "1    0.490196      0.173469            14.700000     0.455782   6.062313   \n",
       "2   -0.125000      0.085561             8.765625     0.311943   3.631027   \n",
       "3    0.129032      0.092125            14.319149     0.349183   5.867333   \n",
       "4    0.129032      0.092125            14.319149     0.349183   5.867333   \n",
       "..        ...           ...                  ...          ...        ...   \n",
       "109 -0.705882      0.082524            20.600000     0.291262   8.356505   \n",
       "110 -0.454545      0.086785            84.500000     0.199211  33.879684   \n",
       "111  0.463415      0.130159            15.000000     0.326984   6.130794   \n",
       "112  0.120000      0.073314            12.178571     0.309384   4.995182   \n",
       "113  0.204819      0.147950            17.000000     0.399287   6.959715   \n",
       "\n",
       "     Avg_N_Words_Per_Sent  Complex_Words  Word_Count  Syllables_Per_Word  \\\n",
       "0               15.245614            370         869            2.567319   \n",
       "1               14.700000            134         294            2.397959   \n",
       "2                8.765625            175         561            2.108734   \n",
       "3               14.319149            235         673            2.210996   \n",
       "4               14.319149            235         673            2.210996   \n",
       "..                    ...            ...         ...                 ...   \n",
       "109             20.600000            120         412            2.106796   \n",
       "110             84.500000            202        1014            1.941815   \n",
       "111             15.000000            309         945            2.148148   \n",
       "112             12.178571            211         682            2.187683   \n",
       "113             17.000000            224         561            2.429590   \n",
       "\n",
       "     Person_Pronouns  Avg_Word_Length  \n",
       "0                  0         7.743383  \n",
       "1                  0         8.040816  \n",
       "2                  0         7.244207  \n",
       "3                  0         7.335810  \n",
       "4                  0         7.335810  \n",
       "..               ...              ...  \n",
       "109                0         6.720874  \n",
       "110                0         6.415187  \n",
       "111                0         7.063492  \n",
       "112                0         7.086510  \n",
       "113                0         7.782531  \n",
       "\n",
       "[114 rows x 14 columns]"
      ]
     },
     "execution_count": 92,
     "metadata": {},
     "output_type": "execute_result"
    }
   ],
   "source": [
    "result_df"
   ]
  },
  {
   "cell_type": "code",
   "execution_count": 94,
   "id": "10c775d2",
   "metadata": {},
   "outputs": [],
   "source": [
    "result_df.to_csv('DataFinal.csv')"
   ]
  },
  {
   "cell_type": "code",
   "execution_count": null,
   "id": "c9077783",
   "metadata": {},
   "outputs": [],
   "source": []
  }
 ],
 "metadata": {
  "kernelspec": {
   "display_name": "Python 3",
   "language": "python",
   "name": "python3"
  },
  "language_info": {
   "codemirror_mode": {
    "name": "ipython",
    "version": 3
   },
   "file_extension": ".py",
   "mimetype": "text/x-python",
   "name": "python",
   "nbconvert_exporter": "python",
   "pygments_lexer": "ipython3",
   "version": "3.6.15"
  }
 },
 "nbformat": 4,
 "nbformat_minor": 5
}
